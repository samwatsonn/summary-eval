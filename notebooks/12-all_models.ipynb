{
 "cells": [
  {
   "cell_type": "markdown",
   "metadata": {},
   "source": [
    "Classifier Experiment.\n",
    "Using HGBM and MLP for Manual features, BERT embeddings (text only) and DeBERTa embeddings (text only)"
   ]
  },
  {
   "cell_type": "code",
   "execution_count": 9,
   "metadata": {},
   "outputs": [],
   "source": [
    "import sys\n",
    "import numpy as np\n",
    "from sklearn.model_selection import train_test_split\n",
    "from sklearn.multioutput import MultiOutputRegressor\n",
    "from sklearn.ensemble import HistGradientBoostingRegressor\n",
    "import pandas as pd\n",
    "import ast\n",
    "import re\n",
    "\n",
    "sys.path.append('C:/Users/jp3g20/Desktop/m/summary-eval')\n",
    "from summary_eval.data import summary_df, prompts_df\n",
    "from summary_eval.settings import TRAIN_SIZE\n",
    "from summary_eval.testing import cross_validate\n",
    "\n",
    "def convert_to_list(string):\n",
    "    # Use regular expression to extract numbers from the string\n",
    "    numbers = re.findall(r'[-+]?\\d*\\.\\d+e[-+]?\\d+|\\d+', string)\n",
    "    # Convert the extracted numbers to floats\n",
    "    numbers = [float(num) for num in numbers]\n",
    "    return numbers\n",
    "\n",
    "converters = {'text_embeddings': convert_to_list,\n",
    "              'prompt_embeddings': convert_to_list,\n",
    "              'prompt_question_embeddings': convert_to_list}\n",
    "\n",
    "bert_embeddings = pd.read_csv('bert_embeddings.csv', converters=converters)\n",
    "roberta_embeddings = pd.read_csv('roberta_embeddings.csv', converters=converters)\n",
    "features_df = pd.read_csv('feature_df.csv') # Maybe append some of my features to this later on for improving results but for now use this as a base."
   ]
  },
  {
   "cell_type": "code",
   "execution_count": 25,
   "metadata": {},
   "outputs": [],
   "source": [
    "model = MultiOutputRegressor(HistGradientBoostingRegressor(random_state=0))"
   ]
  },
  {
   "cell_type": "code",
   "execution_count": 26,
   "metadata": {},
   "outputs": [
    {
     "name": "stderr",
     "output_type": "stream",
     "text": [
      "2024-05-12 12:26:51,554 - INFO - Using 5x5 cross validation\n"
     ]
    },
    {
     "data": {
      "application/vnd.jupyter.widget-view+json": {
       "model_id": "4d156ede8481432eb0f627b3191e726c",
       "version_major": 2,
       "version_minor": 0
      },
      "text/plain": [
       "  0%|          | 0/25 [00:00<?, ?it/s]"
      ]
     },
     "metadata": {},
     "output_type": "display_data"
    },
    {
     "data": {
      "text/html": [
       "<div>\n",
       "<style scoped>\n",
       "    .dataframe tbody tr th:only-of-type {\n",
       "        vertical-align: middle;\n",
       "    }\n",
       "\n",
       "    .dataframe tbody tr th {\n",
       "        vertical-align: top;\n",
       "    }\n",
       "\n",
       "    .dataframe thead tr th {\n",
       "        text-align: left;\n",
       "    }\n",
       "</style>\n",
       "<table border=\"1\" class=\"dataframe\">\n",
       "  <thead>\n",
       "    <tr>\n",
       "      <th>Metric</th>\n",
       "      <th colspan=\"3\" halign=\"left\">rmse</th>\n",
       "      <th colspan=\"3\" halign=\"left\">mae</th>\n",
       "      <th colspan=\"3\" halign=\"left\">r2</th>\n",
       "    </tr>\n",
       "    <tr>\n",
       "      <th>Target</th>\n",
       "      <th>content</th>\n",
       "      <th>wording</th>\n",
       "      <th>mean_columnwise</th>\n",
       "      <th>content</th>\n",
       "      <th>wording</th>\n",
       "      <th>mean_columnwise</th>\n",
       "      <th>content</th>\n",
       "      <th>wording</th>\n",
       "      <th>mean_columnwise</th>\n",
       "    </tr>\n",
       "  </thead>\n",
       "  <tbody>\n",
       "    <tr>\n",
       "      <th>mean</th>\n",
       "      <td>0.483903</td>\n",
       "      <td>0.633806</td>\n",
       "      <td>0.558854</td>\n",
       "      <td>0.377755</td>\n",
       "      <td>0.499422</td>\n",
       "      <td>0.438588</td>\n",
       "      <td>0.783767</td>\n",
       "      <td>0.629315</td>\n",
       "      <td>0.706541</td>\n",
       "    </tr>\n",
       "    <tr>\n",
       "      <th>stdev</th>\n",
       "      <td>0.011953</td>\n",
       "      <td>0.01477</td>\n",
       "      <td>0.013362</td>\n",
       "      <td>0.008439</td>\n",
       "      <td>0.011006</td>\n",
       "      <td>0.009723</td>\n",
       "      <td>0.013819</td>\n",
       "      <td>0.016656</td>\n",
       "      <td>0.015237</td>\n",
       "    </tr>\n",
       "    <tr>\n",
       "      <th>n_trials</th>\n",
       "      <td>25</td>\n",
       "      <td>25</td>\n",
       "      <td>2</td>\n",
       "      <td>25</td>\n",
       "      <td>25</td>\n",
       "      <td>2</td>\n",
       "      <td>25</td>\n",
       "      <td>25</td>\n",
       "      <td>2</td>\n",
       "    </tr>\n",
       "  </tbody>\n",
       "</table>\n",
       "</div>"
      ],
      "text/plain": [
       "Metric        rmse                                 mae            \\\n",
       "Target     content   wording mean_columnwise   content   wording   \n",
       "mean      0.483903  0.633806        0.558854  0.377755  0.499422   \n",
       "stdev     0.011953   0.01477        0.013362  0.008439  0.011006   \n",
       "n_trials        25        25               2        25        25   \n",
       "\n",
       "Metric                          r2                            \n",
       "Target   mean_columnwise   content   wording mean_columnwise  \n",
       "mean            0.438588  0.783767  0.629315        0.706541  \n",
       "stdev           0.009723  0.013819  0.016656        0.015237  \n",
       "n_trials               2        25        25               2  "
      ]
     },
     "execution_count": 26,
     "metadata": {},
     "output_type": "execute_result"
    }
   ],
   "source": [
    "X_text_embeddings = np.vstack(bert_embeddings['text_embeddings'].values)\n",
    "\n",
    "y = summary_df[['content', 'wording']]\n",
    "X_train, X_test, y_train, y_test = train_test_split(X_text_embeddings, y, test_size=0.2, random_state=42)\n",
    "X_train = pd.DataFrame(X_train)\n",
    "y_train = pd.DataFrame(y_train)\n",
    "cross_validate(model, X_train, y_train,5,5)"
   ]
  },
  {
   "cell_type": "code",
   "execution_count": 27,
   "metadata": {},
   "outputs": [
    {
     "name": "stderr",
     "output_type": "stream",
     "text": [
      "2024-05-12 12:30:32,817 - INFO - Using 5x5 cross validation\n"
     ]
    },
    {
     "data": {
      "application/vnd.jupyter.widget-view+json": {
       "model_id": "ca6423552fd047679aa7af292259a260",
       "version_major": 2,
       "version_minor": 0
      },
      "text/plain": [
       "  0%|          | 0/25 [00:00<?, ?it/s]"
      ]
     },
     "metadata": {},
     "output_type": "display_data"
    },
    {
     "data": {
      "text/html": [
       "<div>\n",
       "<style scoped>\n",
       "    .dataframe tbody tr th:only-of-type {\n",
       "        vertical-align: middle;\n",
       "    }\n",
       "\n",
       "    .dataframe tbody tr th {\n",
       "        vertical-align: top;\n",
       "    }\n",
       "\n",
       "    .dataframe thead tr th {\n",
       "        text-align: left;\n",
       "    }\n",
       "</style>\n",
       "<table border=\"1\" class=\"dataframe\">\n",
       "  <thead>\n",
       "    <tr>\n",
       "      <th>Metric</th>\n",
       "      <th colspan=\"3\" halign=\"left\">rmse</th>\n",
       "      <th colspan=\"3\" halign=\"left\">mae</th>\n",
       "      <th colspan=\"3\" halign=\"left\">r2</th>\n",
       "    </tr>\n",
       "    <tr>\n",
       "      <th>Target</th>\n",
       "      <th>content</th>\n",
       "      <th>wording</th>\n",
       "      <th>mean_columnwise</th>\n",
       "      <th>content</th>\n",
       "      <th>wording</th>\n",
       "      <th>mean_columnwise</th>\n",
       "      <th>content</th>\n",
       "      <th>wording</th>\n",
       "      <th>mean_columnwise</th>\n",
       "    </tr>\n",
       "  </thead>\n",
       "  <tbody>\n",
       "    <tr>\n",
       "      <th>mean</th>\n",
       "      <td>0.451093</td>\n",
       "      <td>0.613936</td>\n",
       "      <td>0.532515</td>\n",
       "      <td>0.343702</td>\n",
       "      <td>0.476911</td>\n",
       "      <td>0.410307</td>\n",
       "      <td>0.812135</td>\n",
       "      <td>0.652221</td>\n",
       "      <td>0.732178</td>\n",
       "    </tr>\n",
       "    <tr>\n",
       "      <th>stdev</th>\n",
       "      <td>0.012566</td>\n",
       "      <td>0.014743</td>\n",
       "      <td>0.013654</td>\n",
       "      <td>0.008777</td>\n",
       "      <td>0.010666</td>\n",
       "      <td>0.009722</td>\n",
       "      <td>0.011884</td>\n",
       "      <td>0.015148</td>\n",
       "      <td>0.013516</td>\n",
       "    </tr>\n",
       "    <tr>\n",
       "      <th>n_trials</th>\n",
       "      <td>25</td>\n",
       "      <td>25</td>\n",
       "      <td>2</td>\n",
       "      <td>25</td>\n",
       "      <td>25</td>\n",
       "      <td>2</td>\n",
       "      <td>25</td>\n",
       "      <td>25</td>\n",
       "      <td>2</td>\n",
       "    </tr>\n",
       "  </tbody>\n",
       "</table>\n",
       "</div>"
      ],
      "text/plain": [
       "Metric        rmse                                 mae            \\\n",
       "Target     content   wording mean_columnwise   content   wording   \n",
       "mean      0.451093  0.613936        0.532515  0.343702  0.476911   \n",
       "stdev     0.012566  0.014743        0.013654  0.008777  0.010666   \n",
       "n_trials        25        25               2        25        25   \n",
       "\n",
       "Metric                          r2                            \n",
       "Target   mean_columnwise   content   wording mean_columnwise  \n",
       "mean            0.410307  0.812135  0.652221        0.732178  \n",
       "stdev           0.009722  0.011884  0.015148        0.013516  \n",
       "n_trials               2        25        25               2  "
      ]
     },
     "execution_count": 27,
     "metadata": {},
     "output_type": "execute_result"
    }
   ],
   "source": [
    "X_text_embeddings = np.vstack(roberta_embeddings['text_embeddings'].values)\n",
    "\n",
    "X_train, X_test, y_train, y_test = train_test_split(X_text_embeddings, y, test_size=0.2, random_state=42)\n",
    "X_train = pd.DataFrame(X_train)\n",
    "y_train = pd.DataFrame(y_train)\n",
    "cross_validate(model, X_train, y_train,5,5)"
   ]
  },
  {
   "cell_type": "code",
   "execution_count": 29,
   "metadata": {},
   "outputs": [
    {
     "name": "stderr",
     "output_type": "stream",
     "text": [
      "2024-05-12 12:35:01,670 - INFO - Using 5x5 cross validation\n"
     ]
    },
    {
     "data": {
      "application/vnd.jupyter.widget-view+json": {
       "model_id": "2227057e196e4f1389da6142442adb9b",
       "version_major": 2,
       "version_minor": 0
      },
      "text/plain": [
       "  0%|          | 0/25 [00:00<?, ?it/s]"
      ]
     },
     "metadata": {},
     "output_type": "display_data"
    },
    {
     "data": {
      "text/html": [
       "<div>\n",
       "<style scoped>\n",
       "    .dataframe tbody tr th:only-of-type {\n",
       "        vertical-align: middle;\n",
       "    }\n",
       "\n",
       "    .dataframe tbody tr th {\n",
       "        vertical-align: top;\n",
       "    }\n",
       "\n",
       "    .dataframe thead tr th {\n",
       "        text-align: left;\n",
       "    }\n",
       "</style>\n",
       "<table border=\"1\" class=\"dataframe\">\n",
       "  <thead>\n",
       "    <tr>\n",
       "      <th>Metric</th>\n",
       "      <th colspan=\"3\" halign=\"left\">rmse</th>\n",
       "      <th colspan=\"3\" halign=\"left\">mae</th>\n",
       "      <th colspan=\"3\" halign=\"left\">r2</th>\n",
       "    </tr>\n",
       "    <tr>\n",
       "      <th>Target</th>\n",
       "      <th>content</th>\n",
       "      <th>wording</th>\n",
       "      <th>mean_columnwise</th>\n",
       "      <th>content</th>\n",
       "      <th>wording</th>\n",
       "      <th>mean_columnwise</th>\n",
       "      <th>content</th>\n",
       "      <th>wording</th>\n",
       "      <th>mean_columnwise</th>\n",
       "    </tr>\n",
       "  </thead>\n",
       "  <tbody>\n",
       "    <tr>\n",
       "      <th>mean</th>\n",
       "      <td>0.479718</td>\n",
       "      <td>0.656005</td>\n",
       "      <td>0.567861</td>\n",
       "      <td>0.360438</td>\n",
       "      <td>0.501057</td>\n",
       "      <td>0.430747</td>\n",
       "      <td>0.787633</td>\n",
       "      <td>0.602898</td>\n",
       "      <td>0.695266</td>\n",
       "    </tr>\n",
       "    <tr>\n",
       "      <th>stdev</th>\n",
       "      <td>0.012821</td>\n",
       "      <td>0.016264</td>\n",
       "      <td>0.014542</td>\n",
       "      <td>0.007939</td>\n",
       "      <td>0.011102</td>\n",
       "      <td>0.00952</td>\n",
       "      <td>0.011592</td>\n",
       "      <td>0.018375</td>\n",
       "      <td>0.014984</td>\n",
       "    </tr>\n",
       "    <tr>\n",
       "      <th>n_trials</th>\n",
       "      <td>25</td>\n",
       "      <td>25</td>\n",
       "      <td>2</td>\n",
       "      <td>25</td>\n",
       "      <td>25</td>\n",
       "      <td>2</td>\n",
       "      <td>25</td>\n",
       "      <td>25</td>\n",
       "      <td>2</td>\n",
       "    </tr>\n",
       "  </tbody>\n",
       "</table>\n",
       "</div>"
      ],
      "text/plain": [
       "Metric        rmse                                 mae            \\\n",
       "Target     content   wording mean_columnwise   content   wording   \n",
       "mean      0.479718  0.656005        0.567861  0.360438  0.501057   \n",
       "stdev     0.012821  0.016264        0.014542  0.007939  0.011102   \n",
       "n_trials        25        25               2        25        25   \n",
       "\n",
       "Metric                          r2                            \n",
       "Target   mean_columnwise   content   wording mean_columnwise  \n",
       "mean            0.430747  0.787633  0.602898        0.695266  \n",
       "stdev            0.00952  0.011592  0.018375        0.014984  \n",
       "n_trials               2        25        25               2  "
      ]
     },
     "execution_count": 29,
     "metadata": {},
     "output_type": "execute_result"
    }
   ],
   "source": [
    "features_df = features_df.drop(columns=['student_id', 'prompt_id', 'text', 'content', 'wording'])\n",
    "X_train, X_test, y_train, y_test = train_test_split(features_df, y, test_size=0.2, random_state=42)\n",
    "X_train = pd.DataFrame(X_train)\n",
    "y_train = pd.DataFrame(y_train)\n",
    "cross_validate(model, X_train, y_train,5,5)"
   ]
  },
  {
   "cell_type": "code",
   "execution_count": 10,
   "metadata": {},
   "outputs": [],
   "source": [
    "from sklearn.neural_network import MLPRegressor\n",
    "model = MLPRegressor(learning_rate='adaptive', learning_rate_init=0.001, hidden_layer_sizes=(512))"
   ]
  },
  {
   "cell_type": "code",
   "execution_count": 3,
   "metadata": {},
   "outputs": [
    {
     "name": "stderr",
     "output_type": "stream",
     "text": [
      "2024-05-12 16:29:03,167 - INFO - Using 2x5 cross validation\n"
     ]
    },
    {
     "data": {
      "application/vnd.jupyter.widget-view+json": {
       "model_id": "8cb076300e3041828eb9970d6365f303",
       "version_major": 2,
       "version_minor": 0
      },
      "text/plain": [
       "  0%|          | 0/10 [00:00<?, ?it/s]"
      ]
     },
     "metadata": {},
     "output_type": "display_data"
    },
    {
     "data": {
      "text/html": [
       "<div>\n",
       "<style scoped>\n",
       "    .dataframe tbody tr th:only-of-type {\n",
       "        vertical-align: middle;\n",
       "    }\n",
       "\n",
       "    .dataframe tbody tr th {\n",
       "        vertical-align: top;\n",
       "    }\n",
       "\n",
       "    .dataframe thead tr th {\n",
       "        text-align: left;\n",
       "    }\n",
       "</style>\n",
       "<table border=\"1\" class=\"dataframe\">\n",
       "  <thead>\n",
       "    <tr>\n",
       "      <th>Metric</th>\n",
       "      <th colspan=\"3\" halign=\"left\">rmse</th>\n",
       "      <th colspan=\"3\" halign=\"left\">mae</th>\n",
       "      <th colspan=\"3\" halign=\"left\">r2</th>\n",
       "    </tr>\n",
       "    <tr>\n",
       "      <th>Target</th>\n",
       "      <th>content</th>\n",
       "      <th>wording</th>\n",
       "      <th>mean_columnwise</th>\n",
       "      <th>content</th>\n",
       "      <th>wording</th>\n",
       "      <th>mean_columnwise</th>\n",
       "      <th>content</th>\n",
       "      <th>wording</th>\n",
       "      <th>mean_columnwise</th>\n",
       "    </tr>\n",
       "  </thead>\n",
       "  <tbody>\n",
       "    <tr>\n",
       "      <th>mean</th>\n",
       "      <td>0.51052</td>\n",
       "      <td>0.669686</td>\n",
       "      <td>0.590103</td>\n",
       "      <td>0.400007</td>\n",
       "      <td>0.523895</td>\n",
       "      <td>0.461951</td>\n",
       "      <td>0.759531</td>\n",
       "      <td>0.58615</td>\n",
       "      <td>0.672841</td>\n",
       "    </tr>\n",
       "    <tr>\n",
       "      <th>stdev</th>\n",
       "      <td>0.006398</td>\n",
       "      <td>0.013297</td>\n",
       "      <td>0.009847</td>\n",
       "      <td>0.005541</td>\n",
       "      <td>0.010924</td>\n",
       "      <td>0.008232</td>\n",
       "      <td>0.011794</td>\n",
       "      <td>0.017586</td>\n",
       "      <td>0.01469</td>\n",
       "    </tr>\n",
       "    <tr>\n",
       "      <th>n_trials</th>\n",
       "      <td>10</td>\n",
       "      <td>10</td>\n",
       "      <td>2</td>\n",
       "      <td>10</td>\n",
       "      <td>10</td>\n",
       "      <td>2</td>\n",
       "      <td>10</td>\n",
       "      <td>10</td>\n",
       "      <td>2</td>\n",
       "    </tr>\n",
       "  </tbody>\n",
       "</table>\n",
       "</div>"
      ],
      "text/plain": [
       "Metric        rmse                                 mae            \\\n",
       "Target     content   wording mean_columnwise   content   wording   \n",
       "mean       0.51052  0.669686        0.590103  0.400007  0.523895   \n",
       "stdev     0.006398  0.013297        0.009847  0.005541  0.010924   \n",
       "n_trials        10        10               2        10        10   \n",
       "\n",
       "Metric                          r2                            \n",
       "Target   mean_columnwise   content   wording mean_columnwise  \n",
       "mean            0.461951  0.759531   0.58615        0.672841  \n",
       "stdev           0.008232  0.011794  0.017586         0.01469  \n",
       "n_trials               2        10        10               2  "
      ]
     },
     "execution_count": 3,
     "metadata": {},
     "output_type": "execute_result"
    }
   ],
   "source": [
    "\n",
    "from sklearn.model_selection import KFold, GridSearchCV\n",
    "\n",
    "X_text_embeddings = np.vstack(bert_embeddings['text_embeddings'].values)\n",
    "y = summary_df[['content', 'wording']]\n",
    "X_train, X_test, y_train, y_test = train_test_split(X_text_embeddings, y, test_size=0.2, random_state=42)\n",
    "X_train = pd.DataFrame(X_train)\n",
    "y_train = pd.DataFrame(y_train)\n",
    "\n",
    "cross_validate(model, X_train, y_train,5,2)\n"
   ]
  },
  {
   "cell_type": "code",
   "execution_count": 4,
   "metadata": {},
   "outputs": [
    {
     "name": "stderr",
     "output_type": "stream",
     "text": [
      "2024-05-12 16:38:03,497 - INFO - Using 2x5 cross validation\n"
     ]
    },
    {
     "data": {
      "application/vnd.jupyter.widget-view+json": {
       "model_id": "cb8c51b023034bd0a4d90839c5397739",
       "version_major": 2,
       "version_minor": 0
      },
      "text/plain": [
       "  0%|          | 0/10 [00:00<?, ?it/s]"
      ]
     },
     "metadata": {},
     "output_type": "display_data"
    },
    {
     "name": "stderr",
     "output_type": "stream",
     "text": [
      "c:\\Users\\jp3g20\\Desktop\\m\\summary-eval\\venv\\Lib\\site-packages\\sklearn\\neural_network\\_multilayer_perceptron.py:691: ConvergenceWarning: Stochastic Optimizer: Maximum iterations (200) reached and the optimization hasn't converged yet.\n",
      "  warnings.warn(\n",
      "c:\\Users\\jp3g20\\Desktop\\m\\summary-eval\\venv\\Lib\\site-packages\\sklearn\\neural_network\\_multilayer_perceptron.py:691: ConvergenceWarning: Stochastic Optimizer: Maximum iterations (200) reached and the optimization hasn't converged yet.\n",
      "  warnings.warn(\n",
      "c:\\Users\\jp3g20\\Desktop\\m\\summary-eval\\venv\\Lib\\site-packages\\sklearn\\neural_network\\_multilayer_perceptron.py:691: ConvergenceWarning: Stochastic Optimizer: Maximum iterations (200) reached and the optimization hasn't converged yet.\n",
      "  warnings.warn(\n",
      "c:\\Users\\jp3g20\\Desktop\\m\\summary-eval\\venv\\Lib\\site-packages\\sklearn\\neural_network\\_multilayer_perceptron.py:691: ConvergenceWarning: Stochastic Optimizer: Maximum iterations (200) reached and the optimization hasn't converged yet.\n",
      "  warnings.warn(\n",
      "c:\\Users\\jp3g20\\Desktop\\m\\summary-eval\\venv\\Lib\\site-packages\\sklearn\\neural_network\\_multilayer_perceptron.py:691: ConvergenceWarning: Stochastic Optimizer: Maximum iterations (200) reached and the optimization hasn't converged yet.\n",
      "  warnings.warn(\n"
     ]
    },
    {
     "data": {
      "text/html": [
       "<div>\n",
       "<style scoped>\n",
       "    .dataframe tbody tr th:only-of-type {\n",
       "        vertical-align: middle;\n",
       "    }\n",
       "\n",
       "    .dataframe tbody tr th {\n",
       "        vertical-align: top;\n",
       "    }\n",
       "\n",
       "    .dataframe thead tr th {\n",
       "        text-align: left;\n",
       "    }\n",
       "</style>\n",
       "<table border=\"1\" class=\"dataframe\">\n",
       "  <thead>\n",
       "    <tr>\n",
       "      <th>Metric</th>\n",
       "      <th colspan=\"3\" halign=\"left\">rmse</th>\n",
       "      <th colspan=\"3\" halign=\"left\">mae</th>\n",
       "      <th colspan=\"3\" halign=\"left\">r2</th>\n",
       "    </tr>\n",
       "    <tr>\n",
       "      <th>Target</th>\n",
       "      <th>content</th>\n",
       "      <th>wording</th>\n",
       "      <th>mean_columnwise</th>\n",
       "      <th>content</th>\n",
       "      <th>wording</th>\n",
       "      <th>mean_columnwise</th>\n",
       "      <th>content</th>\n",
       "      <th>wording</th>\n",
       "      <th>mean_columnwise</th>\n",
       "    </tr>\n",
       "  </thead>\n",
       "  <tbody>\n",
       "    <tr>\n",
       "      <th>mean</th>\n",
       "      <td>0.501828</td>\n",
       "      <td>0.679494</td>\n",
       "      <td>0.590661</td>\n",
       "      <td>0.390941</td>\n",
       "      <td>0.531308</td>\n",
       "      <td>0.461125</td>\n",
       "      <td>0.767825</td>\n",
       "      <td>0.573988</td>\n",
       "      <td>0.670906</td>\n",
       "    </tr>\n",
       "    <tr>\n",
       "      <th>stdev</th>\n",
       "      <td>0.011451</td>\n",
       "      <td>0.010899</td>\n",
       "      <td>0.011175</td>\n",
       "      <td>0.011459</td>\n",
       "      <td>0.010195</td>\n",
       "      <td>0.010827</td>\n",
       "      <td>0.008555</td>\n",
       "      <td>0.015399</td>\n",
       "      <td>0.011977</td>\n",
       "    </tr>\n",
       "    <tr>\n",
       "      <th>n_trials</th>\n",
       "      <td>10</td>\n",
       "      <td>10</td>\n",
       "      <td>2</td>\n",
       "      <td>10</td>\n",
       "      <td>10</td>\n",
       "      <td>2</td>\n",
       "      <td>10</td>\n",
       "      <td>10</td>\n",
       "      <td>2</td>\n",
       "    </tr>\n",
       "  </tbody>\n",
       "</table>\n",
       "</div>"
      ],
      "text/plain": [
       "Metric        rmse                                 mae            \\\n",
       "Target     content   wording mean_columnwise   content   wording   \n",
       "mean      0.501828  0.679494        0.590661  0.390941  0.531308   \n",
       "stdev     0.011451  0.010899        0.011175  0.011459  0.010195   \n",
       "n_trials        10        10               2        10        10   \n",
       "\n",
       "Metric                          r2                            \n",
       "Target   mean_columnwise   content   wording mean_columnwise  \n",
       "mean            0.461125  0.767825  0.573988        0.670906  \n",
       "stdev           0.010827  0.008555  0.015399        0.011977  \n",
       "n_trials               2        10        10               2  "
      ]
     },
     "execution_count": 4,
     "metadata": {},
     "output_type": "execute_result"
    }
   ],
   "source": [
    "X_text_embeddings_roberta = np.vstack(roberta_embeddings['text_embeddings'].values)\n",
    "\n",
    "X_train, X_test, y_train, y_test = train_test_split(X_text_embeddings_roberta, y, test_size=0.2, random_state=42)\n",
    "X_train = pd.DataFrame(X_train)\n",
    "y_train = pd.DataFrame(y_train)\n",
    "cross_validate(model, X_train, y_train,5,2)"
   ]
  },
  {
   "cell_type": "code",
   "execution_count": 13,
   "metadata": {},
   "outputs": [
    {
     "name": "stderr",
     "output_type": "stream",
     "text": [
      "2024-05-12 16:56:51,472 - INFO - Using 2x5 cross validation\n"
     ]
    },
    {
     "data": {
      "application/vnd.jupyter.widget-view+json": {
       "model_id": "16400adee9de4c1d84b8538376b5b011",
       "version_major": 2,
       "version_minor": 0
      },
      "text/plain": [
       "  0%|          | 0/10 [00:00<?, ?it/s]"
      ]
     },
     "metadata": {},
     "output_type": "display_data"
    },
    {
     "data": {
      "text/html": [
       "<div>\n",
       "<style scoped>\n",
       "    .dataframe tbody tr th:only-of-type {\n",
       "        vertical-align: middle;\n",
       "    }\n",
       "\n",
       "    .dataframe tbody tr th {\n",
       "        vertical-align: top;\n",
       "    }\n",
       "\n",
       "    .dataframe thead tr th {\n",
       "        text-align: left;\n",
       "    }\n",
       "</style>\n",
       "<table border=\"1\" class=\"dataframe\">\n",
       "  <thead>\n",
       "    <tr>\n",
       "      <th>Metric</th>\n",
       "      <th colspan=\"3\" halign=\"left\">rmse</th>\n",
       "      <th colspan=\"3\" halign=\"left\">mae</th>\n",
       "      <th colspan=\"3\" halign=\"left\">r2</th>\n",
       "    </tr>\n",
       "    <tr>\n",
       "      <th>Target</th>\n",
       "      <th>content</th>\n",
       "      <th>wording</th>\n",
       "      <th>mean_columnwise</th>\n",
       "      <th>content</th>\n",
       "      <th>wording</th>\n",
       "      <th>mean_columnwise</th>\n",
       "      <th>content</th>\n",
       "      <th>wording</th>\n",
       "      <th>mean_columnwise</th>\n",
       "    </tr>\n",
       "  </thead>\n",
       "  <tbody>\n",
       "    <tr>\n",
       "      <th>mean</th>\n",
       "      <td>0.664758</td>\n",
       "      <td>0.827455</td>\n",
       "      <td>0.746107</td>\n",
       "      <td>0.482122</td>\n",
       "      <td>0.619712</td>\n",
       "      <td>0.550917</td>\n",
       "      <td>0.581952</td>\n",
       "      <td>0.35635</td>\n",
       "      <td>0.469151</td>\n",
       "    </tr>\n",
       "    <tr>\n",
       "      <th>stdev</th>\n",
       "      <td>0.12276</td>\n",
       "      <td>0.115594</td>\n",
       "      <td>0.119177</td>\n",
       "      <td>0.10675</td>\n",
       "      <td>0.078048</td>\n",
       "      <td>0.092399</td>\n",
       "      <td>0.166336</td>\n",
       "      <td>0.187894</td>\n",
       "      <td>0.177115</td>\n",
       "    </tr>\n",
       "    <tr>\n",
       "      <th>n_trials</th>\n",
       "      <td>10</td>\n",
       "      <td>10</td>\n",
       "      <td>2</td>\n",
       "      <td>10</td>\n",
       "      <td>10</td>\n",
       "      <td>2</td>\n",
       "      <td>10</td>\n",
       "      <td>10</td>\n",
       "      <td>2</td>\n",
       "    </tr>\n",
       "  </tbody>\n",
       "</table>\n",
       "</div>"
      ],
      "text/plain": [
       "Metric        rmse                                 mae            \\\n",
       "Target     content   wording mean_columnwise   content   wording   \n",
       "mean      0.664758  0.827455        0.746107  0.482122  0.619712   \n",
       "stdev      0.12276  0.115594        0.119177   0.10675  0.078048   \n",
       "n_trials        10        10               2        10        10   \n",
       "\n",
       "Metric                          r2                            \n",
       "Target   mean_columnwise   content   wording mean_columnwise  \n",
       "mean            0.550917  0.581952   0.35635        0.469151  \n",
       "stdev           0.092399  0.166336  0.187894        0.177115  \n",
       "n_trials               2        10        10               2  "
      ]
     },
     "execution_count": 13,
     "metadata": {},
     "output_type": "execute_result"
    }
   ],
   "source": [
    "#features_df = features_df.drop(columns=['student_id', 'prompt_id', 'text', 'content', 'wording'])\n",
    "X_train, X_test, y_train, y_test = train_test_split(features_df, y, test_size=0.2, random_state=42)\n",
    "X_train = pd.DataFrame(X_train)\n",
    "X_train.fillna(X_train.mean(), inplace=True)\n",
    "y_train = pd.DataFrame(y_train)\n",
    "cross_validate(model, X_train, y_train,5,2)"
   ]
  },
  {
   "cell_type": "markdown",
   "metadata": {},
   "source": [
    "Now that it is apparent that HGBM performs better for this problem than and MLP, work can be done on combining features selected manually with embeddings with both early and late fusion."
   ]
  },
  {
   "cell_type": "markdown",
   "metadata": {},
   "source": [
    "First early fusion"
   ]
  },
  {
   "cell_type": "code",
   "execution_count": 14,
   "metadata": {},
   "outputs": [],
   "source": [
    "model = MultiOutputRegressor(HistGradientBoostingRegressor(random_state=0))"
   ]
  },
  {
   "cell_type": "code",
   "execution_count": 15,
   "metadata": {},
   "outputs": [
    {
     "name": "stderr",
     "output_type": "stream",
     "text": [
      "2024-05-12 16:58:08,467 - INFO - Using 2x5 cross validation\n"
     ]
    },
    {
     "data": {
      "application/vnd.jupyter.widget-view+json": {
       "model_id": "d8f523c8fe904575bd49b4650a0185c6",
       "version_major": 2,
       "version_minor": 0
      },
      "text/plain": [
       "  0%|          | 0/10 [00:00<?, ?it/s]"
      ]
     },
     "metadata": {},
     "output_type": "display_data"
    },
    {
     "data": {
      "text/html": [
       "<div>\n",
       "<style scoped>\n",
       "    .dataframe tbody tr th:only-of-type {\n",
       "        vertical-align: middle;\n",
       "    }\n",
       "\n",
       "    .dataframe tbody tr th {\n",
       "        vertical-align: top;\n",
       "    }\n",
       "\n",
       "    .dataframe thead tr th {\n",
       "        text-align: left;\n",
       "    }\n",
       "</style>\n",
       "<table border=\"1\" class=\"dataframe\">\n",
       "  <thead>\n",
       "    <tr>\n",
       "      <th>Metric</th>\n",
       "      <th colspan=\"3\" halign=\"left\">rmse</th>\n",
       "      <th colspan=\"3\" halign=\"left\">mae</th>\n",
       "      <th colspan=\"3\" halign=\"left\">r2</th>\n",
       "    </tr>\n",
       "    <tr>\n",
       "      <th>Target</th>\n",
       "      <th>content</th>\n",
       "      <th>wording</th>\n",
       "      <th>mean_columnwise</th>\n",
       "      <th>content</th>\n",
       "      <th>wording</th>\n",
       "      <th>mean_columnwise</th>\n",
       "      <th>content</th>\n",
       "      <th>wording</th>\n",
       "      <th>mean_columnwise</th>\n",
       "    </tr>\n",
       "  </thead>\n",
       "  <tbody>\n",
       "    <tr>\n",
       "      <th>mean</th>\n",
       "      <td>0.429643</td>\n",
       "      <td>0.578604</td>\n",
       "      <td>0.504123</td>\n",
       "      <td>0.325255</td>\n",
       "      <td>0.444293</td>\n",
       "      <td>0.384774</td>\n",
       "      <td>0.82975</td>\n",
       "      <td>0.691213</td>\n",
       "      <td>0.760481</td>\n",
       "    </tr>\n",
       "    <tr>\n",
       "      <th>stdev</th>\n",
       "      <td>0.014034</td>\n",
       "      <td>0.01384</td>\n",
       "      <td>0.013937</td>\n",
       "      <td>0.009547</td>\n",
       "      <td>0.01024</td>\n",
       "      <td>0.009894</td>\n",
       "      <td>0.009708</td>\n",
       "      <td>0.010437</td>\n",
       "      <td>0.010073</td>\n",
       "    </tr>\n",
       "    <tr>\n",
       "      <th>n_trials</th>\n",
       "      <td>10</td>\n",
       "      <td>10</td>\n",
       "      <td>2</td>\n",
       "      <td>10</td>\n",
       "      <td>10</td>\n",
       "      <td>2</td>\n",
       "      <td>10</td>\n",
       "      <td>10</td>\n",
       "      <td>2</td>\n",
       "    </tr>\n",
       "  </tbody>\n",
       "</table>\n",
       "</div>"
      ],
      "text/plain": [
       "Metric        rmse                                 mae            \\\n",
       "Target     content   wording mean_columnwise   content   wording   \n",
       "mean      0.429643  0.578604        0.504123  0.325255  0.444293   \n",
       "stdev     0.014034   0.01384        0.013937  0.009547   0.01024   \n",
       "n_trials        10        10               2        10        10   \n",
       "\n",
       "Metric                          r2                            \n",
       "Target   mean_columnwise   content   wording mean_columnwise  \n",
       "mean            0.384774   0.82975  0.691213        0.760481  \n",
       "stdev           0.009894  0.009708  0.010437        0.010073  \n",
       "n_trials               2        10        10               2  "
      ]
     },
     "execution_count": 15,
     "metadata": {},
     "output_type": "execute_result"
    }
   ],
   "source": [
    "X_combined = np.hstack((X_text_embeddings, features_df))\n",
    "X_train, X_test, y_train, y_test = train_test_split(X_combined, y, test_size=0.2, random_state=42)\n",
    "X_train = pd.DataFrame(X_train)\n",
    "y_train = pd.DataFrame(y_train)\n",
    "cross_validate(model, X_train, y_train,5,2)"
   ]
  },
  {
   "cell_type": "code",
   "execution_count": 16,
   "metadata": {},
   "outputs": [
    {
     "name": "stderr",
     "output_type": "stream",
     "text": [
      "2024-05-12 16:59:39,206 - INFO - Using 2x5 cross validation\n"
     ]
    },
    {
     "data": {
      "application/vnd.jupyter.widget-view+json": {
       "model_id": "4061836772c4410cba988e96a10a2ab8",
       "version_major": 2,
       "version_minor": 0
      },
      "text/plain": [
       "  0%|          | 0/10 [00:00<?, ?it/s]"
      ]
     },
     "metadata": {},
     "output_type": "display_data"
    },
    {
     "data": {
      "text/html": [
       "<div>\n",
       "<style scoped>\n",
       "    .dataframe tbody tr th:only-of-type {\n",
       "        vertical-align: middle;\n",
       "    }\n",
       "\n",
       "    .dataframe tbody tr th {\n",
       "        vertical-align: top;\n",
       "    }\n",
       "\n",
       "    .dataframe thead tr th {\n",
       "        text-align: left;\n",
       "    }\n",
       "</style>\n",
       "<table border=\"1\" class=\"dataframe\">\n",
       "  <thead>\n",
       "    <tr>\n",
       "      <th>Metric</th>\n",
       "      <th colspan=\"3\" halign=\"left\">rmse</th>\n",
       "      <th colspan=\"3\" halign=\"left\">mae</th>\n",
       "      <th colspan=\"3\" halign=\"left\">r2</th>\n",
       "    </tr>\n",
       "    <tr>\n",
       "      <th>Target</th>\n",
       "      <th>content</th>\n",
       "      <th>wording</th>\n",
       "      <th>mean_columnwise</th>\n",
       "      <th>content</th>\n",
       "      <th>wording</th>\n",
       "      <th>mean_columnwise</th>\n",
       "      <th>content</th>\n",
       "      <th>wording</th>\n",
       "      <th>mean_columnwise</th>\n",
       "    </tr>\n",
       "  </thead>\n",
       "  <tbody>\n",
       "    <tr>\n",
       "      <th>mean</th>\n",
       "      <td>0.431053</td>\n",
       "      <td>0.581322</td>\n",
       "      <td>0.506188</td>\n",
       "      <td>0.32516</td>\n",
       "      <td>0.445529</td>\n",
       "      <td>0.385345</td>\n",
       "      <td>0.828707</td>\n",
       "      <td>0.688292</td>\n",
       "      <td>0.7585</td>\n",
       "    </tr>\n",
       "    <tr>\n",
       "      <th>stdev</th>\n",
       "      <td>0.012916</td>\n",
       "      <td>0.017182</td>\n",
       "      <td>0.015049</td>\n",
       "      <td>0.008807</td>\n",
       "      <td>0.012685</td>\n",
       "      <td>0.010746</td>\n",
       "      <td>0.007592</td>\n",
       "      <td>0.013504</td>\n",
       "      <td>0.010548</td>\n",
       "    </tr>\n",
       "    <tr>\n",
       "      <th>n_trials</th>\n",
       "      <td>10</td>\n",
       "      <td>10</td>\n",
       "      <td>2</td>\n",
       "      <td>10</td>\n",
       "      <td>10</td>\n",
       "      <td>2</td>\n",
       "      <td>10</td>\n",
       "      <td>10</td>\n",
       "      <td>2</td>\n",
       "    </tr>\n",
       "  </tbody>\n",
       "</table>\n",
       "</div>"
      ],
      "text/plain": [
       "Metric        rmse                                 mae            \\\n",
       "Target     content   wording mean_columnwise   content   wording   \n",
       "mean      0.431053  0.581322        0.506188   0.32516  0.445529   \n",
       "stdev     0.012916  0.017182        0.015049  0.008807  0.012685   \n",
       "n_trials        10        10               2        10        10   \n",
       "\n",
       "Metric                          r2                            \n",
       "Target   mean_columnwise   content   wording mean_columnwise  \n",
       "mean            0.385345  0.828707  0.688292          0.7585  \n",
       "stdev           0.010746  0.007592  0.013504        0.010548  \n",
       "n_trials               2        10        10               2  "
      ]
     },
     "execution_count": 16,
     "metadata": {},
     "output_type": "execute_result"
    }
   ],
   "source": [
    "X_combined_roberta = np.hstack((X_text_embeddings_roberta, features_df))\n",
    "X_train, X_test, y_train, y_test = train_test_split(X_combined_roberta, y, test_size=0.2, random_state=42)\n",
    "X_train = pd.DataFrame(X_train)\n",
    "y_train = pd.DataFrame(y_train)\n",
    "cross_validate(model, X_train, y_train,5,2)"
   ]
  },
  {
   "cell_type": "markdown",
   "metadata": {},
   "source": [
    "The Late fusion - will begin with an average of embedding model output and features model output."
   ]
  },
  {
   "cell_type": "code",
   "execution_count": 34,
   "metadata": {},
   "outputs": [],
   "source": [
    "from sklearn.base import BaseEstimator, RegressorMixin\n",
    "\n",
    "class EnsembleRegressor(BaseEstimator, RegressorMixin):\n",
    "    def __init__(self, model1, model2, num_embedding_features):\n",
    "        self.model1 = model1\n",
    "        self.model2 = model2\n",
    "        self.num_embedding_features = num_embedding_features\n",
    "\n",
    "    def fit(self, X, y):\n",
    "        X_emb = X.iloc[:, :self.num_embedding_features]  # Select the first 'num_embedding_features' columns\n",
    "        X_feat = X.iloc[:, self.num_embedding_features:]  # Select the remaining columns\n",
    "        self.model1.fit(X_emb, y)\n",
    "        self.model2.fit(X_feat, y)\n",
    "        return self\n",
    "\n",
    "    def predict(self, X):\n",
    "        X_emb = X.iloc[:, :self.num_embedding_features]\n",
    "        X_feat = X.iloc[:, self.num_embedding_features:]\n",
    "        preds1 = self.model1.predict(X_emb)\n",
    "        preds2 = self.model2.predict(X_feat)\n",
    "        return (preds1 + preds2) / 2\n",
    "\n",
    "    def score(self, X, y, sample_weight=None):\n",
    "        predictions = self.predict(X)\n",
    "        return np.mean((y - predictions) ** 2)\n",
    "\n",
    "\n",
    "\n"
   ]
  },
  {
   "cell_type": "code",
   "execution_count": 35,
   "metadata": {},
   "outputs": [
    {
     "name": "stderr",
     "output_type": "stream",
     "text": [
      "2024-05-12 17:16:55,959 - INFO - Using 2x5 cross validation\n"
     ]
    },
    {
     "data": {
      "application/vnd.jupyter.widget-view+json": {
       "model_id": "7d85f388e9414b5cb09e69834052efb2",
       "version_major": 2,
       "version_minor": 0
      },
      "text/plain": [
       "  0%|          | 0/10 [00:00<?, ?it/s]"
      ]
     },
     "metadata": {},
     "output_type": "display_data"
    },
    {
     "data": {
      "text/html": [
       "<div>\n",
       "<style scoped>\n",
       "    .dataframe tbody tr th:only-of-type {\n",
       "        vertical-align: middle;\n",
       "    }\n",
       "\n",
       "    .dataframe tbody tr th {\n",
       "        vertical-align: top;\n",
       "    }\n",
       "\n",
       "    .dataframe thead tr th {\n",
       "        text-align: left;\n",
       "    }\n",
       "</style>\n",
       "<table border=\"1\" class=\"dataframe\">\n",
       "  <thead>\n",
       "    <tr>\n",
       "      <th>Metric</th>\n",
       "      <th colspan=\"3\" halign=\"left\">rmse</th>\n",
       "      <th colspan=\"3\" halign=\"left\">mae</th>\n",
       "      <th colspan=\"3\" halign=\"left\">r2</th>\n",
       "    </tr>\n",
       "    <tr>\n",
       "      <th>Target</th>\n",
       "      <th>content</th>\n",
       "      <th>wording</th>\n",
       "      <th>mean_columnwise</th>\n",
       "      <th>content</th>\n",
       "      <th>wording</th>\n",
       "      <th>mean_columnwise</th>\n",
       "      <th>content</th>\n",
       "      <th>wording</th>\n",
       "      <th>mean_columnwise</th>\n",
       "    </tr>\n",
       "  </thead>\n",
       "  <tbody>\n",
       "    <tr>\n",
       "      <th>mean</th>\n",
       "      <td>0.448137</td>\n",
       "      <td>0.601338</td>\n",
       "      <td>0.524737</td>\n",
       "      <td>0.343215</td>\n",
       "      <td>0.470637</td>\n",
       "      <td>0.406926</td>\n",
       "      <td>0.814817</td>\n",
       "      <td>0.666446</td>\n",
       "      <td>0.740631</td>\n",
       "    </tr>\n",
       "    <tr>\n",
       "      <th>stdev</th>\n",
       "      <td>0.011194</td>\n",
       "      <td>0.014189</td>\n",
       "      <td>0.012692</td>\n",
       "      <td>0.00791</td>\n",
       "      <td>0.009771</td>\n",
       "      <td>0.00884</td>\n",
       "      <td>0.008209</td>\n",
       "      <td>0.011931</td>\n",
       "      <td>0.01007</td>\n",
       "    </tr>\n",
       "    <tr>\n",
       "      <th>n_trials</th>\n",
       "      <td>10</td>\n",
       "      <td>10</td>\n",
       "      <td>2</td>\n",
       "      <td>10</td>\n",
       "      <td>10</td>\n",
       "      <td>2</td>\n",
       "      <td>10</td>\n",
       "      <td>10</td>\n",
       "      <td>2</td>\n",
       "    </tr>\n",
       "  </tbody>\n",
       "</table>\n",
       "</div>"
      ],
      "text/plain": [
       "Metric        rmse                                 mae            \\\n",
       "Target     content   wording mean_columnwise   content   wording   \n",
       "mean      0.448137  0.601338        0.524737  0.343215  0.470637   \n",
       "stdev     0.011194  0.014189        0.012692   0.00791  0.009771   \n",
       "n_trials        10        10               2        10        10   \n",
       "\n",
       "Metric                          r2                            \n",
       "Target   mean_columnwise   content   wording mean_columnwise  \n",
       "mean            0.406926  0.814817  0.666446        0.740631  \n",
       "stdev            0.00884  0.008209  0.011931         0.01007  \n",
       "n_trials               2        10        10               2  "
      ]
     },
     "execution_count": 35,
     "metadata": {},
     "output_type": "execute_result"
    }
   ],
   "source": [
    "# Define the first MultiOutputRegressor model\n",
    "model1 = MultiOutputRegressor(HistGradientBoostingRegressor(random_state=0))\n",
    "\n",
    "# Define the second MultiOutputRegressor model\n",
    "model2 = MultiOutputRegressor(HistGradientBoostingRegressor(random_state=0))\n",
    "\n",
    "# Create the ensemble model using the EnsembleRegressor class\n",
    "ensemble_model = EnsembleRegressor(model1, model2, len(X_text_embeddings[0]))\n",
    "\n",
    "X_train, X_test, y_train, y_test = train_test_split(X_combined, y, test_size=0.2, random_state=42)\n",
    "X_train = pd.DataFrame(X_train)\n",
    "\n",
    "cross_validate(ensemble_model, X_train, y_train,5,2)"
   ]
  },
  {
   "cell_type": "code",
   "execution_count": 36,
   "metadata": {},
   "outputs": [
    {
     "name": "stderr",
     "output_type": "stream",
     "text": [
      "2024-05-12 17:18:30,144 - INFO - Using 2x5 cross validation\n"
     ]
    },
    {
     "data": {
      "application/vnd.jupyter.widget-view+json": {
       "model_id": "0449195d4db84dbdb81d75a80faf2b86",
       "version_major": 2,
       "version_minor": 0
      },
      "text/plain": [
       "  0%|          | 0/10 [00:00<?, ?it/s]"
      ]
     },
     "metadata": {},
     "output_type": "display_data"
    },
    {
     "data": {
      "text/html": [
       "<div>\n",
       "<style scoped>\n",
       "    .dataframe tbody tr th:only-of-type {\n",
       "        vertical-align: middle;\n",
       "    }\n",
       "\n",
       "    .dataframe tbody tr th {\n",
       "        vertical-align: top;\n",
       "    }\n",
       "\n",
       "    .dataframe thead tr th {\n",
       "        text-align: left;\n",
       "    }\n",
       "</style>\n",
       "<table border=\"1\" class=\"dataframe\">\n",
       "  <thead>\n",
       "    <tr>\n",
       "      <th>Metric</th>\n",
       "      <th colspan=\"3\" halign=\"left\">rmse</th>\n",
       "      <th colspan=\"3\" halign=\"left\">mae</th>\n",
       "      <th colspan=\"3\" halign=\"left\">r2</th>\n",
       "    </tr>\n",
       "    <tr>\n",
       "      <th>Target</th>\n",
       "      <th>content</th>\n",
       "      <th>wording</th>\n",
       "      <th>mean_columnwise</th>\n",
       "      <th>content</th>\n",
       "      <th>wording</th>\n",
       "      <th>mean_columnwise</th>\n",
       "      <th>content</th>\n",
       "      <th>wording</th>\n",
       "      <th>mean_columnwise</th>\n",
       "    </tr>\n",
       "  </thead>\n",
       "  <tbody>\n",
       "    <tr>\n",
       "      <th>mean</th>\n",
       "      <td>0.441041</td>\n",
       "      <td>0.597212</td>\n",
       "      <td>0.519126</td>\n",
       "      <td>0.333585</td>\n",
       "      <td>0.462621</td>\n",
       "      <td>0.398103</td>\n",
       "      <td>0.820648</td>\n",
       "      <td>0.671008</td>\n",
       "      <td>0.745828</td>\n",
       "    </tr>\n",
       "    <tr>\n",
       "      <th>stdev</th>\n",
       "      <td>0.014289</td>\n",
       "      <td>0.016084</td>\n",
       "      <td>0.015187</td>\n",
       "      <td>0.010109</td>\n",
       "      <td>0.014384</td>\n",
       "      <td>0.012247</td>\n",
       "      <td>0.009119</td>\n",
       "      <td>0.013234</td>\n",
       "      <td>0.011176</td>\n",
       "    </tr>\n",
       "    <tr>\n",
       "      <th>n_trials</th>\n",
       "      <td>10</td>\n",
       "      <td>10</td>\n",
       "      <td>2</td>\n",
       "      <td>10</td>\n",
       "      <td>10</td>\n",
       "      <td>2</td>\n",
       "      <td>10</td>\n",
       "      <td>10</td>\n",
       "      <td>2</td>\n",
       "    </tr>\n",
       "  </tbody>\n",
       "</table>\n",
       "</div>"
      ],
      "text/plain": [
       "Metric        rmse                                 mae            \\\n",
       "Target     content   wording mean_columnwise   content   wording   \n",
       "mean      0.441041  0.597212        0.519126  0.333585  0.462621   \n",
       "stdev     0.014289  0.016084        0.015187  0.010109  0.014384   \n",
       "n_trials        10        10               2        10        10   \n",
       "\n",
       "Metric                          r2                            \n",
       "Target   mean_columnwise   content   wording mean_columnwise  \n",
       "mean            0.398103  0.820648  0.671008        0.745828  \n",
       "stdev           0.012247  0.009119  0.013234        0.011176  \n",
       "n_trials               2        10        10               2  "
      ]
     },
     "execution_count": 36,
     "metadata": {},
     "output_type": "execute_result"
    }
   ],
   "source": [
    "X_train, X_test, y_train, y_test = train_test_split(X_combined_roberta, y, test_size=0.2, random_state=42)\n",
    "X_train = pd.DataFrame(X_train)\n",
    "y_train = pd.DataFrame(y_train)\n",
    "\n",
    "ensemble_model = EnsembleRegressor(model1, model2, len(X_text_embeddings_roberta[0]))\n",
    "\n",
    "cross_validate(ensemble_model, X_train, y_train,5,2)"
   ]
  },
  {
   "cell_type": "code",
   "execution_count": 48,
   "metadata": {},
   "outputs": [],
   "source": [
    "from sklearn.base import BaseEstimator, RegressorMixin\n",
    "from sklearn.linear_model import LinearRegression\n",
    "\n",
    "class EnsembleRegressor2(BaseEstimator, RegressorMixin):\n",
    "    def __init__(self, model1, model2, num_embedding_features):\n",
    "        self.model1 = model1\n",
    "        self.model2 = model2\n",
    "        self.num_embedding_features = num_embedding_features\n",
    "        self.final_model = LinearRegression()  # Use Linear Regression as the final model\n",
    "\n",
    "    def fit(self, X, y):\n",
    "        X_emb = X.iloc[:, :self.num_embedding_features]  # Select the first 'num_embedding_features' columns\n",
    "        X_feat = X.iloc[:, self.num_embedding_features:]  # Select the remaining columns\n",
    "        self.model1.fit(X_emb, y)\n",
    "        self.model2.fit(X_feat, y)\n",
    "        preds1 = self.model1.predict(X_emb)\n",
    "        preds2 = self.model2.predict(X_feat)\n",
    "        preds_combined = np.hstack((preds1, preds2))  # Combine predictions\n",
    "        \n",
    "        self.final_model.fit(preds_combined, y)  # Fit the final model with combined predictions\n",
    "        return self\n",
    "\n",
    "    def predict(self, X):\n",
    "        X_emb = X.iloc[:, :self.num_embedding_features]\n",
    "        X_feat = X.iloc[:, self.num_embedding_features:]\n",
    "        preds1 = self.model1.predict(X_emb)\n",
    "        preds2 = self.model2.predict(X_feat)\n",
    "        preds_combined = np.hstack((preds1, preds2))  # Combine predictions\n",
    "        return self.final_model.predict(preds_combined)  # Predict using the final model\n",
    "\n",
    "    def score(self, X, y, sample_weight=None):\n",
    "        predictions = self.predict(X)\n",
    "        return np.mean((y - predictions) ** 2)\n"
   ]
  },
  {
   "cell_type": "code",
   "execution_count": 49,
   "metadata": {},
   "outputs": [
    {
     "name": "stderr",
     "output_type": "stream",
     "text": [
      "2024-05-12 17:33:00,164 - INFO - Using 2x5 cross validation\n"
     ]
    },
    {
     "data": {
      "application/vnd.jupyter.widget-view+json": {
       "model_id": "640a705b930e432aae6f028a0b45076d",
       "version_major": 2,
       "version_minor": 0
      },
      "text/plain": [
       "  0%|          | 0/10 [00:00<?, ?it/s]"
      ]
     },
     "metadata": {},
     "output_type": "display_data"
    },
    {
     "data": {
      "text/html": [
       "<div>\n",
       "<style scoped>\n",
       "    .dataframe tbody tr th:only-of-type {\n",
       "        vertical-align: middle;\n",
       "    }\n",
       "\n",
       "    .dataframe tbody tr th {\n",
       "        vertical-align: top;\n",
       "    }\n",
       "\n",
       "    .dataframe thead tr th {\n",
       "        text-align: left;\n",
       "    }\n",
       "</style>\n",
       "<table border=\"1\" class=\"dataframe\">\n",
       "  <thead>\n",
       "    <tr>\n",
       "      <th>Metric</th>\n",
       "      <th colspan=\"3\" halign=\"left\">rmse</th>\n",
       "      <th colspan=\"3\" halign=\"left\">mae</th>\n",
       "      <th colspan=\"3\" halign=\"left\">r2</th>\n",
       "    </tr>\n",
       "    <tr>\n",
       "      <th>Target</th>\n",
       "      <th>content</th>\n",
       "      <th>wording</th>\n",
       "      <th>mean_columnwise</th>\n",
       "      <th>content</th>\n",
       "      <th>wording</th>\n",
       "      <th>mean_columnwise</th>\n",
       "      <th>content</th>\n",
       "      <th>wording</th>\n",
       "      <th>mean_columnwise</th>\n",
       "    </tr>\n",
       "  </thead>\n",
       "  <tbody>\n",
       "    <tr>\n",
       "      <th>mean</th>\n",
       "      <td>0.492529</td>\n",
       "      <td>0.633591</td>\n",
       "      <td>0.56306</td>\n",
       "      <td>0.384735</td>\n",
       "      <td>0.49647</td>\n",
       "      <td>0.440603</td>\n",
       "      <td>0.776148</td>\n",
       "      <td>0.629674</td>\n",
       "      <td>0.702911</td>\n",
       "    </tr>\n",
       "    <tr>\n",
       "      <th>stdev</th>\n",
       "      <td>0.011932</td>\n",
       "      <td>0.014235</td>\n",
       "      <td>0.013083</td>\n",
       "      <td>0.008205</td>\n",
       "      <td>0.008323</td>\n",
       "      <td>0.008264</td>\n",
       "      <td>0.013492</td>\n",
       "      <td>0.013655</td>\n",
       "      <td>0.013573</td>\n",
       "    </tr>\n",
       "    <tr>\n",
       "      <th>n_trials</th>\n",
       "      <td>10</td>\n",
       "      <td>10</td>\n",
       "      <td>2</td>\n",
       "      <td>10</td>\n",
       "      <td>10</td>\n",
       "      <td>2</td>\n",
       "      <td>10</td>\n",
       "      <td>10</td>\n",
       "      <td>2</td>\n",
       "    </tr>\n",
       "  </tbody>\n",
       "</table>\n",
       "</div>"
      ],
      "text/plain": [
       "Metric        rmse                                 mae            \\\n",
       "Target     content   wording mean_columnwise   content   wording   \n",
       "mean      0.492529  0.633591         0.56306  0.384735   0.49647   \n",
       "stdev     0.011932  0.014235        0.013083  0.008205  0.008323   \n",
       "n_trials        10        10               2        10        10   \n",
       "\n",
       "Metric                          r2                            \n",
       "Target   mean_columnwise   content   wording mean_columnwise  \n",
       "mean            0.440603  0.776148  0.629674        0.702911  \n",
       "stdev           0.008264  0.013492  0.013655        0.013573  \n",
       "n_trials               2        10        10               2  "
      ]
     },
     "execution_count": 49,
     "metadata": {},
     "output_type": "execute_result"
    }
   ],
   "source": [
    "model1 = MultiOutputRegressor(HistGradientBoostingRegressor(random_state=0))\n",
    "\n",
    "# Define the second MultiOutputRegressor model\n",
    "model2 = MultiOutputRegressor(HistGradientBoostingRegressor(random_state=0))\n",
    "\n",
    "# Create the ensemble model using the EnsembleRegressor class\n",
    "ensemble_model = EnsembleRegressor2(model1, model2, len(X_text_embeddings[0]))\n",
    "\n",
    "X_train, X_test, y_train, y_test = train_test_split(X_combined, y, test_size=0.2, random_state=42)\n",
    "X_train = pd.DataFrame(X_train)\n",
    "\n",
    "cross_validate(ensemble_model, X_train, y_train,5,2)"
   ]
  },
  {
   "cell_type": "code",
   "execution_count": 50,
   "metadata": {},
   "outputs": [
    {
     "name": "stderr",
     "output_type": "stream",
     "text": [
      "2024-05-12 17:36:23,808 - INFO - Using 2x5 cross validation\n"
     ]
    },
    {
     "data": {
      "application/vnd.jupyter.widget-view+json": {
       "model_id": "4955e626fc174306b870ed4c4fc08d04",
       "version_major": 2,
       "version_minor": 0
      },
      "text/plain": [
       "  0%|          | 0/10 [00:00<?, ?it/s]"
      ]
     },
     "metadata": {},
     "output_type": "display_data"
    },
    {
     "data": {
      "text/html": [
       "<div>\n",
       "<style scoped>\n",
       "    .dataframe tbody tr th:only-of-type {\n",
       "        vertical-align: middle;\n",
       "    }\n",
       "\n",
       "    .dataframe tbody tr th {\n",
       "        vertical-align: top;\n",
       "    }\n",
       "\n",
       "    .dataframe thead tr th {\n",
       "        text-align: left;\n",
       "    }\n",
       "</style>\n",
       "<table border=\"1\" class=\"dataframe\">\n",
       "  <thead>\n",
       "    <tr>\n",
       "      <th>Metric</th>\n",
       "      <th colspan=\"3\" halign=\"left\">rmse</th>\n",
       "      <th colspan=\"3\" halign=\"left\">mae</th>\n",
       "      <th colspan=\"3\" halign=\"left\">r2</th>\n",
       "    </tr>\n",
       "    <tr>\n",
       "      <th>Target</th>\n",
       "      <th>content</th>\n",
       "      <th>wording</th>\n",
       "      <th>mean_columnwise</th>\n",
       "      <th>content</th>\n",
       "      <th>wording</th>\n",
       "      <th>mean_columnwise</th>\n",
       "      <th>content</th>\n",
       "      <th>wording</th>\n",
       "      <th>mean_columnwise</th>\n",
       "    </tr>\n",
       "  </thead>\n",
       "  <tbody>\n",
       "    <tr>\n",
       "      <th>mean</th>\n",
       "      <td>0.463547</td>\n",
       "      <td>0.619969</td>\n",
       "      <td>0.541758</td>\n",
       "      <td>0.353277</td>\n",
       "      <td>0.479015</td>\n",
       "      <td>0.416146</td>\n",
       "      <td>0.801799</td>\n",
       "      <td>0.645461</td>\n",
       "      <td>0.72363</td>\n",
       "    </tr>\n",
       "    <tr>\n",
       "      <th>stdev</th>\n",
       "      <td>0.016868</td>\n",
       "      <td>0.012911</td>\n",
       "      <td>0.014889</td>\n",
       "      <td>0.012636</td>\n",
       "      <td>0.010505</td>\n",
       "      <td>0.01157</td>\n",
       "      <td>0.012465</td>\n",
       "      <td>0.011281</td>\n",
       "      <td>0.011873</td>\n",
       "    </tr>\n",
       "    <tr>\n",
       "      <th>n_trials</th>\n",
       "      <td>10</td>\n",
       "      <td>10</td>\n",
       "      <td>2</td>\n",
       "      <td>10</td>\n",
       "      <td>10</td>\n",
       "      <td>2</td>\n",
       "      <td>10</td>\n",
       "      <td>10</td>\n",
       "      <td>2</td>\n",
       "    </tr>\n",
       "  </tbody>\n",
       "</table>\n",
       "</div>"
      ],
      "text/plain": [
       "Metric        rmse                                 mae            \\\n",
       "Target     content   wording mean_columnwise   content   wording   \n",
       "mean      0.463547  0.619969        0.541758  0.353277  0.479015   \n",
       "stdev     0.016868  0.012911        0.014889  0.012636  0.010505   \n",
       "n_trials        10        10               2        10        10   \n",
       "\n",
       "Metric                          r2                            \n",
       "Target   mean_columnwise   content   wording mean_columnwise  \n",
       "mean            0.416146  0.801799  0.645461         0.72363  \n",
       "stdev            0.01157  0.012465  0.011281        0.011873  \n",
       "n_trials               2        10        10               2  "
      ]
     },
     "execution_count": 50,
     "metadata": {},
     "output_type": "execute_result"
    }
   ],
   "source": [
    "model1 = MultiOutputRegressor(HistGradientBoostingRegressor(random_state=0))\n",
    "\n",
    "# Define the second MultiOutputRegressor model\n",
    "model2 = MultiOutputRegressor(HistGradientBoostingRegressor(random_state=0))\n",
    "\n",
    "# Create the ensemble model using the EnsembleRegressor class\n",
    "ensemble_model = EnsembleRegressor2(model1, model2, len(X_text_embeddings_roberta[0]))\n",
    "\n",
    "X_train, X_test, y_train, y_test = train_test_split(X_combined_roberta, y, test_size=0.2, random_state=42)\n",
    "X_train = pd.DataFrame(X_train)\n",
    "\n",
    "cross_validate(ensemble_model, X_train, y_train,5,2)"
   ]
  },
  {
   "cell_type": "markdown",
   "metadata": {},
   "source": [
    "Finally looking at using question and prompt embeddings aswell."
   ]
  },
  {
   "cell_type": "code",
   "execution_count": 56,
   "metadata": {},
   "outputs": [
    {
     "name": "stderr",
     "output_type": "stream",
     "text": [
      "2024-05-12 17:53:17,196 - INFO - Using 2x5 cross validation\n"
     ]
    },
    {
     "data": {
      "application/vnd.jupyter.widget-view+json": {
       "model_id": "4857645efb164699a3bd04acf99e756f",
       "version_major": 2,
       "version_minor": 0
      },
      "text/plain": [
       "  0%|          | 0/10 [00:00<?, ?it/s]"
      ]
     },
     "metadata": {},
     "output_type": "display_data"
    },
    {
     "data": {
      "text/html": [
       "<div>\n",
       "<style scoped>\n",
       "    .dataframe tbody tr th:only-of-type {\n",
       "        vertical-align: middle;\n",
       "    }\n",
       "\n",
       "    .dataframe tbody tr th {\n",
       "        vertical-align: top;\n",
       "    }\n",
       "\n",
       "    .dataframe thead tr th {\n",
       "        text-align: left;\n",
       "    }\n",
       "</style>\n",
       "<table border=\"1\" class=\"dataframe\">\n",
       "  <thead>\n",
       "    <tr>\n",
       "      <th>Metric</th>\n",
       "      <th colspan=\"3\" halign=\"left\">rmse</th>\n",
       "      <th colspan=\"3\" halign=\"left\">mae</th>\n",
       "      <th colspan=\"3\" halign=\"left\">r2</th>\n",
       "    </tr>\n",
       "    <tr>\n",
       "      <th>Target</th>\n",
       "      <th>content</th>\n",
       "      <th>wording</th>\n",
       "      <th>mean_columnwise</th>\n",
       "      <th>content</th>\n",
       "      <th>wording</th>\n",
       "      <th>mean_columnwise</th>\n",
       "      <th>content</th>\n",
       "      <th>wording</th>\n",
       "      <th>mean_columnwise</th>\n",
       "    </tr>\n",
       "  </thead>\n",
       "  <tbody>\n",
       "    <tr>\n",
       "      <th>mean</th>\n",
       "      <td>0.429643</td>\n",
       "      <td>0.578844</td>\n",
       "      <td>0.504243</td>\n",
       "      <td>0.325255</td>\n",
       "      <td>0.444519</td>\n",
       "      <td>0.384887</td>\n",
       "      <td>0.82975</td>\n",
       "      <td>0.690959</td>\n",
       "      <td>0.760354</td>\n",
       "    </tr>\n",
       "    <tr>\n",
       "      <th>stdev</th>\n",
       "      <td>0.014034</td>\n",
       "      <td>0.01555</td>\n",
       "      <td>0.014792</td>\n",
       "      <td>0.009547</td>\n",
       "      <td>0.011184</td>\n",
       "      <td>0.010365</td>\n",
       "      <td>0.009708</td>\n",
       "      <td>0.011661</td>\n",
       "      <td>0.010685</td>\n",
       "    </tr>\n",
       "    <tr>\n",
       "      <th>n_trials</th>\n",
       "      <td>10</td>\n",
       "      <td>10</td>\n",
       "      <td>2</td>\n",
       "      <td>10</td>\n",
       "      <td>10</td>\n",
       "      <td>2</td>\n",
       "      <td>10</td>\n",
       "      <td>10</td>\n",
       "      <td>2</td>\n",
       "    </tr>\n",
       "  </tbody>\n",
       "</table>\n",
       "</div>"
      ],
      "text/plain": [
       "Metric        rmse                                 mae            \\\n",
       "Target     content   wording mean_columnwise   content   wording   \n",
       "mean      0.429643  0.578844        0.504243  0.325255  0.444519   \n",
       "stdev     0.014034   0.01555        0.014792  0.009547  0.011184   \n",
       "n_trials        10        10               2        10        10   \n",
       "\n",
       "Metric                          r2                            \n",
       "Target   mean_columnwise   content   wording mean_columnwise  \n",
       "mean            0.384887   0.82975  0.690959        0.760354  \n",
       "stdev           0.010365  0.009708  0.011661        0.010685  \n",
       "n_trials               2        10        10               2  "
      ]
     },
     "execution_count": 56,
     "metadata": {},
     "output_type": "execute_result"
    }
   ],
   "source": [
    "X_prompt_embeddings = np.vstack(bert_embeddings['prompt_embeddings'].values)\n",
    "X_prompt_question_embeddings = np.vstack(bert_embeddings['prompt_question_embeddings'].values)\n",
    "\n",
    "\n",
    "X_embeddings = np.hstack((X_text_embeddings, X_prompt_embeddings, X_prompt_question_embeddings, features_df))\n",
    "\n",
    "X_train, X_test, y_train, y_test = train_test_split(X_embeddings, y, test_size=0.2, random_state=42)\n",
    "X_train = pd.DataFrame(X_train)\n",
    "model = MultiOutputRegressor(HistGradientBoostingRegressor(random_state=0))\n",
    "\n",
    "cross_validate(model, X_train, y_train,5,2)\n"
   ]
  },
  {
   "cell_type": "code",
   "execution_count": 57,
   "metadata": {},
   "outputs": [
    {
     "name": "stderr",
     "output_type": "stream",
     "text": [
      "2024-05-12 17:57:18,138 - INFO - Using 2x5 cross validation\n"
     ]
    },
    {
     "data": {
      "application/vnd.jupyter.widget-view+json": {
       "model_id": "aa7b3d7a6e8746d790a9c048aa5e0c4d",
       "version_major": 2,
       "version_minor": 0
      },
      "text/plain": [
       "  0%|          | 0/10 [00:00<?, ?it/s]"
      ]
     },
     "metadata": {},
     "output_type": "display_data"
    },
    {
     "data": {
      "text/html": [
       "<div>\n",
       "<style scoped>\n",
       "    .dataframe tbody tr th:only-of-type {\n",
       "        vertical-align: middle;\n",
       "    }\n",
       "\n",
       "    .dataframe tbody tr th {\n",
       "        vertical-align: top;\n",
       "    }\n",
       "\n",
       "    .dataframe thead tr th {\n",
       "        text-align: left;\n",
       "    }\n",
       "</style>\n",
       "<table border=\"1\" class=\"dataframe\">\n",
       "  <thead>\n",
       "    <tr>\n",
       "      <th>Metric</th>\n",
       "      <th colspan=\"3\" halign=\"left\">rmse</th>\n",
       "      <th colspan=\"3\" halign=\"left\">mae</th>\n",
       "      <th colspan=\"3\" halign=\"left\">r2</th>\n",
       "    </tr>\n",
       "    <tr>\n",
       "      <th>Target</th>\n",
       "      <th>content</th>\n",
       "      <th>wording</th>\n",
       "      <th>mean_columnwise</th>\n",
       "      <th>content</th>\n",
       "      <th>wording</th>\n",
       "      <th>mean_columnwise</th>\n",
       "      <th>content</th>\n",
       "      <th>wording</th>\n",
       "      <th>mean_columnwise</th>\n",
       "    </tr>\n",
       "  </thead>\n",
       "  <tbody>\n",
       "    <tr>\n",
       "      <th>mean</th>\n",
       "      <td>0.429643</td>\n",
       "      <td>0.578844</td>\n",
       "      <td>0.504243</td>\n",
       "      <td>0.325255</td>\n",
       "      <td>0.444519</td>\n",
       "      <td>0.384887</td>\n",
       "      <td>0.82975</td>\n",
       "      <td>0.690959</td>\n",
       "      <td>0.760354</td>\n",
       "    </tr>\n",
       "    <tr>\n",
       "      <th>stdev</th>\n",
       "      <td>0.014034</td>\n",
       "      <td>0.01555</td>\n",
       "      <td>0.014792</td>\n",
       "      <td>0.009547</td>\n",
       "      <td>0.011184</td>\n",
       "      <td>0.010365</td>\n",
       "      <td>0.009708</td>\n",
       "      <td>0.011661</td>\n",
       "      <td>0.010685</td>\n",
       "    </tr>\n",
       "    <tr>\n",
       "      <th>n_trials</th>\n",
       "      <td>10</td>\n",
       "      <td>10</td>\n",
       "      <td>2</td>\n",
       "      <td>10</td>\n",
       "      <td>10</td>\n",
       "      <td>2</td>\n",
       "      <td>10</td>\n",
       "      <td>10</td>\n",
       "      <td>2</td>\n",
       "    </tr>\n",
       "  </tbody>\n",
       "</table>\n",
       "</div>"
      ],
      "text/plain": [
       "Metric        rmse                                 mae            \\\n",
       "Target     content   wording mean_columnwise   content   wording   \n",
       "mean      0.429643  0.578844        0.504243  0.325255  0.444519   \n",
       "stdev     0.014034   0.01555        0.014792  0.009547  0.011184   \n",
       "n_trials        10        10               2        10        10   \n",
       "\n",
       "Metric                          r2                            \n",
       "Target   mean_columnwise   content   wording mean_columnwise  \n",
       "mean            0.384887   0.82975  0.690959        0.760354  \n",
       "stdev           0.010365  0.009708  0.011661        0.010685  \n",
       "n_trials               2        10        10               2  "
      ]
     },
     "execution_count": 57,
     "metadata": {},
     "output_type": "execute_result"
    }
   ],
   "source": [
    "X_prompt_embeddings = np.vstack(roberta_embeddings['prompt_embeddings'].values)\n",
    "X_prompt_question_embeddings = np.vstack(roberta_embeddings['prompt_question_embeddings'].values)\n",
    "\n",
    "\n",
    "X_embeddings = np.hstack((X_text_embeddings, X_prompt_embeddings, X_prompt_question_embeddings, features_df))\n",
    "\n",
    "X_train, X_test, y_train, y_test = train_test_split(X_embeddings, y, test_size=0.2, random_state=42)\n",
    "X_train = pd.DataFrame(X_train)\n",
    "\n",
    "cross_validate(model, X_train, y_train,5,2)"
   ]
  }
 ],
 "metadata": {
  "kernelspec": {
   "display_name": "venv",
   "language": "python",
   "name": "python3"
  },
  "language_info": {
   "codemirror_mode": {
    "name": "ipython",
    "version": 3
   },
   "file_extension": ".py",
   "mimetype": "text/x-python",
   "name": "python",
   "nbconvert_exporter": "python",
   "pygments_lexer": "ipython3",
   "version": "3.11.4"
  }
 },
 "nbformat": 4,
 "nbformat_minor": 2
}
