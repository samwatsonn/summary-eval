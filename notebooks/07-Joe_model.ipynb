{
 "cells": [
  {
   "cell_type": "code",
   "execution_count": 9,
   "metadata": {},
   "outputs": [
    {
     "name": "stdout",
     "output_type": "stream",
     "text": [
      "Original sys.path: ['c:\\\\Users\\\\joepa\\\\OneDrive\\\\Desktop\\\\computerScienceYear4\\\\Data Mining\\\\summary_eval\\\\notebooks', 'C:\\\\Users\\\\joepa\\\\OneDrive\\\\Desktop\\\\computerScienceYear4\\\\Data Mining\\\\summary_eval', 'C:\\\\Users\\\\joepa\\\\anaconda3\\\\python39.zip', 'C:\\\\Users\\\\joepa\\\\anaconda3\\\\DLLs', 'C:\\\\Users\\\\joepa\\\\anaconda3\\\\lib', 'C:\\\\Users\\\\joepa\\\\anaconda3', 'c:\\\\Users\\\\joepa\\\\OneDrive\\\\Desktop\\\\computerScienceYear4\\\\Data Mining\\\\summary_eval\\\\venv', '', 'c:\\\\Users\\\\joepa\\\\OneDrive\\\\Desktop\\\\computerScienceYear4\\\\Data Mining\\\\summary_eval\\\\venv\\\\lib\\\\site-packages', 'c:\\\\Users\\\\joepa\\\\OneDrive\\\\Desktop\\\\computerScienceYear4\\\\Data Mining\\\\summary_eval\\\\venv\\\\lib\\\\site-packages\\\\win32', 'c:\\\\Users\\\\joepa\\\\OneDrive\\\\Desktop\\\\computerScienceYear4\\\\Data Mining\\\\summary_eval\\\\venv\\\\lib\\\\site-packages\\\\win32\\\\lib', 'c:\\\\Users\\\\joepa\\\\OneDrive\\\\Desktop\\\\computerScienceYear4\\\\Data Mining\\\\summary_eval\\\\venv\\\\lib\\\\site-packages\\\\Pythonwin', 'C:/Users/joepa/OneDrive/Desktop/computerScienceYear4/Data Mining/summary_eval/summary_eval', 'C:/Users/joepa/OneDrive/Desktop/computerScienceYear4/Data Mining/summary_eval/summary_eval']\n",
      "Updated sys.path: ['c:\\\\Users\\\\joepa\\\\OneDrive\\\\Desktop\\\\computerScienceYear4\\\\Data Mining\\\\summary_eval\\\\notebooks', 'C:\\\\Users\\\\joepa\\\\OneDrive\\\\Desktop\\\\computerScienceYear4\\\\Data Mining\\\\summary_eval', 'C:\\\\Users\\\\joepa\\\\anaconda3\\\\python39.zip', 'C:\\\\Users\\\\joepa\\\\anaconda3\\\\DLLs', 'C:\\\\Users\\\\joepa\\\\anaconda3\\\\lib', 'C:\\\\Users\\\\joepa\\\\anaconda3', 'c:\\\\Users\\\\joepa\\\\OneDrive\\\\Desktop\\\\computerScienceYear4\\\\Data Mining\\\\summary_eval\\\\venv', '', 'c:\\\\Users\\\\joepa\\\\OneDrive\\\\Desktop\\\\computerScienceYear4\\\\Data Mining\\\\summary_eval\\\\venv\\\\lib\\\\site-packages', 'c:\\\\Users\\\\joepa\\\\OneDrive\\\\Desktop\\\\computerScienceYear4\\\\Data Mining\\\\summary_eval\\\\venv\\\\lib\\\\site-packages\\\\win32', 'c:\\\\Users\\\\joepa\\\\OneDrive\\\\Desktop\\\\computerScienceYear4\\\\Data Mining\\\\summary_eval\\\\venv\\\\lib\\\\site-packages\\\\win32\\\\lib', 'c:\\\\Users\\\\joepa\\\\OneDrive\\\\Desktop\\\\computerScienceYear4\\\\Data Mining\\\\summary_eval\\\\venv\\\\lib\\\\site-packages\\\\Pythonwin', 'C:/Users/joepa/OneDrive/Desktop/computerScienceYear4/Data Mining/summary_eval/summary_eval', 'C:/Users/joepa/OneDrive/Desktop/computerScienceYear4/Data Mining/summary_eval/summary_eval', 'C:/Users/joepa/OneDrive/Desktop/computerScienceYear4/Data Mining/summary_eval/summary_eval']\n"
     ]
    }
   ],
   "source": [
    "import pandas as pd\n",
    "import seaborn as sns\n",
    "import sys\n",
    "import string\n",
    "print('Original sys.path:', sys.path)\n",
    "\n",
    "# Append a new directory to sys.path\n",
    "sys.path.append('C:/Users/joepa/OneDrive/Desktop/computerScienceYear4/Data Mining/summary_eval/summary_eval')\n",
    "\n",
    "# Print the updated sys.path\n",
    "print('Updated sys.path:', sys.path)\n",
    "from summary_eval.data import summary_df, prompts_df\n",
    "from summary_eval.settings import TRAIN_SIZE\n",
    "from summary_eval.testing import cross_validate\n",
    "\n",
    "merged_df = pd.merge(summary_df, prompts_df, on='prompt_id')"
   ]
  },
  {
   "cell_type": "code",
   "execution_count": 10,
   "metadata": {},
   "outputs": [
    {
     "name": "stdout",
     "output_type": "stream",
     "text": [
      "        student_id prompt_id  \\\n",
      "0     000e8c3c7ddb    814d6b   \n",
      "1     0020ae56ffbf    ebad26   \n",
      "2     004e978e639e    3b9047   \n",
      "3     005ab0199905    3b9047   \n",
      "4     0070c9e7af47    814d6b   \n",
      "...            ...       ...   \n",
      "7160  ff7c7e70df07    ebad26   \n",
      "7161  ffc34d056498    3b9047   \n",
      "7162  ffd1576d2e1b    3b9047   \n",
      "7163  ffe4a98093b2    39c16e   \n",
      "7164  fffbccfd8a08    ebad26   \n",
      "\n",
      "                                                   text   content   wording  \\\n",
      "0     The third wave was an experimentto see how peo...  0.205683  0.380538   \n",
      "1     They would rub it up with soda to make the sme... -0.548304  0.506755   \n",
      "2     In Egypt, there were many occupations and soci...  3.128928  4.231226   \n",
      "3     The highest class was Pharaohs these people we... -0.210614 -0.471415   \n",
      "4     The Third Wave developed rapidly because the s...  3.272894  3.219757   \n",
      "...                                                 ...       ...       ...   \n",
      "7160  They used all sorts of chemical concoctions to...  0.205683  0.380538   \n",
      "7161  The lowest classes are slaves and farmers slav... -0.308448  0.048171   \n",
      "7162  they sorta made people start working on the st... -1.408180 -0.493603   \n",
      "7163  An ideal tragety has three elements that make ... -0.393310  0.627128   \n",
      "7164  The meat would smell sour but the would \"rub i...  1.771596  0.547742   \n",
      "\n",
      "                                        prompt_question  \\\n",
      "0     Summarize how the Third Wave developed over su...   \n",
      "1     Summarize the various ways the factory would u...   \n",
      "2     In complete sentences, summarize the structure...   \n",
      "3     In complete sentences, summarize the structure...   \n",
      "4     Summarize how the Third Wave developed over su...   \n",
      "...                                                 ...   \n",
      "7160  Summarize the various ways the factory would u...   \n",
      "7161  In complete sentences, summarize the structure...   \n",
      "7162  In complete sentences, summarize the structure...   \n",
      "7163  Summarize at least 3 elements of an ideal trag...   \n",
      "7164  Summarize the various ways the factory would u...   \n",
      "\n",
      "                   prompt_title  \\\n",
      "0                The Third Wave   \n",
      "1       Excerpt from The Jungle   \n",
      "2     Egyptian Social Structure   \n",
      "3     Egyptian Social Structure   \n",
      "4                The Third Wave   \n",
      "...                         ...   \n",
      "7160    Excerpt from The Jungle   \n",
      "7161  Egyptian Social Structure   \n",
      "7162  Egyptian Social Structure   \n",
      "7163                 On Tragedy   \n",
      "7164    Excerpt from The Jungle   \n",
      "\n",
      "                                            prompt_text  \n",
      "0     Background \\r\\nThe Third Wave experiment took ...  \n",
      "1     With one member trimming beef in a cannery, an...  \n",
      "2     Egyptian society was structured like a pyramid...  \n",
      "3     Egyptian society was structured like a pyramid...  \n",
      "4     Background \\r\\nThe Third Wave experiment took ...  \n",
      "...                                                 ...  \n",
      "7160  With one member trimming beef in a cannery, an...  \n",
      "7161  Egyptian society was structured like a pyramid...  \n",
      "7162  Egyptian society was structured like a pyramid...  \n",
      "7163  Chapter 13 \\r\\nAs the sequel to what has alrea...  \n",
      "7164  With one member trimming beef in a cannery, an...  \n",
      "\n",
      "[7165 rows x 8 columns]\n"
     ]
    },
    {
     "name": "stderr",
     "output_type": "stream",
     "text": [
      "[nltk_data] Downloading package punkt to\n",
      "[nltk_data]     C:\\Users\\joepa\\AppData\\Roaming\\nltk_data...\n",
      "[nltk_data]   Package punkt is already up-to-date!\n"
     ]
    }
   ],
   "source": [
    "#PREPROCESSING\n",
    "from typing import List\n",
    "import re\n",
    "from autocorrect import Speller\n",
    "import nltk\n",
    "import language_tool_python\n",
    "tool = language_tool_python.LanguageTool('en-US')\n",
    "\n",
    "def pre_process_whitespace(text: str) -> str:\n",
    "    # Replace all whitespace with a single space\n",
    "    text = ' '.join(text.split())\n",
    "    \n",
    "    # Remove leading and trailing whitespace\n",
    "    text = text.strip()\n",
    "    return text\n",
    "\n",
    "merged_df[\"text\"] = merged_df[\"text\"].apply(lambda x: pre_process_whitespace(x))\n",
    "\n",
    "nltk.download('punkt')\n",
    "\n",
    "def correct_spelling(text: str) -> str:\n",
    "    spell = Speller(lang='en')\n",
    "    corrected_text = []\n",
    "    for word in nltk.word_tokenize(text):\n",
    "        corrected_text.append(spell(word))\n",
    "\n",
    "    return ' '.join(corrected_text)\n",
    "\n",
    "# Apply correct_spelling function to 'text' column in merged_df\n",
    "#merged_df['text'] = merged_df['text'].apply(correct_spelling)\n",
    "\n",
    "print(merged_df)\n",
    "\n",
    "features_df = pd.DataFrame()"
   ]
  },
  {
   "cell_type": "code",
   "execution_count": 11,
   "metadata": {},
   "outputs": [
    {
     "name": "stdout",
     "output_type": "stream",
     "text": [
      "      num_commas_punctuation  num_quotation_marks_punctuation  \\\n",
      "0                          0                                0   \n",
      "1                          0                                0   \n",
      "2                         16                                4   \n",
      "3                          0                                0   \n",
      "4                          5                                8   \n",
      "...                      ...                              ...   \n",
      "7160                       6                                2   \n",
      "7161                       3                                0   \n",
      "7162                       0                                0   \n",
      "7163                       1                                0   \n",
      "7164                       0                                4   \n",
      "\n",
      "      num_brackets_punctuation  num_full_stops_punctuation  \n",
      "0                            0                           3  \n",
      "1                            0                           2  \n",
      "2                            0                          12  \n",
      "3                            2                           4  \n",
      "4                            0                          13  \n",
      "...                        ...                         ...  \n",
      "7160                         0                           2  \n",
      "7161                         0                           3  \n",
      "7162                         0                           3  \n",
      "7163                         0                           3  \n",
      "7164                         0                           5  \n",
      "\n",
      "[7165 rows x 4 columns]\n"
     ]
    }
   ],
   "source": [
    "def count_specific_punctuation(text):\n",
    "    punctuation_counts = {\n",
    "        'num_commas': text.count(','),\n",
    "        'num_quotation_marks': text.count('\"'),\n",
    "        'num_brackets': text.count('(') + text.count(')'),\n",
    "        'num_full_stops': text.count('.')\n",
    "    }\n",
    "    return pd.Series(punctuation_counts)\n",
    "\n",
    "# Apply the function to each text in the DataFrame\n",
    "punctuation_counts_df = summary_df['text'].apply(count_specific_punctuation)\n",
    "\n",
    "# Rename the columns to avoid conflicts\n",
    "punctuation_counts_df.columns = [f'{col}_punctuation' for col in punctuation_counts_df.columns]\n",
    "\n",
    "# Concatenate the original DataFrame with the new punctuation counts DataFrame\n",
    "features_df = punctuation_counts_df\n",
    "print(features_df)"
   ]
  },
  {
   "cell_type": "code",
   "execution_count": 12,
   "metadata": {},
   "outputs": [
    {
     "name": "stderr",
     "output_type": "stream",
     "text": [
      "[nltk_data] Downloading package wordnet to\n",
      "[nltk_data]     C:\\Users\\joepa\\AppData\\Roaming\\nltk_data...\n",
      "[nltk_data]   Package wordnet is already up-to-date!\n",
      "[nltk_data] Downloading package averaged_perceptron_tagger to\n",
      "[nltk_data]     C:\\Users\\joepa\\AppData\\Roaming\\nltk_data...\n",
      "[nltk_data]   Package averaged_perceptron_tagger is already up-to-\n",
      "[nltk_data]       date!\n",
      "[nltk_data] Downloading package punkt to\n",
      "[nltk_data]     C:\\Users\\joepa\\AppData\\Roaming\\nltk_data...\n",
      "[nltk_data]   Package punkt is already up-to-date!\n",
      "[nltk_data] Downloading package maxent_ne_chunker to\n",
      "[nltk_data]     C:\\Users\\joepa\\AppData\\Roaming\\nltk_data...\n",
      "[nltk_data]   Package maxent_ne_chunker is already up-to-date!\n",
      "[nltk_data] Downloading package words to\n",
      "[nltk_data]     C:\\Users\\joepa\\AppData\\Roaming\\nltk_data...\n",
      "[nltk_data]   Package words is already up-to-date!\n",
      "[nltk_data] Downloading package stopwords to\n",
      "[nltk_data]     C:\\Users\\joepa\\AppData\\Roaming\\nltk_data...\n",
      "[nltk_data]   Package stopwords is already up-to-date!\n",
      "100%|██████████| 7165/7165 [00:46<00:00, 155.32it/s]\n",
      "100%|██████████| 7165/7165 [00:06<00:00, 1074.15it/s]\n",
      "100%|██████████| 7165/7165 [00:05<00:00, 1235.42it/s]\n",
      "100%|██████████| 7165/7165 [01:38<00:00, 72.68it/s] \n",
      "100%|██████████| 7165/7165 [01:37<00:00, 73.67it/s] \n",
      "100%|██████████| 7165/7165 [00:02<00:00, 3410.92it/s]\n"
     ]
    }
   ],
   "source": [
    "#FEATURE CREATION\n",
    "import nltk\n",
    "nltk.download('wordnet')\n",
    "nltk.download('averaged_perceptron_tagger')\n",
    "nltk.download('punkt')\n",
    "nltk.download('maxent_ne_chunker')\n",
    "nltk.download('words')\n",
    "from nltk.corpus import wordnet\n",
    "from nltk.tokenize import word_tokenize\n",
    "from nltk import pos_tag\n",
    "from tqdm import tqdm\n",
    "tqdm.pandas()\n",
    "\n",
    "features_df[\"num_words\"] = summary_df[\"text\"].apply(lambda x: len(word_tokenize(x)))\n",
    "\n",
    "def count_punctuation(text):\n",
    "    return sum(1 for char in text if char in string.punctuation)\n",
    "\n",
    "features_df['punctuation_count'] = merged_df['text'].apply(count_punctuation)\n",
    "\n",
    "def count_words(text):\n",
    "    return len(text.split()) \n",
    "\n",
    "features_df['response_length'] = merged_df['text'].apply(count_words)\n",
    "\n",
    "def find_similar_words(word):\n",
    "    synonyms = set()\n",
    "    for syn in wordnet.synsets(word):\n",
    "        for lemma in syn.lemmas():\n",
    "            synonyms.add(lemma.name())\n",
    "    return synonyms\n",
    "\n",
    "def count_repeated_words(response, prompt):\n",
    "    repeated_words = set()\n",
    "    prompt_words = set(prompt.split())\n",
    "    for word in response.split():\n",
    "        if word in prompt_words:\n",
    "            repeated_words.add(word)\n",
    "        else:\n",
    "            synonyms = find_similar_words(word)\n",
    "            if synonyms.intersection(prompt_words):\n",
    "                repeated_words.add(word)\n",
    "    return len(repeated_words)\n",
    "\n",
    "# Calculate the number of repeated words for each response text\n",
    "features_df['repeated_words_prompt_text'] = merged_df.apply(lambda row: count_repeated_words(row['text'], row['prompt_text']), axis=1)\n",
    "\n",
    "features_df['repeated_words_prompt_question'] = merged_df.apply(lambda row: count_repeated_words(row['text'], row['prompt_question']), axis=1)\n",
    "\n",
    "from nltk.corpus import stopwords\n",
    "\n",
    "nltk.download('stopwords')\n",
    "\n",
    "# Get the list of stopwords\n",
    "stop_words = set(stopwords.words('english'))\n",
    "\n",
    "# Function to count the number of stopwords in a text\n",
    "def count_stopwords(text):\n",
    "    words = text.split()\n",
    "    stopwords_count = sum(1 for word in words if word.lower() in stop_words)\n",
    "    return stopwords_count\n",
    "\n",
    "# Calculate the number of stopwords for each response\n",
    "features_df['stopwords_count'] = merged_df['text'].apply(count_stopwords)\n",
    "\n",
    "from collections import Counter\n",
    "def calculate_repetition(text):\n",
    "    # Tokenize the text into words\n",
    "    words = text.lower().split()\n",
    "    # Count the frequency of each word\n",
    "    word_counts = Counter(words)\n",
    "    # Calculate repetition metric (e.g., total number of repeated words)\n",
    "    repetition = sum(count for word, count in word_counts.items() if count > 1)\n",
    "    return repetition\n",
    "\n",
    "features_df['repetition'] = merged_df['text'].apply(calculate_repetition)\n",
    "\n",
    "from nltk.tokenize import word_tokenize\n",
    "\n",
    "mean_word_lengths = []\n",
    "\n",
    "# Iterate over each text in the 'text' column\n",
    "for text in summary_df['text']:\n",
    "    # Tokenize the text into words\n",
    "    words = word_tokenize(text)\n",
    "    # Calculate the mean word length for the text and append it to the mean_word_lengths list\n",
    "    mean_word_lengths.append(sum(len(word) for word in words) / len(words) if words else 0)\n",
    "\n",
    "# Add the mean word lengths as a new column in the DataFrame\n",
    "features_df['mean word length'] = mean_word_lengths\n",
    "\n",
    "def is_any_alpha(input_string):\n",
    "    return any(char.isalpha() for char in input_string)\n",
    "\n",
    "def extract_proper_nouns(text):\n",
    "    words = word_tokenize(text)\n",
    "    tagged_words = pos_tag(words)\n",
    "    proper_nouns = set()\n",
    "    for tagged_word in tagged_words:\n",
    "        if isinstance(tagged_word, tuple) and tagged_word[1] == 'NNP':\n",
    "            if is_any_alpha(tagged_word[0]) is True:\n",
    "                proper_nouns.add(tagged_word[0])\n",
    "    return list(proper_nouns)\n",
    "\n",
    "def prop_noun_intersection(prompt_prop_nouns, summary):\n",
    "    prompt_proper_nouns = set(prompt_prop_nouns)\n",
    "    summary_proper_nouns = set(extract_proper_nouns(summary))\n",
    "    return len(prompt_proper_nouns.intersection(summary_proper_nouns))/len(prompt_proper_nouns)\n",
    "\n",
    "prompt_prop_nouns = {}\n",
    "for i, prompt in prompts_df.iterrows():\n",
    "    prompt_prop_nouns[prompt[\"prompt_id\"]] = extract_proper_nouns(prompt[\"prompt_text\"])\n",
    "\n",
    "features_df[\"proper_noun_intersection\"] = merged_df.progress_apply(lambda row: prop_noun_intersection(prompt_prop_nouns[row[\"prompt_id\"]], row[\"text\"]), axis=1)\n",
    "\n",
    "def split_quotations(text: str) -> (str, List[str]):\n",
    "    quotations = re.findall('\"([^\"]*)\"', text)\n",
    "    no_quote_text = text\n",
    "    for quotation in quotations:\n",
    "        no_quote_text = no_quote_text.replace(f'\"{quotation}\"', \"\")\n",
    "    return no_quote_text, quotations\n",
    "\n",
    "def count_quotations(text: str) -> int:\n",
    "    return len(re.findall('\"([^\"]*)\"', text))\n",
    "\n",
    "features_df[\"quoteCount\"] = summary_df[\"text\"].apply(count_quotations)\n",
    "\n",
    "def avg_quote_length(text: str) -> float:\n",
    "    no_quote_text, quotations = split_quotations(text)\n",
    "    if len(quotations) == 0:\n",
    "        return 0\n",
    "    return sum(len(q) for q in quotations) / len(quotations)\n",
    "\n",
    "features_df[\"avgQuoteLength\"] = summary_df[\"text\"].apply(avg_quote_length)\n",
    "\n",
    "from textblob import TextBlob\n",
    "\n",
    "def get_polarity(text: str) -> float:\n",
    "    blob = TextBlob(text)\n",
    "    return blob.sentiment.polarity\n",
    "\n",
    "features_df[\"polarity\"] = summary_df[\"text\"].progress_apply(get_polarity)\n",
    "\n",
    "def get_subjectivity(text: str) -> float:\n",
    "    blob = TextBlob(text)\n",
    "    return blob.sentiment.subjectivity\n",
    "\n",
    "features_df[\"subjectivity\"] = summary_df[\"text\"].progress_apply(get_subjectivity)\n",
    "\n",
    "def textblob_pos_filter(text: str, pos_tag: str) -> List[str]:\n",
    "    blob = TextBlob(text)\n",
    "    return [word for word, pos in blob.tags if pos.startswith(pos_tag)]\n",
    "\n",
    "def count_duplicates(words: List[str]) -> dict:\n",
    "    word_counts = {}\n",
    "    for word in words:\n",
    "        if word in word_counts:\n",
    "            word_counts[word] += 1\n",
    "        else:\n",
    "            word_counts[word] = 1\n",
    "    return word_counts\n",
    "\n",
    "def num_adjectives_repeated(text: str) -> int:\n",
    "    adjectives = textblob_pos_filter(text, \"JJ\")\n",
    "    return len([word for word, count in count_duplicates(adjectives).items() if count >= 2])\n",
    "\n",
    "features_df[\"numAdjectivesRepeated2p\"] = summary_df[\"text\"].progress_apply(num_adjectives_repeated)\n",
    "\n",
    "def prop_adjectives_repeated_text_normalised(text: str) -> float:\n",
    "    adjectives = textblob_pos_filter(text, \"JJ\")\n",
    "    if len(adjectives) == 0:\n",
    "        return None\n",
    "    return len([word for word, count in count_duplicates(adjectives).items() if count >= 2]) / len(text)\n",
    "\n",
    "features_df[\"propAdjectivesRepeated2pTextNormalised\"] = summary_df[\"text\"].progress_apply(prop_adjectives_repeated_text_normalised)\n",
    "\n",
    "import textstat\n",
    "\n",
    "def felsch_reading_ease(text: str) -> float:\n",
    "    return textstat.flesch_reading_ease(text)\n",
    "\n",
    "features_df[\"fleschReadingEase\"] = summary_df[\"text\"].progress_apply(felsch_reading_ease)\n",
    "\n",
    "features_df[\"num_sentences\"] = summary_df[\"text\"].apply(lambda x: len(nltk.sent_tokenize(x)))\n",
    "features_df[\"words_per_sentence\"] = features_df[\"num_words\"] / features_df[\"num_sentences\"]\n"
   ]
  },
  {
   "cell_type": "markdown",
   "metadata": {},
   "source": [
    "Adding extra features (and embeddings?)"
   ]
  },
  {
   "cell_type": "code",
   "execution_count": null,
   "metadata": {},
   "outputs": [],
   "source": []
  },
  {
   "cell_type": "code",
   "execution_count": 13,
   "metadata": {},
   "outputs": [
    {
     "name": "stderr",
     "output_type": "stream",
     "text": [
      "2024-03-17 14:42:35,586 - INFO - Using 10x10 cross validation\n"
     ]
    },
    {
     "data": {
      "application/vnd.jupyter.widget-view+json": {
       "model_id": "b3c1f8a373484fa98ef7ba2bf5d93d26",
       "version_major": 2,
       "version_minor": 0
      },
      "text/plain": [
       "  0%|          | 0/100 [00:00<?, ?it/s]"
      ]
     },
     "metadata": {},
     "output_type": "display_data"
    }
   ],
   "source": [
    "#MODELS\n",
    "from sklearn.model_selection import train_test_split\n",
    "from sklearn.multioutput import MultiOutputRegressor\n",
    "from sklearn.ensemble import HistGradientBoostingRegressor\n",
    "\n",
    "X = features_df\n",
    "y = merged_df[[\"content\", \"wording\"]]\n",
    "X_train, X_test, y_train, y_test = train_test_split(X, y, train_size=TRAIN_SIZE, random_state=42)\n",
    "\n",
    "model = MultiOutputRegressor(HistGradientBoostingRegressor(random_state=0))\n",
    "results_df = cross_validate(model, X_train, y_train)"
   ]
  },
  {
   "cell_type": "code",
   "execution_count": 14,
   "metadata": {},
   "outputs": [
    {
     "name": "stderr",
     "output_type": "stream",
     "text": [
      "2024-03-17 14:44:24,106 - INFO - Using 1x5 cross validation\n"
     ]
    },
    {
     "data": {
      "application/vnd.jupyter.widget-view+json": {
       "model_id": "0cbf923e88814a3cbd33480df2158c61",
       "version_major": 2,
       "version_minor": 0
      },
      "text/plain": [
       "  0%|          | 0/5 [00:00<?, ?it/s]"
      ]
     },
     "metadata": {},
     "output_type": "display_data"
    },
    {
     "name": "stderr",
     "output_type": "stream",
     "text": [
      "2024-03-17 14:44:28,962 - INFO - Using 1x5 cross validation\n"
     ]
    },
    {
     "name": "stdout",
     "output_type": "stream",
     "text": [
      "0.1 100 None 0 0.5417670460577358\n"
     ]
    },
    {
     "data": {
      "application/vnd.jupyter.widget-view+json": {
       "model_id": "9fb7a1cb99624876bcf67056e0318d32",
       "version_major": 2,
       "version_minor": 0
      },
      "text/plain": [
       "  0%|          | 0/5 [00:00<?, ?it/s]"
      ]
     },
     "metadata": {},
     "output_type": "display_data"
    },
    {
     "name": "stderr",
     "output_type": "stream",
     "text": [
      "2024-03-17 14:44:34,065 - INFO - Using 1x5 cross validation\n"
     ]
    },
    {
     "name": "stdout",
     "output_type": "stream",
     "text": [
      "0.1 100 None 1 0.5414431789020788\n"
     ]
    },
    {
     "data": {
      "application/vnd.jupyter.widget-view+json": {
       "model_id": "cb8771f89ae040718ce15b4f94ea2595",
       "version_major": 2,
       "version_minor": 0
      },
      "text/plain": [
       "  0%|          | 0/5 [00:00<?, ?it/s]"
      ]
     },
     "metadata": {},
     "output_type": "display_data"
    },
    {
     "name": "stderr",
     "output_type": "stream",
     "text": [
      "2024-03-17 14:44:39,097 - INFO - Using 1x5 cross validation\n"
     ]
    },
    {
     "name": "stdout",
     "output_type": "stream",
     "text": [
      "0.1 100 None 10 0.5389974942375992\n"
     ]
    },
    {
     "data": {
      "application/vnd.jupyter.widget-view+json": {
       "model_id": "ba58b38fcee14a3ea9731fd36d997ec6",
       "version_major": 2,
       "version_minor": 0
      },
      "text/plain": [
       "  0%|          | 0/5 [00:00<?, ?it/s]"
      ]
     },
     "metadata": {},
     "output_type": "display_data"
    },
    {
     "name": "stderr",
     "output_type": "stream",
     "text": [
      "2024-03-17 14:44:41,922 - INFO - Using 1x5 cross validation\n"
     ]
    },
    {
     "name": "stdout",
     "output_type": "stream",
     "text": [
      "0.1 100 5 0 0.5424827245907459\n"
     ]
    },
    {
     "data": {
      "application/vnd.jupyter.widget-view+json": {
       "model_id": "7f936e74d7474b47975da34e4f52ab56",
       "version_major": 2,
       "version_minor": 0
      },
      "text/plain": [
       "  0%|          | 0/5 [00:00<?, ?it/s]"
      ]
     },
     "metadata": {},
     "output_type": "display_data"
    },
    {
     "name": "stderr",
     "output_type": "stream",
     "text": [
      "2024-03-17 14:44:45,011 - INFO - Using 1x5 cross validation\n"
     ]
    },
    {
     "name": "stdout",
     "output_type": "stream",
     "text": [
      "0.1 100 5 1 0.5418868117528445\n"
     ]
    },
    {
     "data": {
      "application/vnd.jupyter.widget-view+json": {
       "model_id": "f686d8a6069e4b7dbeb44c50c5f31e90",
       "version_major": 2,
       "version_minor": 0
      },
      "text/plain": [
       "  0%|          | 0/5 [00:00<?, ?it/s]"
      ]
     },
     "metadata": {},
     "output_type": "display_data"
    },
    {
     "name": "stderr",
     "output_type": "stream",
     "text": [
      "2024-03-17 14:44:48,113 - INFO - Using 1x5 cross validation\n"
     ]
    },
    {
     "name": "stdout",
     "output_type": "stream",
     "text": [
      "0.1 100 5 10 0.5405201573719871\n"
     ]
    },
    {
     "data": {
      "application/vnd.jupyter.widget-view+json": {
       "model_id": "e0b8ba7dbf7b4fe3bce13a92492fd29c",
       "version_major": 2,
       "version_minor": 0
      },
      "text/plain": [
       "  0%|          | 0/5 [00:00<?, ?it/s]"
      ]
     },
     "metadata": {},
     "output_type": "display_data"
    },
    {
     "name": "stderr",
     "output_type": "stream",
     "text": [
      "2024-03-17 14:44:52,772 - INFO - Using 1x5 cross validation\n"
     ]
    },
    {
     "name": "stdout",
     "output_type": "stream",
     "text": [
      "0.1 100 10 0 0.5404996483309885\n"
     ]
    },
    {
     "data": {
      "application/vnd.jupyter.widget-view+json": {
       "model_id": "1fdbd20a7d5b4c79ab8539e5776f09b4",
       "version_major": 2,
       "version_minor": 0
      },
      "text/plain": [
       "  0%|          | 0/5 [00:00<?, ?it/s]"
      ]
     },
     "metadata": {},
     "output_type": "display_data"
    },
    {
     "name": "stderr",
     "output_type": "stream",
     "text": [
      "2024-03-17 14:44:57,367 - INFO - Using 1x5 cross validation\n"
     ]
    },
    {
     "name": "stdout",
     "output_type": "stream",
     "text": [
      "0.1 100 10 1 0.541023303493578\n"
     ]
    },
    {
     "data": {
      "application/vnd.jupyter.widget-view+json": {
       "model_id": "510972df4bb442f8915466b1e325b5cf",
       "version_major": 2,
       "version_minor": 0
      },
      "text/plain": [
       "  0%|          | 0/5 [00:00<?, ?it/s]"
      ]
     },
     "metadata": {},
     "output_type": "display_data"
    },
    {
     "name": "stderr",
     "output_type": "stream",
     "text": [
      "2024-03-17 14:45:02,331 - INFO - Using 1x5 cross validation\n"
     ]
    },
    {
     "name": "stdout",
     "output_type": "stream",
     "text": [
      "0.1 100 10 10 0.5391876198979961\n"
     ]
    },
    {
     "data": {
      "application/vnd.jupyter.widget-view+json": {
       "model_id": "3566118cc5b24dd59cbda9b637f516ff",
       "version_major": 2,
       "version_minor": 0
      },
      "text/plain": [
       "  0%|          | 0/5 [00:00<?, ?it/s]"
      ]
     },
     "metadata": {},
     "output_type": "display_data"
    },
    {
     "name": "stderr",
     "output_type": "stream",
     "text": [
      "2024-03-17 14:45:07,437 - INFO - Using 1x5 cross validation\n"
     ]
    },
    {
     "name": "stdout",
     "output_type": "stream",
     "text": [
      "0.1 100 20 0 0.5418263096776946\n"
     ]
    },
    {
     "data": {
      "application/vnd.jupyter.widget-view+json": {
       "model_id": "6afb7db66f49400e965a48b8fcb90e69",
       "version_major": 2,
       "version_minor": 0
      },
      "text/plain": [
       "  0%|          | 0/5 [00:00<?, ?it/s]"
      ]
     },
     "metadata": {},
     "output_type": "display_data"
    },
    {
     "name": "stderr",
     "output_type": "stream",
     "text": [
      "2024-03-17 14:45:12,194 - INFO - Using 1x5 cross validation\n"
     ]
    },
    {
     "name": "stdout",
     "output_type": "stream",
     "text": [
      "0.1 100 20 1 0.5418297667977001\n"
     ]
    },
    {
     "data": {
      "application/vnd.jupyter.widget-view+json": {
       "model_id": "6499e8de24084bb0a5b920c3bf53efe0",
       "version_major": 2,
       "version_minor": 0
      },
      "text/plain": [
       "  0%|          | 0/5 [00:00<?, ?it/s]"
      ]
     },
     "metadata": {},
     "output_type": "display_data"
    },
    {
     "name": "stderr",
     "output_type": "stream",
     "text": [
      "2024-03-17 14:45:17,503 - INFO - Using 1x5 cross validation\n"
     ]
    },
    {
     "name": "stdout",
     "output_type": "stream",
     "text": [
      "0.1 100 20 10 0.5388395411135997\n"
     ]
    },
    {
     "data": {
      "application/vnd.jupyter.widget-view+json": {
       "model_id": "8d42524b9df24e01be8e84da04c56af9",
       "version_major": 2,
       "version_minor": 0
      },
      "text/plain": [
       "  0%|          | 0/5 [00:00<?, ?it/s]"
      ]
     },
     "metadata": {},
     "output_type": "display_data"
    },
    {
     "name": "stderr",
     "output_type": "stream",
     "text": [
      "2024-03-17 14:45:26,233 - INFO - Using 1x5 cross validation\n"
     ]
    },
    {
     "name": "stdout",
     "output_type": "stream",
     "text": [
      "0.1 200 None 0 0.5472853097122355\n"
     ]
    },
    {
     "data": {
      "application/vnd.jupyter.widget-view+json": {
       "model_id": "a40fe740f8274b1cbb5ff41beaa26df5",
       "version_major": 2,
       "version_minor": 0
      },
      "text/plain": [
       "  0%|          | 0/5 [00:00<?, ?it/s]"
      ]
     },
     "metadata": {},
     "output_type": "display_data"
    },
    {
     "name": "stderr",
     "output_type": "stream",
     "text": [
      "2024-03-17 14:45:35,843 - INFO - Using 1x5 cross validation\n"
     ]
    },
    {
     "name": "stdout",
     "output_type": "stream",
     "text": [
      "0.1 200 None 1 0.5467036558659556\n"
     ]
    },
    {
     "data": {
      "application/vnd.jupyter.widget-view+json": {
       "model_id": "00394455e363417594e53cab2a5ace05",
       "version_major": 2,
       "version_minor": 0
      },
      "text/plain": [
       "  0%|          | 0/5 [00:00<?, ?it/s]"
      ]
     },
     "metadata": {},
     "output_type": "display_data"
    },
    {
     "name": "stderr",
     "output_type": "stream",
     "text": [
      "2024-03-17 14:45:44,804 - INFO - Using 1x5 cross validation\n"
     ]
    },
    {
     "name": "stdout",
     "output_type": "stream",
     "text": [
      "0.1 200 None 10 0.5439961767840737\n"
     ]
    },
    {
     "data": {
      "application/vnd.jupyter.widget-view+json": {
       "model_id": "898be46a046647129b61773ee05d308f",
       "version_major": 2,
       "version_minor": 0
      },
      "text/plain": [
       "  0%|          | 0/5 [00:00<?, ?it/s]"
      ]
     },
     "metadata": {},
     "output_type": "display_data"
    },
    {
     "name": "stderr",
     "output_type": "stream",
     "text": [
      "2024-03-17 14:45:50,352 - INFO - Using 1x5 cross validation\n"
     ]
    },
    {
     "name": "stdout",
     "output_type": "stream",
     "text": [
      "0.1 200 5 0 0.5420530409949975\n"
     ]
    },
    {
     "data": {
      "application/vnd.jupyter.widget-view+json": {
       "model_id": "71d3fc42dc2f4138ae67dd9262b2e03b",
       "version_major": 2,
       "version_minor": 0
      },
      "text/plain": [
       "  0%|          | 0/5 [00:00<?, ?it/s]"
      ]
     },
     "metadata": {},
     "output_type": "display_data"
    },
    {
     "name": "stderr",
     "output_type": "stream",
     "text": [
      "2024-03-17 14:45:55,339 - INFO - Using 1x5 cross validation\n"
     ]
    },
    {
     "name": "stdout",
     "output_type": "stream",
     "text": [
      "0.1 200 5 1 0.541488054752209\n"
     ]
    },
    {
     "data": {
      "application/vnd.jupyter.widget-view+json": {
       "model_id": "f9bcdf08882a4ca89b53c626f902baa8",
       "version_major": 2,
       "version_minor": 0
      },
      "text/plain": [
       "  0%|          | 0/5 [00:00<?, ?it/s]"
      ]
     },
     "metadata": {},
     "output_type": "display_data"
    },
    {
     "name": "stderr",
     "output_type": "stream",
     "text": [
      "2024-03-17 14:46:00,872 - INFO - Using 1x5 cross validation\n"
     ]
    },
    {
     "name": "stdout",
     "output_type": "stream",
     "text": [
      "0.1 200 5 10 0.5390531569395804\n"
     ]
    },
    {
     "data": {
      "application/vnd.jupyter.widget-view+json": {
       "model_id": "60ee93c547114f37a39457f12cd15864",
       "version_major": 2,
       "version_minor": 0
      },
      "text/plain": [
       "  0%|          | 0/5 [00:00<?, ?it/s]"
      ]
     },
     "metadata": {},
     "output_type": "display_data"
    },
    {
     "name": "stderr",
     "output_type": "stream",
     "text": [
      "2024-03-17 14:46:09,314 - INFO - Using 1x5 cross validation\n"
     ]
    },
    {
     "name": "stdout",
     "output_type": "stream",
     "text": [
      "0.1 200 10 0 0.5454756337347402\n"
     ]
    },
    {
     "data": {
      "application/vnd.jupyter.widget-view+json": {
       "model_id": "f7648b10abd04e0096a95be5417abe66",
       "version_major": 2,
       "version_minor": 0
      },
      "text/plain": [
       "  0%|          | 0/5 [00:00<?, ?it/s]"
      ]
     },
     "metadata": {},
     "output_type": "display_data"
    },
    {
     "name": "stderr",
     "output_type": "stream",
     "text": [
      "2024-03-17 14:46:17,695 - INFO - Using 1x5 cross validation\n"
     ]
    },
    {
     "name": "stdout",
     "output_type": "stream",
     "text": [
      "0.1 200 10 1 0.5460115421790608\n"
     ]
    },
    {
     "data": {
      "application/vnd.jupyter.widget-view+json": {
       "model_id": "bb37f973383244e39c457ba12d020b09",
       "version_major": 2,
       "version_minor": 0
      },
      "text/plain": [
       "  0%|          | 0/5 [00:00<?, ?it/s]"
      ]
     },
     "metadata": {},
     "output_type": "display_data"
    },
    {
     "name": "stderr",
     "output_type": "stream",
     "text": [
      "2024-03-17 14:46:26,115 - INFO - Using 1x5 cross validation\n"
     ]
    },
    {
     "name": "stdout",
     "output_type": "stream",
     "text": [
      "0.1 200 10 10 0.5427581123767788\n"
     ]
    },
    {
     "data": {
      "application/vnd.jupyter.widget-view+json": {
       "model_id": "8631bfe9225d4c4ab3712523341fbc52",
       "version_major": 2,
       "version_minor": 0
      },
      "text/plain": [
       "  0%|          | 0/5 [00:00<?, ?it/s]"
      ]
     },
     "metadata": {},
     "output_type": "display_data"
    },
    {
     "name": "stderr",
     "output_type": "stream",
     "text": [
      "2024-03-17 14:46:35,816 - INFO - Using 1x5 cross validation\n"
     ]
    },
    {
     "name": "stdout",
     "output_type": "stream",
     "text": [
      "0.1 200 20 0 0.5473570700279242\n"
     ]
    },
    {
     "data": {
      "application/vnd.jupyter.widget-view+json": {
       "model_id": "dd594f32d3dc4b4da199c61d9cc84cf4",
       "version_major": 2,
       "version_minor": 0
      },
      "text/plain": [
       "  0%|          | 0/5 [00:00<?, ?it/s]"
      ]
     },
     "metadata": {},
     "output_type": "display_data"
    },
    {
     "name": "stderr",
     "output_type": "stream",
     "text": [
      "2024-03-17 14:46:44,595 - INFO - Using 1x5 cross validation\n"
     ]
    },
    {
     "name": "stdout",
     "output_type": "stream",
     "text": [
      "0.1 200 20 1 0.5478669252258277\n"
     ]
    },
    {
     "data": {
      "application/vnd.jupyter.widget-view+json": {
       "model_id": "2be7a9033b3b4831bfb983a848b2986c",
       "version_major": 2,
       "version_minor": 0
      },
      "text/plain": [
       "  0%|          | 0/5 [00:00<?, ?it/s]"
      ]
     },
     "metadata": {},
     "output_type": "display_data"
    },
    {
     "name": "stderr",
     "output_type": "stream",
     "text": [
      "2024-03-17 14:46:53,845 - INFO - Using 1x5 cross validation\n"
     ]
    },
    {
     "name": "stdout",
     "output_type": "stream",
     "text": [
      "0.1 200 20 10 0.5437808787065845\n"
     ]
    },
    {
     "data": {
      "application/vnd.jupyter.widget-view+json": {
       "model_id": "b2eedf28b1384e0595c7c51c5fe1e682",
       "version_major": 2,
       "version_minor": 0
      },
      "text/plain": [
       "  0%|          | 0/5 [00:00<?, ?it/s]"
      ]
     },
     "metadata": {},
     "output_type": "display_data"
    },
    {
     "name": "stderr",
     "output_type": "stream",
     "text": [
      "2024-03-17 14:47:07,007 - INFO - Using 1x5 cross validation\n"
     ]
    },
    {
     "name": "stdout",
     "output_type": "stream",
     "text": [
      "0.1 300 None 0 0.5521418480492005\n"
     ]
    },
    {
     "data": {
      "application/vnd.jupyter.widget-view+json": {
       "model_id": "ca82222a3f2a42f4a794d75581a76f11",
       "version_major": 2,
       "version_minor": 0
      },
      "text/plain": [
       "  0%|          | 0/5 [00:00<?, ?it/s]"
      ]
     },
     "metadata": {},
     "output_type": "display_data"
    },
    {
     "name": "stderr",
     "output_type": "stream",
     "text": [
      "2024-03-17 14:47:20,134 - INFO - Using 1x5 cross validation\n"
     ]
    },
    {
     "name": "stdout",
     "output_type": "stream",
     "text": [
      "0.1 300 None 1 0.5521113034380687\n"
     ]
    },
    {
     "data": {
      "application/vnd.jupyter.widget-view+json": {
       "model_id": "0feaedca5b4a49b9844828d4e7f9281b",
       "version_major": 2,
       "version_minor": 0
      },
      "text/plain": [
       "  0%|          | 0/5 [00:00<?, ?it/s]"
      ]
     },
     "metadata": {},
     "output_type": "display_data"
    },
    {
     "name": "stderr",
     "output_type": "stream",
     "text": [
      "2024-03-17 14:47:33,531 - INFO - Using 1x5 cross validation\n"
     ]
    },
    {
     "name": "stdout",
     "output_type": "stream",
     "text": [
      "0.1 300 None 10 0.5484433015157417\n"
     ]
    },
    {
     "data": {
      "application/vnd.jupyter.widget-view+json": {
       "model_id": "7e0dc112a0704ddf89d34bb31b280a67",
       "version_major": 2,
       "version_minor": 0
      },
      "text/plain": [
       "  0%|          | 0/5 [00:00<?, ?it/s]"
      ]
     },
     "metadata": {},
     "output_type": "display_data"
    },
    {
     "name": "stderr",
     "output_type": "stream",
     "text": [
      "2024-03-17 14:47:40,663 - INFO - Using 1x5 cross validation\n"
     ]
    },
    {
     "name": "stdout",
     "output_type": "stream",
     "text": [
      "0.1 300 5 0 0.5446815290717688\n"
     ]
    },
    {
     "data": {
      "application/vnd.jupyter.widget-view+json": {
       "model_id": "b7f27d7c455f4768924cfa9782d2a67c",
       "version_major": 2,
       "version_minor": 0
      },
      "text/plain": [
       "  0%|          | 0/5 [00:00<?, ?it/s]"
      ]
     },
     "metadata": {},
     "output_type": "display_data"
    },
    {
     "name": "stderr",
     "output_type": "stream",
     "text": [
      "2024-03-17 14:47:48,294 - INFO - Using 1x5 cross validation\n"
     ]
    },
    {
     "name": "stdout",
     "output_type": "stream",
     "text": [
      "0.1 300 5 1 0.5438255220664847\n"
     ]
    },
    {
     "data": {
      "application/vnd.jupyter.widget-view+json": {
       "model_id": "72a3035bef9a4f7e9217f692f7645de2",
       "version_major": 2,
       "version_minor": 0
      },
      "text/plain": [
       "  0%|          | 0/5 [00:00<?, ?it/s]"
      ]
     },
     "metadata": {},
     "output_type": "display_data"
    },
    {
     "name": "stderr",
     "output_type": "stream",
     "text": [
      "2024-03-17 14:47:55,533 - INFO - Using 1x5 cross validation\n"
     ]
    },
    {
     "name": "stdout",
     "output_type": "stream",
     "text": [
      "0.1 300 5 10 0.540660089170483\n"
     ]
    },
    {
     "data": {
      "application/vnd.jupyter.widget-view+json": {
       "model_id": "214bf8084ccd407f9eff5bdacf13e0ba",
       "version_major": 2,
       "version_minor": 0
      },
      "text/plain": [
       "  0%|          | 0/5 [00:00<?, ?it/s]"
      ]
     },
     "metadata": {},
     "output_type": "display_data"
    },
    {
     "name": "stderr",
     "output_type": "stream",
     "text": [
      "2024-03-17 14:48:07,836 - INFO - Using 1x5 cross validation\n"
     ]
    },
    {
     "name": "stdout",
     "output_type": "stream",
     "text": [
      "0.1 300 10 0 0.5504180360443381\n"
     ]
    },
    {
     "data": {
      "application/vnd.jupyter.widget-view+json": {
       "model_id": "50eba9ca1c004973954cf885066a9c81",
       "version_major": 2,
       "version_minor": 0
      },
      "text/plain": [
       "  0%|          | 0/5 [00:00<?, ?it/s]"
      ]
     },
     "metadata": {},
     "output_type": "display_data"
    },
    {
     "name": "stderr",
     "output_type": "stream",
     "text": [
      "2024-03-17 14:48:19,631 - INFO - Using 1x5 cross validation\n"
     ]
    },
    {
     "name": "stdout",
     "output_type": "stream",
     "text": [
      "0.1 300 10 1 0.5501794655707362\n"
     ]
    },
    {
     "data": {
      "application/vnd.jupyter.widget-view+json": {
       "model_id": "a386221640514188acbd1a13d1a4225c",
       "version_major": 2,
       "version_minor": 0
      },
      "text/plain": [
       "  0%|          | 0/5 [00:00<?, ?it/s]"
      ]
     },
     "metadata": {},
     "output_type": "display_data"
    },
    {
     "name": "stderr",
     "output_type": "stream",
     "text": [
      "2024-03-17 14:48:31,903 - INFO - Using 1x5 cross validation\n"
     ]
    },
    {
     "name": "stdout",
     "output_type": "stream",
     "text": [
      "0.1 300 10 10 0.5472469594399574\n"
     ]
    },
    {
     "data": {
      "application/vnd.jupyter.widget-view+json": {
       "model_id": "eca1649a449c484b8a73dfa306b8cedc",
       "version_major": 2,
       "version_minor": 0
      },
      "text/plain": [
       "  0%|          | 0/5 [00:00<?, ?it/s]"
      ]
     },
     "metadata": {},
     "output_type": "display_data"
    },
    {
     "name": "stderr",
     "output_type": "stream",
     "text": [
      "2024-03-17 14:48:45,025 - INFO - Using 1x5 cross validation\n"
     ]
    },
    {
     "name": "stdout",
     "output_type": "stream",
     "text": [
      "0.1 300 20 0 0.553056188070231\n"
     ]
    },
    {
     "data": {
      "application/vnd.jupyter.widget-view+json": {
       "model_id": "ab702338b439414c89cc14c66d27d5d7",
       "version_major": 2,
       "version_minor": 0
      },
      "text/plain": [
       "  0%|          | 0/5 [00:00<?, ?it/s]"
      ]
     },
     "metadata": {},
     "output_type": "display_data"
    },
    {
     "name": "stderr",
     "output_type": "stream",
     "text": [
      "2024-03-17 14:48:57,537 - INFO - Using 1x5 cross validation\n"
     ]
    },
    {
     "name": "stdout",
     "output_type": "stream",
     "text": [
      "0.1 300 20 1 0.5524223860548414\n"
     ]
    },
    {
     "data": {
      "application/vnd.jupyter.widget-view+json": {
       "model_id": "a23e39d451ec4587a8b49e9d29d9ff47",
       "version_major": 2,
       "version_minor": 0
      },
      "text/plain": [
       "  0%|          | 0/5 [00:00<?, ?it/s]"
      ]
     },
     "metadata": {},
     "output_type": "display_data"
    },
    {
     "name": "stderr",
     "output_type": "stream",
     "text": [
      "2024-03-17 14:49:11,060 - INFO - Using 1x5 cross validation\n"
     ]
    },
    {
     "name": "stdout",
     "output_type": "stream",
     "text": [
      "0.1 300 20 10 0.5490537843172482\n"
     ]
    },
    {
     "data": {
      "application/vnd.jupyter.widget-view+json": {
       "model_id": "d045853fe0f24a598c1165ef38e760cf",
       "version_major": 2,
       "version_minor": 0
      },
      "text/plain": [
       "  0%|          | 0/5 [00:00<?, ?it/s]"
      ]
     },
     "metadata": {},
     "output_type": "display_data"
    },
    {
     "name": "stderr",
     "output_type": "stream",
     "text": [
      "2024-03-17 14:49:19,187 - INFO - Using 1x5 cross validation\n"
     ]
    },
    {
     "name": "stdout",
     "output_type": "stream",
     "text": [
      "0.01 100 None 0 0.6629100215422817\n"
     ]
    },
    {
     "data": {
      "application/vnd.jupyter.widget-view+json": {
       "model_id": "21830be94191404983a6fb863ae4f8cd",
       "version_major": 2,
       "version_minor": 0
      },
      "text/plain": [
       "  0%|          | 0/5 [00:00<?, ?it/s]"
      ]
     },
     "metadata": {},
     "output_type": "display_data"
    },
    {
     "name": "stderr",
     "output_type": "stream",
     "text": [
      "2024-03-17 14:49:27,478 - INFO - Using 1x5 cross validation\n"
     ]
    },
    {
     "name": "stdout",
     "output_type": "stream",
     "text": [
      "0.01 100 None 1 0.6642397224484525\n"
     ]
    },
    {
     "data": {
      "application/vnd.jupyter.widget-view+json": {
       "model_id": "f1b8eece1cf14c03ae258624113c5648",
       "version_major": 2,
       "version_minor": 0
      },
      "text/plain": [
       "  0%|          | 0/5 [00:00<?, ?it/s]"
      ]
     },
     "metadata": {},
     "output_type": "display_data"
    },
    {
     "name": "stderr",
     "output_type": "stream",
     "text": [
      "2024-03-17 14:49:34,021 - INFO - Using 1x5 cross validation\n"
     ]
    },
    {
     "name": "stdout",
     "output_type": "stream",
     "text": [
      "0.01 100 None 10 0.6746621615747972\n"
     ]
    },
    {
     "data": {
      "application/vnd.jupyter.widget-view+json": {
       "model_id": "71e6599d71484bebb046e4a1713cd011",
       "version_major": 2,
       "version_minor": 0
      },
      "text/plain": [
       "  0%|          | 0/5 [00:00<?, ?it/s]"
      ]
     },
     "metadata": {},
     "output_type": "display_data"
    },
    {
     "name": "stderr",
     "output_type": "stream",
     "text": [
      "2024-03-17 14:49:38,724 - INFO - Using 1x5 cross validation\n"
     ]
    },
    {
     "name": "stdout",
     "output_type": "stream",
     "text": [
      "0.01 100 5 0 0.6699893211463593\n"
     ]
    },
    {
     "data": {
      "application/vnd.jupyter.widget-view+json": {
       "model_id": "ce58128660e54775839d005f490d6788",
       "version_major": 2,
       "version_minor": 0
      },
      "text/plain": [
       "  0%|          | 0/5 [00:00<?, ?it/s]"
      ]
     },
     "metadata": {},
     "output_type": "display_data"
    },
    {
     "name": "stderr",
     "output_type": "stream",
     "text": [
      "2024-03-17 14:49:43,229 - INFO - Using 1x5 cross validation\n"
     ]
    },
    {
     "name": "stdout",
     "output_type": "stream",
     "text": [
      "0.01 100 5 1 0.6717741919877973\n"
     ]
    },
    {
     "data": {
      "application/vnd.jupyter.widget-view+json": {
       "model_id": "94cc42893f4d4a679f08b2fa496671a3",
       "version_major": 2,
       "version_minor": 0
      },
      "text/plain": [
       "  0%|          | 0/5 [00:00<?, ?it/s]"
      ]
     },
     "metadata": {},
     "output_type": "display_data"
    },
    {
     "name": "stderr",
     "output_type": "stream",
     "text": [
      "2024-03-17 14:49:47,712 - INFO - Using 1x5 cross validation\n"
     ]
    },
    {
     "name": "stdout",
     "output_type": "stream",
     "text": [
      "0.01 100 5 10 0.6822360110325811\n"
     ]
    },
    {
     "data": {
      "application/vnd.jupyter.widget-view+json": {
       "model_id": "53c3f7b6f164495a9850fef49ed4fbf2",
       "version_major": 2,
       "version_minor": 0
      },
      "text/plain": [
       "  0%|          | 0/5 [00:00<?, ?it/s]"
      ]
     },
     "metadata": {},
     "output_type": "display_data"
    },
    {
     "name": "stderr",
     "output_type": "stream",
     "text": [
      "2024-03-17 14:49:53,827 - INFO - Using 1x5 cross validation\n"
     ]
    },
    {
     "name": "stdout",
     "output_type": "stream",
     "text": [
      "0.01 100 10 0 0.6629704336972946\n"
     ]
    },
    {
     "data": {
      "application/vnd.jupyter.widget-view+json": {
       "model_id": "b1ce5a172acc43588a7559c35e70c7bb",
       "version_major": 2,
       "version_minor": 0
      },
      "text/plain": [
       "  0%|          | 0/5 [00:00<?, ?it/s]"
      ]
     },
     "metadata": {},
     "output_type": "display_data"
    },
    {
     "name": "stderr",
     "output_type": "stream",
     "text": [
      "2024-03-17 14:49:59,978 - INFO - Using 1x5 cross validation\n"
     ]
    },
    {
     "name": "stdout",
     "output_type": "stream",
     "text": [
      "0.01 100 10 1 0.664319599805706\n"
     ]
    },
    {
     "data": {
      "application/vnd.jupyter.widget-view+json": {
       "model_id": "0924ab22725346168b2f67d6735f121c",
       "version_major": 2,
       "version_minor": 0
      },
      "text/plain": [
       "  0%|          | 0/5 [00:00<?, ?it/s]"
      ]
     },
     "metadata": {},
     "output_type": "display_data"
    },
    {
     "name": "stderr",
     "output_type": "stream",
     "text": [
      "2024-03-17 14:50:06,131 - INFO - Using 1x5 cross validation\n"
     ]
    },
    {
     "name": "stdout",
     "output_type": "stream",
     "text": [
      "0.01 100 10 10 0.674682614676885\n"
     ]
    },
    {
     "data": {
      "application/vnd.jupyter.widget-view+json": {
       "model_id": "1511b723ba914967bdf96f151ae9242c",
       "version_major": 2,
       "version_minor": 0
      },
      "text/plain": [
       "  0%|          | 0/5 [00:00<?, ?it/s]"
      ]
     },
     "metadata": {},
     "output_type": "display_data"
    },
    {
     "name": "stderr",
     "output_type": "stream",
     "text": [
      "2024-03-17 14:50:12,293 - INFO - Using 1x5 cross validation\n"
     ]
    },
    {
     "name": "stdout",
     "output_type": "stream",
     "text": [
      "0.01 100 20 0 0.6629100215422817\n"
     ]
    },
    {
     "data": {
      "application/vnd.jupyter.widget-view+json": {
       "model_id": "d6f2f88871de422db4363001c2da2514",
       "version_major": 2,
       "version_minor": 0
      },
      "text/plain": [
       "  0%|          | 0/5 [00:00<?, ?it/s]"
      ]
     },
     "metadata": {},
     "output_type": "display_data"
    },
    {
     "name": "stderr",
     "output_type": "stream",
     "text": [
      "2024-03-17 14:50:18,367 - INFO - Using 1x5 cross validation\n"
     ]
    },
    {
     "name": "stdout",
     "output_type": "stream",
     "text": [
      "0.01 100 20 1 0.6642397224484525\n"
     ]
    },
    {
     "data": {
      "application/vnd.jupyter.widget-view+json": {
       "model_id": "3b6b72c6236c4afdb33c072bcb5426d4",
       "version_major": 2,
       "version_minor": 0
      },
      "text/plain": [
       "  0%|          | 0/5 [00:00<?, ?it/s]"
      ]
     },
     "metadata": {},
     "output_type": "display_data"
    },
    {
     "name": "stderr",
     "output_type": "stream",
     "text": [
      "2024-03-17 14:50:24,994 - INFO - Using 1x5 cross validation\n"
     ]
    },
    {
     "name": "stdout",
     "output_type": "stream",
     "text": [
      "0.01 100 20 10 0.6746621615747972\n"
     ]
    },
    {
     "data": {
      "application/vnd.jupyter.widget-view+json": {
       "model_id": "4d308d250db04ef0b541526625854c53",
       "version_major": 2,
       "version_minor": 0
      },
      "text/plain": [
       "  0%|          | 0/5 [00:00<?, ?it/s]"
      ]
     },
     "metadata": {},
     "output_type": "display_data"
    },
    {
     "ename": "KeyboardInterrupt",
     "evalue": "",
     "output_type": "error",
     "traceback": [
      "\u001b[1;31m---------------------------------------------------------------------------\u001b[0m",
      "\u001b[1;31mKeyboardInterrupt\u001b[0m                         Traceback (most recent call last)",
      "Cell \u001b[1;32mIn[14], line 23\u001b[0m\n\u001b[0;32m     13\u001b[0m \u001b[38;5;28;01mfor\u001b[39;00m l2_regularisation \u001b[38;5;129;01min\u001b[39;00m param_grid[\u001b[38;5;124m\"\u001b[39m\u001b[38;5;124ml2_regularisation\u001b[39m\u001b[38;5;124m\"\u001b[39m]:\n\u001b[0;32m     14\u001b[0m     model \u001b[38;5;241m=\u001b[39m MultiOutputRegressor(\n\u001b[0;32m     15\u001b[0m         HistGradientBoostingRegressor(\n\u001b[0;32m     16\u001b[0m             learning_rate\u001b[38;5;241m=\u001b[39mlearning_rate,\n\u001b[1;32m   (...)\u001b[0m\n\u001b[0;32m     21\u001b[0m         )\n\u001b[0;32m     22\u001b[0m     )\n\u001b[1;32m---> 23\u001b[0m     results_df \u001b[38;5;241m=\u001b[39m \u001b[43mcross_validate\u001b[49m\u001b[43m(\u001b[49m\u001b[43mmodel\u001b[49m\u001b[43m,\u001b[49m\u001b[43m \u001b[49m\u001b[43mX_train\u001b[49m\u001b[43m,\u001b[49m\u001b[43m \u001b[49m\u001b[43my_train\u001b[49m\u001b[43m,\u001b[49m\u001b[43m \u001b[49m\u001b[43mn_folds\u001b[49m\u001b[38;5;241;43m=\u001b[39;49m\u001b[38;5;241;43m5\u001b[39;49m\u001b[43m,\u001b[49m\u001b[43m \u001b[49m\u001b[43mn_runs\u001b[49m\u001b[38;5;241;43m=\u001b[39;49m\u001b[38;5;241;43m1\u001b[39;49m\u001b[43m)\u001b[49m\n\u001b[0;32m     24\u001b[0m     scores[(learning_rate, max_iter, max_depth, l2_regularisation)] \u001b[38;5;241m=\u001b[39m results_df[\u001b[38;5;124m\"\u001b[39m\u001b[38;5;124mrmse\u001b[39m\u001b[38;5;124m\"\u001b[39m][\u001b[38;5;124m\"\u001b[39m\u001b[38;5;124mmean_columnwise\u001b[39m\u001b[38;5;124m\"\u001b[39m][\u001b[38;5;124m\"\u001b[39m\u001b[38;5;124mmean\u001b[39m\u001b[38;5;124m\"\u001b[39m]\n\u001b[0;32m     26\u001b[0m     \u001b[38;5;28mprint\u001b[39m(\n\u001b[0;32m     27\u001b[0m         learning_rate,\n\u001b[0;32m     28\u001b[0m         max_iter,\n\u001b[1;32m   (...)\u001b[0m\n\u001b[0;32m     31\u001b[0m         scores[(learning_rate, max_iter, max_depth, l2_regularisation)],\n\u001b[0;32m     32\u001b[0m     )\n",
      "File \u001b[1;32m~\\OneDrive\\Desktop\\computerScienceYear4\\Data Mining\\summary_eval\\summary_eval\\testing.py:90\u001b[0m, in \u001b[0;36mcross_validate\u001b[1;34m(model, X_train, y_train, n_folds, n_runs)\u001b[0m\n\u001b[0;32m     88\u001b[0m \u001b[38;5;28;01mdef\u001b[39;00m \u001b[38;5;21mcross_validate\u001b[39m(model, X_train, y_train, n_folds: \u001b[38;5;28mint\u001b[39m \u001b[38;5;241m=\u001b[39m N_FOLDS, n_runs: \u001b[38;5;28mint\u001b[39m \u001b[38;5;241m=\u001b[39m N_RUNS):\n\u001b[0;32m     89\u001b[0m     cv \u001b[38;5;241m=\u001b[39m CrossValidator(model, X_train, y_train)\n\u001b[1;32m---> 90\u001b[0m     \u001b[38;5;28;01mreturn\u001b[39;00m \u001b[43mcv\u001b[49m\u001b[38;5;241;43m.\u001b[39;49m\u001b[43mcross_validate\u001b[49m\u001b[43m(\u001b[49m\u001b[43mn_folds\u001b[49m\u001b[43m,\u001b[49m\u001b[43m \u001b[49m\u001b[43mn_runs\u001b[49m\u001b[43m)\u001b[49m\n",
      "File \u001b[1;32m~\\OneDrive\\Desktop\\computerScienceYear4\\Data Mining\\summary_eval\\summary_eval\\testing.py:49\u001b[0m, in \u001b[0;36mCrossValidator.cross_validate\u001b[1;34m(self, n_folds, n_runs)\u001b[0m\n\u001b[0;32m     47\u001b[0m fold_train_X, fold_test_X \u001b[38;5;241m=\u001b[39m \u001b[38;5;28mself\u001b[39m\u001b[38;5;241m.\u001b[39mX_train\u001b[38;5;241m.\u001b[39miloc[train_i], \u001b[38;5;28mself\u001b[39m\u001b[38;5;241m.\u001b[39mX_train\u001b[38;5;241m.\u001b[39miloc[test_i]\n\u001b[0;32m     48\u001b[0m fold_train_y, fold_test_y \u001b[38;5;241m=\u001b[39m \u001b[38;5;28mself\u001b[39m\u001b[38;5;241m.\u001b[39my_train\u001b[38;5;241m.\u001b[39miloc[train_i], \u001b[38;5;28mself\u001b[39m\u001b[38;5;241m.\u001b[39my_train\u001b[38;5;241m.\u001b[39miloc[test_i]\n\u001b[1;32m---> 49\u001b[0m \u001b[38;5;28;43mself\u001b[39;49m\u001b[38;5;241;43m.\u001b[39;49m\u001b[43mmodel\u001b[49m\u001b[38;5;241;43m.\u001b[39;49m\u001b[43mfit\u001b[49m\u001b[43m(\u001b[49m\u001b[43mfold_train_X\u001b[49m\u001b[43m,\u001b[49m\u001b[43m \u001b[49m\u001b[43mfold_train_y\u001b[49m\u001b[43m)\u001b[49m\n\u001b[0;32m     50\u001b[0m y_pred \u001b[38;5;241m=\u001b[39m \u001b[38;5;28mself\u001b[39m\u001b[38;5;241m.\u001b[39mmodel\u001b[38;5;241m.\u001b[39mpredict(fold_test_X)\n\u001b[0;32m     52\u001b[0m \u001b[38;5;66;03m# Calculate metrics\u001b[39;00m\n",
      "File \u001b[1;32mc:\\Users\\joepa\\OneDrive\\Desktop\\computerScienceYear4\\Data Mining\\summary_eval\\venv\\lib\\site-packages\\sklearn\\base.py:1474\u001b[0m, in \u001b[0;36m_fit_context.<locals>.decorator.<locals>.wrapper\u001b[1;34m(estimator, *args, **kwargs)\u001b[0m\n\u001b[0;32m   1467\u001b[0m     estimator\u001b[38;5;241m.\u001b[39m_validate_params()\n\u001b[0;32m   1469\u001b[0m \u001b[38;5;28;01mwith\u001b[39;00m config_context(\n\u001b[0;32m   1470\u001b[0m     skip_parameter_validation\u001b[38;5;241m=\u001b[39m(\n\u001b[0;32m   1471\u001b[0m         prefer_skip_nested_validation \u001b[38;5;129;01mor\u001b[39;00m global_skip_validation\n\u001b[0;32m   1472\u001b[0m     )\n\u001b[0;32m   1473\u001b[0m ):\n\u001b[1;32m-> 1474\u001b[0m     \u001b[38;5;28;01mreturn\u001b[39;00m fit_method(estimator, \u001b[38;5;241m*\u001b[39margs, \u001b[38;5;241m*\u001b[39m\u001b[38;5;241m*\u001b[39mkwargs)\n",
      "File \u001b[1;32mc:\\Users\\joepa\\OneDrive\\Desktop\\computerScienceYear4\\Data Mining\\summary_eval\\venv\\lib\\site-packages\\sklearn\\multioutput.py:272\u001b[0m, in \u001b[0;36m_MultiOutputEstimator.fit\u001b[1;34m(self, X, y, sample_weight, **fit_params)\u001b[0m\n\u001b[0;32m    269\u001b[0m     \u001b[38;5;28;01mif\u001b[39;00m sample_weight \u001b[38;5;129;01mis\u001b[39;00m \u001b[38;5;129;01mnot\u001b[39;00m \u001b[38;5;28;01mNone\u001b[39;00m:\n\u001b[0;32m    270\u001b[0m         routed_params\u001b[38;5;241m.\u001b[39mestimator\u001b[38;5;241m.\u001b[39mfit[\u001b[38;5;124m\"\u001b[39m\u001b[38;5;124msample_weight\u001b[39m\u001b[38;5;124m\"\u001b[39m] \u001b[38;5;241m=\u001b[39m sample_weight\n\u001b[1;32m--> 272\u001b[0m \u001b[38;5;28mself\u001b[39m\u001b[38;5;241m.\u001b[39mestimators_ \u001b[38;5;241m=\u001b[39m \u001b[43mParallel\u001b[49m\u001b[43m(\u001b[49m\u001b[43mn_jobs\u001b[49m\u001b[38;5;241;43m=\u001b[39;49m\u001b[38;5;28;43mself\u001b[39;49m\u001b[38;5;241;43m.\u001b[39;49m\u001b[43mn_jobs\u001b[49m\u001b[43m)\u001b[49m\u001b[43m(\u001b[49m\n\u001b[0;32m    273\u001b[0m \u001b[43m    \u001b[49m\u001b[43mdelayed\u001b[49m\u001b[43m(\u001b[49m\u001b[43m_fit_estimator\u001b[49m\u001b[43m)\u001b[49m\u001b[43m(\u001b[49m\n\u001b[0;32m    274\u001b[0m \u001b[43m        \u001b[49m\u001b[38;5;28;43mself\u001b[39;49m\u001b[38;5;241;43m.\u001b[39;49m\u001b[43mestimator\u001b[49m\u001b[43m,\u001b[49m\u001b[43m \u001b[49m\u001b[43mX\u001b[49m\u001b[43m,\u001b[49m\u001b[43m \u001b[49m\u001b[43my\u001b[49m\u001b[43m[\u001b[49m\u001b[43m:\u001b[49m\u001b[43m,\u001b[49m\u001b[43m \u001b[49m\u001b[43mi\u001b[49m\u001b[43m]\u001b[49m\u001b[43m,\u001b[49m\u001b[43m \u001b[49m\u001b[38;5;241;43m*\u001b[39;49m\u001b[38;5;241;43m*\u001b[39;49m\u001b[43mrouted_params\u001b[49m\u001b[38;5;241;43m.\u001b[39;49m\u001b[43mestimator\u001b[49m\u001b[38;5;241;43m.\u001b[39;49m\u001b[43mfit\u001b[49m\n\u001b[0;32m    275\u001b[0m \u001b[43m    \u001b[49m\u001b[43m)\u001b[49m\n\u001b[0;32m    276\u001b[0m \u001b[43m    \u001b[49m\u001b[38;5;28;43;01mfor\u001b[39;49;00m\u001b[43m \u001b[49m\u001b[43mi\u001b[49m\u001b[43m \u001b[49m\u001b[38;5;129;43;01min\u001b[39;49;00m\u001b[43m \u001b[49m\u001b[38;5;28;43mrange\u001b[39;49m\u001b[43m(\u001b[49m\u001b[43my\u001b[49m\u001b[38;5;241;43m.\u001b[39;49m\u001b[43mshape\u001b[49m\u001b[43m[\u001b[49m\u001b[38;5;241;43m1\u001b[39;49m\u001b[43m]\u001b[49m\u001b[43m)\u001b[49m\n\u001b[0;32m    277\u001b[0m \u001b[43m\u001b[49m\u001b[43m)\u001b[49m\n\u001b[0;32m    279\u001b[0m \u001b[38;5;28;01mif\u001b[39;00m \u001b[38;5;28mhasattr\u001b[39m(\u001b[38;5;28mself\u001b[39m\u001b[38;5;241m.\u001b[39mestimators_[\u001b[38;5;241m0\u001b[39m], \u001b[38;5;124m\"\u001b[39m\u001b[38;5;124mn_features_in_\u001b[39m\u001b[38;5;124m\"\u001b[39m):\n\u001b[0;32m    280\u001b[0m     \u001b[38;5;28mself\u001b[39m\u001b[38;5;241m.\u001b[39mn_features_in_ \u001b[38;5;241m=\u001b[39m \u001b[38;5;28mself\u001b[39m\u001b[38;5;241m.\u001b[39mestimators_[\u001b[38;5;241m0\u001b[39m]\u001b[38;5;241m.\u001b[39mn_features_in_\n",
      "File \u001b[1;32mc:\\Users\\joepa\\OneDrive\\Desktop\\computerScienceYear4\\Data Mining\\summary_eval\\venv\\lib\\site-packages\\sklearn\\utils\\parallel.py:67\u001b[0m, in \u001b[0;36mParallel.__call__\u001b[1;34m(self, iterable)\u001b[0m\n\u001b[0;32m     62\u001b[0m config \u001b[38;5;241m=\u001b[39m get_config()\n\u001b[0;32m     63\u001b[0m iterable_with_config \u001b[38;5;241m=\u001b[39m (\n\u001b[0;32m     64\u001b[0m     (_with_config(delayed_func, config), args, kwargs)\n\u001b[0;32m     65\u001b[0m     \u001b[38;5;28;01mfor\u001b[39;00m delayed_func, args, kwargs \u001b[38;5;129;01min\u001b[39;00m iterable\n\u001b[0;32m     66\u001b[0m )\n\u001b[1;32m---> 67\u001b[0m \u001b[38;5;28;01mreturn\u001b[39;00m \u001b[38;5;28;43msuper\u001b[39;49m\u001b[43m(\u001b[49m\u001b[43m)\u001b[49m\u001b[38;5;241;43m.\u001b[39;49m\u001b[38;5;21;43m__call__\u001b[39;49m\u001b[43m(\u001b[49m\u001b[43miterable_with_config\u001b[49m\u001b[43m)\u001b[49m\n",
      "File \u001b[1;32mc:\\Users\\joepa\\OneDrive\\Desktop\\computerScienceYear4\\Data Mining\\summary_eval\\venv\\lib\\site-packages\\joblib\\parallel.py:1863\u001b[0m, in \u001b[0;36mParallel.__call__\u001b[1;34m(self, iterable)\u001b[0m\n\u001b[0;32m   1861\u001b[0m     output \u001b[38;5;241m=\u001b[39m \u001b[38;5;28mself\u001b[39m\u001b[38;5;241m.\u001b[39m_get_sequential_output(iterable)\n\u001b[0;32m   1862\u001b[0m     \u001b[38;5;28mnext\u001b[39m(output)\n\u001b[1;32m-> 1863\u001b[0m     \u001b[38;5;28;01mreturn\u001b[39;00m output \u001b[38;5;28;01mif\u001b[39;00m \u001b[38;5;28mself\u001b[39m\u001b[38;5;241m.\u001b[39mreturn_generator \u001b[38;5;28;01melse\u001b[39;00m \u001b[38;5;28;43mlist\u001b[39;49m\u001b[43m(\u001b[49m\u001b[43moutput\u001b[49m\u001b[43m)\u001b[49m\n\u001b[0;32m   1865\u001b[0m \u001b[38;5;66;03m# Let's create an ID that uniquely identifies the current call. If the\u001b[39;00m\n\u001b[0;32m   1866\u001b[0m \u001b[38;5;66;03m# call is interrupted early and that the same instance is immediately\u001b[39;00m\n\u001b[0;32m   1867\u001b[0m \u001b[38;5;66;03m# re-used, this id will be used to prevent workers that were\u001b[39;00m\n\u001b[0;32m   1868\u001b[0m \u001b[38;5;66;03m# concurrently finalizing a task from the previous call to run the\u001b[39;00m\n\u001b[0;32m   1869\u001b[0m \u001b[38;5;66;03m# callback.\u001b[39;00m\n\u001b[0;32m   1870\u001b[0m \u001b[38;5;28;01mwith\u001b[39;00m \u001b[38;5;28mself\u001b[39m\u001b[38;5;241m.\u001b[39m_lock:\n",
      "File \u001b[1;32mc:\\Users\\joepa\\OneDrive\\Desktop\\computerScienceYear4\\Data Mining\\summary_eval\\venv\\lib\\site-packages\\joblib\\parallel.py:1792\u001b[0m, in \u001b[0;36mParallel._get_sequential_output\u001b[1;34m(self, iterable)\u001b[0m\n\u001b[0;32m   1790\u001b[0m \u001b[38;5;28mself\u001b[39m\u001b[38;5;241m.\u001b[39mn_dispatched_batches \u001b[38;5;241m+\u001b[39m\u001b[38;5;241m=\u001b[39m \u001b[38;5;241m1\u001b[39m\n\u001b[0;32m   1791\u001b[0m \u001b[38;5;28mself\u001b[39m\u001b[38;5;241m.\u001b[39mn_dispatched_tasks \u001b[38;5;241m+\u001b[39m\u001b[38;5;241m=\u001b[39m \u001b[38;5;241m1\u001b[39m\n\u001b[1;32m-> 1792\u001b[0m res \u001b[38;5;241m=\u001b[39m func(\u001b[38;5;241m*\u001b[39margs, \u001b[38;5;241m*\u001b[39m\u001b[38;5;241m*\u001b[39mkwargs)\n\u001b[0;32m   1793\u001b[0m \u001b[38;5;28mself\u001b[39m\u001b[38;5;241m.\u001b[39mn_completed_tasks \u001b[38;5;241m+\u001b[39m\u001b[38;5;241m=\u001b[39m \u001b[38;5;241m1\u001b[39m\n\u001b[0;32m   1794\u001b[0m \u001b[38;5;28mself\u001b[39m\u001b[38;5;241m.\u001b[39mprint_progress()\n",
      "File \u001b[1;32mc:\\Users\\joepa\\OneDrive\\Desktop\\computerScienceYear4\\Data Mining\\summary_eval\\venv\\lib\\site-packages\\sklearn\\utils\\parallel.py:129\u001b[0m, in \u001b[0;36m_FuncWrapper.__call__\u001b[1;34m(self, *args, **kwargs)\u001b[0m\n\u001b[0;32m    127\u001b[0m     config \u001b[38;5;241m=\u001b[39m {}\n\u001b[0;32m    128\u001b[0m \u001b[38;5;28;01mwith\u001b[39;00m config_context(\u001b[38;5;241m*\u001b[39m\u001b[38;5;241m*\u001b[39mconfig):\n\u001b[1;32m--> 129\u001b[0m     \u001b[38;5;28;01mreturn\u001b[39;00m \u001b[38;5;28mself\u001b[39m\u001b[38;5;241m.\u001b[39mfunction(\u001b[38;5;241m*\u001b[39margs, \u001b[38;5;241m*\u001b[39m\u001b[38;5;241m*\u001b[39mkwargs)\n",
      "File \u001b[1;32mc:\\Users\\joepa\\OneDrive\\Desktop\\computerScienceYear4\\Data Mining\\summary_eval\\venv\\lib\\site-packages\\sklearn\\multioutput.py:61\u001b[0m, in \u001b[0;36m_fit_estimator\u001b[1;34m(estimator, X, y, sample_weight, **fit_params)\u001b[0m\n\u001b[0;32m     59\u001b[0m     estimator\u001b[38;5;241m.\u001b[39mfit(X, y, sample_weight\u001b[38;5;241m=\u001b[39msample_weight, \u001b[38;5;241m*\u001b[39m\u001b[38;5;241m*\u001b[39mfit_params)\n\u001b[0;32m     60\u001b[0m \u001b[38;5;28;01melse\u001b[39;00m:\n\u001b[1;32m---> 61\u001b[0m     estimator\u001b[38;5;241m.\u001b[39mfit(X, y, \u001b[38;5;241m*\u001b[39m\u001b[38;5;241m*\u001b[39mfit_params)\n\u001b[0;32m     62\u001b[0m \u001b[38;5;28;01mreturn\u001b[39;00m estimator\n",
      "File \u001b[1;32mc:\\Users\\joepa\\OneDrive\\Desktop\\computerScienceYear4\\Data Mining\\summary_eval\\venv\\lib\\site-packages\\sklearn\\base.py:1474\u001b[0m, in \u001b[0;36m_fit_context.<locals>.decorator.<locals>.wrapper\u001b[1;34m(estimator, *args, **kwargs)\u001b[0m\n\u001b[0;32m   1467\u001b[0m     estimator\u001b[38;5;241m.\u001b[39m_validate_params()\n\u001b[0;32m   1469\u001b[0m \u001b[38;5;28;01mwith\u001b[39;00m config_context(\n\u001b[0;32m   1470\u001b[0m     skip_parameter_validation\u001b[38;5;241m=\u001b[39m(\n\u001b[0;32m   1471\u001b[0m         prefer_skip_nested_validation \u001b[38;5;129;01mor\u001b[39;00m global_skip_validation\n\u001b[0;32m   1472\u001b[0m     )\n\u001b[0;32m   1473\u001b[0m ):\n\u001b[1;32m-> 1474\u001b[0m     \u001b[38;5;28;01mreturn\u001b[39;00m fit_method(estimator, \u001b[38;5;241m*\u001b[39margs, \u001b[38;5;241m*\u001b[39m\u001b[38;5;241m*\u001b[39mkwargs)\n",
      "File \u001b[1;32mc:\\Users\\joepa\\OneDrive\\Desktop\\computerScienceYear4\\Data Mining\\summary_eval\\venv\\lib\\site-packages\\sklearn\\ensemble\\_hist_gradient_boosting\\gradient_boosting.py:908\u001b[0m, in \u001b[0;36mBaseHistGradientBoosting.fit\u001b[1;34m(self, X, y, sample_weight)\u001b[0m\n\u001b[0;32m    888\u001b[0m \u001b[38;5;28;01mfor\u001b[39;00m k \u001b[38;5;129;01min\u001b[39;00m \u001b[38;5;28mrange\u001b[39m(\u001b[38;5;28mself\u001b[39m\u001b[38;5;241m.\u001b[39mn_trees_per_iteration_):\n\u001b[0;32m    889\u001b[0m     grower \u001b[38;5;241m=\u001b[39m TreeGrower(\n\u001b[0;32m    890\u001b[0m         X_binned\u001b[38;5;241m=\u001b[39mX_binned_train,\n\u001b[0;32m    891\u001b[0m         gradients\u001b[38;5;241m=\u001b[39mg_view[:, k],\n\u001b[1;32m   (...)\u001b[0m\n\u001b[0;32m    906\u001b[0m         n_threads\u001b[38;5;241m=\u001b[39mn_threads,\n\u001b[0;32m    907\u001b[0m     )\n\u001b[1;32m--> 908\u001b[0m     \u001b[43mgrower\u001b[49m\u001b[38;5;241;43m.\u001b[39;49m\u001b[43mgrow\u001b[49m\u001b[43m(\u001b[49m\u001b[43m)\u001b[49m\n\u001b[0;32m    910\u001b[0m     acc_apply_split_time \u001b[38;5;241m+\u001b[39m\u001b[38;5;241m=\u001b[39m grower\u001b[38;5;241m.\u001b[39mtotal_apply_split_time\n\u001b[0;32m    911\u001b[0m     acc_find_split_time \u001b[38;5;241m+\u001b[39m\u001b[38;5;241m=\u001b[39m grower\u001b[38;5;241m.\u001b[39mtotal_find_split_time\n",
      "File \u001b[1;32mc:\\Users\\joepa\\OneDrive\\Desktop\\computerScienceYear4\\Data Mining\\summary_eval\\venv\\lib\\site-packages\\sklearn\\ensemble\\_hist_gradient_boosting\\grower.py:376\u001b[0m, in \u001b[0;36mTreeGrower.grow\u001b[1;34m(self)\u001b[0m\n\u001b[0;32m    374\u001b[0m \u001b[38;5;250m\u001b[39m\u001b[38;5;124;03m\"\"\"Grow the tree, from root to leaves.\"\"\"\u001b[39;00m\n\u001b[0;32m    375\u001b[0m \u001b[38;5;28;01mwhile\u001b[39;00m \u001b[38;5;28mself\u001b[39m\u001b[38;5;241m.\u001b[39msplittable_nodes:\n\u001b[1;32m--> 376\u001b[0m     \u001b[38;5;28;43mself\u001b[39;49m\u001b[38;5;241;43m.\u001b[39;49m\u001b[43msplit_next\u001b[49m\u001b[43m(\u001b[49m\u001b[43m)\u001b[49m\n\u001b[0;32m    378\u001b[0m \u001b[38;5;28mself\u001b[39m\u001b[38;5;241m.\u001b[39m_apply_shrinkage()\n",
      "File \u001b[1;32mc:\\Users\\joepa\\OneDrive\\Desktop\\computerScienceYear4\\Data Mining\\summary_eval\\venv\\lib\\site-packages\\sklearn\\ensemble\\_hist_gradient_boosting\\grower.py:615\u001b[0m, in \u001b[0;36mTreeGrower.split_next\u001b[1;34m(self)\u001b[0m\n\u001b[0;32m    613\u001b[0m     \u001b[38;5;28mself\u001b[39m\u001b[38;5;241m.\u001b[39m_compute_best_split_and_push(left_child_node)\n\u001b[0;32m    614\u001b[0m \u001b[38;5;28;01mif\u001b[39;00m should_split_right:\n\u001b[1;32m--> 615\u001b[0m     \u001b[38;5;28;43mself\u001b[39;49m\u001b[38;5;241;43m.\u001b[39;49m\u001b[43m_compute_best_split_and_push\u001b[49m\u001b[43m(\u001b[49m\u001b[43mright_child_node\u001b[49m\u001b[43m)\u001b[49m\n\u001b[0;32m    616\u001b[0m \u001b[38;5;28mself\u001b[39m\u001b[38;5;241m.\u001b[39mtotal_find_split_time \u001b[38;5;241m+\u001b[39m\u001b[38;5;241m=\u001b[39m time() \u001b[38;5;241m-\u001b[39m tic\n\u001b[0;32m    618\u001b[0m \u001b[38;5;66;03m# Release memory used by histograms as they are no longer needed\u001b[39;00m\n\u001b[0;32m    619\u001b[0m \u001b[38;5;66;03m# for leaf nodes since they won't be split.\u001b[39;00m\n",
      "File \u001b[1;32mc:\\Users\\joepa\\OneDrive\\Desktop\\computerScienceYear4\\Data Mining\\summary_eval\\venv\\lib\\site-packages\\sklearn\\ensemble\\_hist_gradient_boosting\\grower.py:446\u001b[0m, in \u001b[0;36mTreeGrower._compute_best_split_and_push\u001b[1;34m(self, node)\u001b[0m\n\u001b[0;32m    437\u001b[0m \u001b[38;5;28;01mdef\u001b[39;00m \u001b[38;5;21m_compute_best_split_and_push\u001b[39m(\u001b[38;5;28mself\u001b[39m, node):\n\u001b[0;32m    438\u001b[0m \u001b[38;5;250m    \u001b[39m\u001b[38;5;124;03m\"\"\"Compute the best possible split (SplitInfo) of a given node.\u001b[39;00m\n\u001b[0;32m    439\u001b[0m \n\u001b[0;32m    440\u001b[0m \u001b[38;5;124;03m    Also push it in the heap of splittable nodes if gain isn't zero.\u001b[39;00m\n\u001b[1;32m   (...)\u001b[0m\n\u001b[0;32m    443\u001b[0m \u001b[38;5;124;03m    (min_hessians_to_split, min_gain_to_split, min_samples_leaf)\u001b[39;00m\n\u001b[0;32m    444\u001b[0m \u001b[38;5;124;03m    \"\"\"\u001b[39;00m\n\u001b[1;32m--> 446\u001b[0m     node\u001b[38;5;241m.\u001b[39msplit_info \u001b[38;5;241m=\u001b[39m \u001b[38;5;28;43mself\u001b[39;49m\u001b[38;5;241;43m.\u001b[39;49m\u001b[43msplitter\u001b[49m\u001b[38;5;241;43m.\u001b[39;49m\u001b[43mfind_node_split\u001b[49m\u001b[43m(\u001b[49m\n\u001b[0;32m    447\u001b[0m \u001b[43m        \u001b[49m\u001b[43mn_samples\u001b[49m\u001b[38;5;241;43m=\u001b[39;49m\u001b[43mnode\u001b[49m\u001b[38;5;241;43m.\u001b[39;49m\u001b[43mn_samples\u001b[49m\u001b[43m,\u001b[49m\n\u001b[0;32m    448\u001b[0m \u001b[43m        \u001b[49m\u001b[43mhistograms\u001b[49m\u001b[38;5;241;43m=\u001b[39;49m\u001b[43mnode\u001b[49m\u001b[38;5;241;43m.\u001b[39;49m\u001b[43mhistograms\u001b[49m\u001b[43m,\u001b[49m\n\u001b[0;32m    449\u001b[0m \u001b[43m        \u001b[49m\u001b[43msum_gradients\u001b[49m\u001b[38;5;241;43m=\u001b[39;49m\u001b[43mnode\u001b[49m\u001b[38;5;241;43m.\u001b[39;49m\u001b[43msum_gradients\u001b[49m\u001b[43m,\u001b[49m\n\u001b[0;32m    450\u001b[0m \u001b[43m        \u001b[49m\u001b[43msum_hessians\u001b[49m\u001b[38;5;241;43m=\u001b[39;49m\u001b[43mnode\u001b[49m\u001b[38;5;241;43m.\u001b[39;49m\u001b[43msum_hessians\u001b[49m\u001b[43m,\u001b[49m\n\u001b[0;32m    451\u001b[0m \u001b[43m        \u001b[49m\u001b[43mvalue\u001b[49m\u001b[38;5;241;43m=\u001b[39;49m\u001b[43mnode\u001b[49m\u001b[38;5;241;43m.\u001b[39;49m\u001b[43mvalue\u001b[49m\u001b[43m,\u001b[49m\n\u001b[0;32m    452\u001b[0m \u001b[43m        \u001b[49m\u001b[43mlower_bound\u001b[49m\u001b[38;5;241;43m=\u001b[39;49m\u001b[43mnode\u001b[49m\u001b[38;5;241;43m.\u001b[39;49m\u001b[43mchildren_lower_bound\u001b[49m\u001b[43m,\u001b[49m\n\u001b[0;32m    453\u001b[0m \u001b[43m        \u001b[49m\u001b[43mupper_bound\u001b[49m\u001b[38;5;241;43m=\u001b[39;49m\u001b[43mnode\u001b[49m\u001b[38;5;241;43m.\u001b[39;49m\u001b[43mchildren_upper_bound\u001b[49m\u001b[43m,\u001b[49m\n\u001b[0;32m    454\u001b[0m \u001b[43m        \u001b[49m\u001b[43mallowed_features\u001b[49m\u001b[38;5;241;43m=\u001b[39;49m\u001b[43mnode\u001b[49m\u001b[38;5;241;43m.\u001b[39;49m\u001b[43mallowed_features\u001b[49m\u001b[43m,\u001b[49m\n\u001b[0;32m    455\u001b[0m \u001b[43m    \u001b[49m\u001b[43m)\u001b[49m\n\u001b[0;32m    457\u001b[0m     \u001b[38;5;28;01mif\u001b[39;00m node\u001b[38;5;241m.\u001b[39msplit_info\u001b[38;5;241m.\u001b[39mgain \u001b[38;5;241m<\u001b[39m\u001b[38;5;241m=\u001b[39m \u001b[38;5;241m0\u001b[39m:  \u001b[38;5;66;03m# no valid split\u001b[39;00m\n\u001b[0;32m    458\u001b[0m         \u001b[38;5;28mself\u001b[39m\u001b[38;5;241m.\u001b[39m_finalize_leaf(node)\n",
      "\u001b[1;31mKeyboardInterrupt\u001b[0m: "
     ]
    }
   ],
   "source": [
    "param_grid = {\n",
    "    \"learning_rate\": [0.1, 0.01, 0.001],\n",
    "    \"max_iter\": [100, 200, 300],\n",
    "    \"max_depth\": [None, 5, 10, 20],\n",
    "    \"l2_regularisation\": [0, 1, 10],\n",
    "}\n",
    "\n",
    "scores = {}  # parameter combination -> mean columnwise RMSE\n",
    "\n",
    "for learning_rate in param_grid[\"learning_rate\"]:\n",
    "    for max_iter in param_grid[\"max_iter\"]:\n",
    "        for max_depth in param_grid[\"max_depth\"]:\n",
    "            for l2_regularisation in param_grid[\"l2_regularisation\"]:\n",
    "                model = MultiOutputRegressor(\n",
    "                    HistGradientBoostingRegressor(\n",
    "                        learning_rate=learning_rate,\n",
    "                        max_iter=max_iter,\n",
    "                        max_depth=max_depth,\n",
    "                        l2_regularization=l2_regularisation,\n",
    "                        random_state=0,\n",
    "                    )\n",
    "                )\n",
    "                results_df = cross_validate(model, X_train, y_train, n_folds=5, n_runs=1)\n",
    "                scores[(learning_rate, max_iter, max_depth, l2_regularisation)] = results_df[\"rmse\"][\"mean_columnwise\"][\"mean\"]\n",
    "\n",
    "                print(\n",
    "                    learning_rate,\n",
    "                    max_iter,\n",
    "                    max_depth,\n",
    "                    l2_regularisation,\n",
    "                    scores[(learning_rate, max_iter, max_depth, l2_regularisation)],\n",
    "                )\n",
    "\n",
    "{k: v for k, v in sorted(scores.items(), key=lambda item: item[1])}\n",
    "\n"
   ]
  },
  {
   "cell_type": "markdown",
   "metadata": {},
   "source": [
    "best score achieved with lr = 0.1, max_iter = 200, max_depth = 5, l2_reg = 10"
   ]
  },
  {
   "cell_type": "code",
   "execution_count": 21,
   "metadata": {},
   "outputs": [
    {
     "name": "stderr",
     "output_type": "stream",
     "text": [
      "2024-03-17 15:03:32,541 - INFO - Using 5x5 cross validation\n"
     ]
    },
    {
     "data": {
      "application/vnd.jupyter.widget-view+json": {
       "model_id": "cac0fca6268d4e26a9b6c4a2e9b1e31d",
       "version_major": 2,
       "version_minor": 0
      },
      "text/plain": [
       "  0%|          | 0/25 [00:00<?, ?it/s]"
      ]
     },
     "metadata": {},
     "output_type": "display_data"
    },
    {
     "data": {
      "text/html": [
       "<div>\n",
       "<style scoped>\n",
       "    .dataframe tbody tr th:only-of-type {\n",
       "        vertical-align: middle;\n",
       "    }\n",
       "\n",
       "    .dataframe tbody tr th {\n",
       "        vertical-align: top;\n",
       "    }\n",
       "\n",
       "    .dataframe thead tr th {\n",
       "        text-align: left;\n",
       "    }\n",
       "</style>\n",
       "<table border=\"1\" class=\"dataframe\">\n",
       "  <thead>\n",
       "    <tr>\n",
       "      <th>Metric</th>\n",
       "      <th colspan=\"3\" halign=\"left\">rmse</th>\n",
       "      <th colspan=\"3\" halign=\"left\">mae</th>\n",
       "      <th colspan=\"3\" halign=\"left\">r2</th>\n",
       "    </tr>\n",
       "    <tr>\n",
       "      <th>Target</th>\n",
       "      <th>content</th>\n",
       "      <th>wording</th>\n",
       "      <th>mean_columnwise</th>\n",
       "      <th>content</th>\n",
       "      <th>wording</th>\n",
       "      <th>mean_columnwise</th>\n",
       "      <th>content</th>\n",
       "      <th>wording</th>\n",
       "      <th>mean_columnwise</th>\n",
       "    </tr>\n",
       "  </thead>\n",
       "  <tbody>\n",
       "    <tr>\n",
       "      <th>mean</th>\n",
       "      <td>0.464597</td>\n",
       "      <td>0.615788</td>\n",
       "      <td>0.540192</td>\n",
       "      <td>0.351559</td>\n",
       "      <td>0.471607</td>\n",
       "      <td>0.411583</td>\n",
       "      <td>0.800837</td>\n",
       "      <td>0.650247</td>\n",
       "      <td>0.725542</td>\n",
       "    </tr>\n",
       "    <tr>\n",
       "      <th>stdev</th>\n",
       "      <td>0.011745</td>\n",
       "      <td>0.014519</td>\n",
       "      <td>0.013132</td>\n",
       "      <td>0.008442</td>\n",
       "      <td>0.011644</td>\n",
       "      <td>0.010043</td>\n",
       "      <td>0.010006</td>\n",
       "      <td>0.011689</td>\n",
       "      <td>0.010848</td>\n",
       "    </tr>\n",
       "    <tr>\n",
       "      <th>n_trials</th>\n",
       "      <td>25</td>\n",
       "      <td>25</td>\n",
       "      <td>2</td>\n",
       "      <td>25</td>\n",
       "      <td>25</td>\n",
       "      <td>2</td>\n",
       "      <td>25</td>\n",
       "      <td>25</td>\n",
       "      <td>2</td>\n",
       "    </tr>\n",
       "  </tbody>\n",
       "</table>\n",
       "</div>"
      ],
      "text/plain": [
       "Metric        rmse                                 mae            \\\n",
       "Target     content   wording mean_columnwise   content   wording   \n",
       "mean      0.464597  0.615788        0.540192  0.351559  0.471607   \n",
       "stdev     0.011745  0.014519        0.013132  0.008442  0.011644   \n",
       "n_trials        25        25               2        25        25   \n",
       "\n",
       "Metric                          r2                            \n",
       "Target   mean_columnwise   content   wording mean_columnwise  \n",
       "mean            0.411583  0.800837  0.650247        0.725542  \n",
       "stdev           0.010043  0.010006  0.011689        0.010848  \n",
       "n_trials               2        25        25               2  "
      ]
     },
     "metadata": {},
     "output_type": "display_data"
    },
    {
     "name": "stdout",
     "output_type": "stream",
     "text": [
      "0.5401924612719231\n",
      "0.1 200 5 10 0.5401924612719231\n"
     ]
    },
    {
     "data": {
      "image/png": "[encoded data removed]",
      "text/plain": [
       "<Figure size 640x480 with 1 Axes>"
      ]
     },
     "metadata": {},
     "output_type": "display_data"
    }
   ],
   "source": [
    "from sklearn.inspection import permutation_importance\n",
    "model = MultiOutputRegressor(\n",
    "    HistGradientBoostingRegressor(\n",
    "        learning_rate=0.1,\n",
    "        max_iter=200,\n",
    "        max_depth=5,\n",
    "        l2_regularization=10,\n",
    "        random_state=0,\n",
    "    )\n",
    ")\n",
    "scores = {}\n",
    "results_df = cross_validate(model, X_train, y_train, n_folds=5, n_runs=5)\n",
    "display(results_df)\n",
    "print(results_df[\"rmse\"][\"mean_columnwise\"][\"mean\"])\n",
    "scores[(learning_rate, max_iter, max_depth, l2_regularisation)] = results_df[\"rmse\"][\"mean_columnwise\"][\"mean\"]\n",
    "\n",
    "print(\n",
    "                    0.1,\n",
    "                    200,\n",
    "                    5,\n",
    "                    10,\n",
    "                    scores[(learning_rate, max_iter, max_depth, l2_regularisation)],\n",
    "                )\n",
    "\n",
    "model.fit(X_train, y_train)\n",
    "result = permutation_importance(\n",
    "    model, X_train, y_train, n_repeats=10, random_state=42, n_jobs=1\n",
    ")\n",
    "\n",
    "sorted_importances_idx = result.importances_mean.argsort()\n",
    "importances = pd.DataFrame(\n",
    "    result.importances[sorted_importances_idx].T,\n",
    "    columns=X_train.columns[sorted_importances_idx],\n",
    ")\n",
    "ax = importances.plot.box(vert=False, whis=10)\n",
    "ax.set_title(\"Permutation Importances (train set)\")\n",
    "ax.axvline(x=0, color=\"k\", linestyle=\"--\")\n",
    "ax.set_xlabel(\"Decrease in accuracy score\")\n",
    "ax.figure.tight_layout()\n"
   ]
  },
  {
   "cell_type": "code",
   "execution_count": null,
   "metadata": {},
   "outputs": [
    {
     "data": {
      "image/png": "[encoded data removed]",
      "text/plain": [
       "<Figure size 640x480 with 1 Axes>"
      ]
     },
     "metadata": {},
     "output_type": "display_data"
    },
    {
     "data": {
      "image/png": "[encoded data removed]",
      "text/plain": [
       "<Figure size 640x480 with 1 Axes>"
      ]
     },
     "metadata": {},
     "output_type": "display_data"
    }
   ],
   "source": [
    "import matplotlib.pyplot as plt\n",
    "y_test_pred = model.predict(X_test)\n",
    "\n",
    "# plot predicted vs actual for wording, then content\n",
    "plt.scatter(y_test[\"wording\"], y_test_pred[:, 1], s=1)\n",
    "plt.plot([-2, 4], [-2, 4], color=\"black\", linestyle=\"--\")\n",
    "plt.xlabel(\"Actual\")\n",
    "plt.ylabel(\"Predicted\")\n",
    "plt.title(\"Wording\")\n",
    "plt.show()\n",
    "\n",
    "plt.scatter(y_test[\"content\"], y_test_pred[:, 0], s=1)\n",
    "plt.plot([-2, 4], [-2, 4], color=\"black\", linestyle=\"--\")\n",
    "plt.xlabel(\"Actual\")\n",
    "plt.ylabel(\"Predicted\")\n",
    "plt.title(\"Content\")\n",
    "plt.show()"
   ]
  },
  {
   "cell_type": "code",
   "execution_count": null,
   "metadata": {},
   "outputs": [
    {
     "name": "stderr",
     "output_type": "stream",
     "text": [
      "2024-03-16 17:51:16,955 - INFO - Using 5x5 cross validation\n"
     ]
    },
    {
     "data": {
      "application/vnd.jupyter.widget-view+json": {
       "model_id": "074d07357fcc4c8a8c09129dd9ddf481",
       "version_major": 2,
       "version_minor": 0
      },
      "text/plain": [
       "  0%|          | 0/25 [00:00<?, ?it/s]"
      ]
     },
     "metadata": {},
     "output_type": "display_data"
    },
    {
     "data": {
      "text/html": [
       "<div>\n",
       "<style scoped>\n",
       "    .dataframe tbody tr th:only-of-type {\n",
       "        vertical-align: middle;\n",
       "    }\n",
       "\n",
       "    .dataframe tbody tr th {\n",
       "        vertical-align: top;\n",
       "    }\n",
       "\n",
       "    .dataframe thead tr th {\n",
       "        text-align: left;\n",
       "    }\n",
       "</style>\n",
       "<table border=\"1\" class=\"dataframe\">\n",
       "  <thead>\n",
       "    <tr>\n",
       "      <th>Metric</th>\n",
       "      <th colspan=\"3\" halign=\"left\">rmse</th>\n",
       "      <th colspan=\"3\" halign=\"left\">mae</th>\n",
       "      <th colspan=\"3\" halign=\"left\">r2</th>\n",
       "    </tr>\n",
       "    <tr>\n",
       "      <th>Target</th>\n",
       "      <th>content</th>\n",
       "      <th>wording</th>\n",
       "      <th>mean_columnwise</th>\n",
       "      <th>content</th>\n",
       "      <th>wording</th>\n",
       "      <th>mean_columnwise</th>\n",
       "      <th>content</th>\n",
       "      <th>wording</th>\n",
       "      <th>mean_columnwise</th>\n",
       "    </tr>\n",
       "  </thead>\n",
       "  <tbody>\n",
       "    <tr>\n",
       "      <th>mean</th>\n",
       "      <td>0.471062</td>\n",
       "      <td>0.621285</td>\n",
       "      <td>0.546173</td>\n",
       "      <td>0.355612</td>\n",
       "      <td>0.474933</td>\n",
       "      <td>0.415272</td>\n",
       "      <td>0.795298</td>\n",
       "      <td>0.644006</td>\n",
       "      <td>0.719652</td>\n",
       "    </tr>\n",
       "    <tr>\n",
       "      <th>stdev</th>\n",
       "      <td>0.011776</td>\n",
       "      <td>0.01617</td>\n",
       "      <td>0.013973</td>\n",
       "      <td>0.008564</td>\n",
       "      <td>0.012358</td>\n",
       "      <td>0.010461</td>\n",
       "      <td>0.00932</td>\n",
       "      <td>0.012154</td>\n",
       "      <td>0.010737</td>\n",
       "    </tr>\n",
       "    <tr>\n",
       "      <th>n_trials</th>\n",
       "      <td>25</td>\n",
       "      <td>25</td>\n",
       "      <td>2</td>\n",
       "      <td>25</td>\n",
       "      <td>25</td>\n",
       "      <td>2</td>\n",
       "      <td>25</td>\n",
       "      <td>25</td>\n",
       "      <td>2</td>\n",
       "    </tr>\n",
       "  </tbody>\n",
       "</table>\n",
       "</div>"
      ],
      "text/plain": [
       "Metric        rmse                                 mae            \\\n",
       "Target     content   wording mean_columnwise   content   wording   \n",
       "mean      0.471062  0.621285        0.546173  0.355612  0.474933   \n",
       "stdev     0.011776   0.01617        0.013973  0.008564  0.012358   \n",
       "n_trials        25        25               2        25        25   \n",
       "\n",
       "Metric                          r2                            \n",
       "Target   mean_columnwise   content   wording mean_columnwise  \n",
       "mean            0.415272  0.795298  0.644006        0.719652  \n",
       "stdev           0.010461   0.00932  0.012154        0.010737  \n",
       "n_trials               2        25        25               2  "
      ]
     },
     "metadata": {},
     "output_type": "display_data"
    },
    {
     "data": {
      "image/png": "[encoded data removed]",
      "text/plain": [
       "<Figure size 640x480 with 1 Axes>"
      ]
     },
     "metadata": {},
     "output_type": "display_data"
    }
   ],
   "source": [
    "X_train_ss = X_train.drop(columns=[\"num_words\", \"num_sentences\"])\n",
    "\n",
    "model = MultiOutputRegressor(HistGradientBoostingRegressor(random_state=0))\n",
    "\n",
    "results_df = cross_validate(model, X_train_ss, y_train, n_folds=5, n_runs=5)\n",
    "display(results_df)\n",
    "\n",
    "model.fit(X_train_ss, y_train)\n",
    "result = permutation_importance(\n",
    "    model, X_train_ss, y_train, n_repeats=10, random_state=42, n_jobs=1\n",
    ")\n",
    "\n",
    "sorted_importances_idx = result.importances_mean.argsort()\n",
    "importances = pd.DataFrame(\n",
    "    result.importances[sorted_importances_idx].T,\n",
    "    columns=X_train_ss.columns[sorted_importances_idx],\n",
    ")\n",
    "ax = importances.plot.box(vert=False, whis=10)\n",
    "ax.set_title(\"Permutation Importances (train set)\")\n",
    "ax.axvline(x=0, color=\"k\", linestyle=\"--\")\n",
    "ax.set_xlabel(\"Decrease in accuracy score\")\n",
    "ax.figure.tight_layout()"
   ]
  },
  {
   "cell_type": "code",
   "execution_count": null,
   "metadata": {},
   "outputs": [
    {
     "name": "stderr",
     "output_type": "stream",
     "text": [
      "2024-03-16 17:51:56,849 - INFO - Using 5x5 cross validation\n"
     ]
    },
    {
     "data": {
      "application/vnd.jupyter.widget-view+json": {
       "model_id": "a4572485b1e341b2ab5f73adf2ff22de",
       "version_major": 2,
       "version_minor": 0
      },
      "text/plain": [
       "  0%|          | 0/25 [00:00<?, ?it/s]"
      ]
     },
     "metadata": {},
     "output_type": "display_data"
    },
    {
     "data": {
      "text/html": [
       "<div>\n",
       "<style scoped>\n",
       "    .dataframe tbody tr th:only-of-type {\n",
       "        vertical-align: middle;\n",
       "    }\n",
       "\n",
       "    .dataframe tbody tr th {\n",
       "        vertical-align: top;\n",
       "    }\n",
       "\n",
       "    .dataframe thead tr th {\n",
       "        text-align: left;\n",
       "    }\n",
       "</style>\n",
       "<table border=\"1\" class=\"dataframe\">\n",
       "  <thead>\n",
       "    <tr>\n",
       "      <th>Metric</th>\n",
       "      <th colspan=\"3\" halign=\"left\">rmse</th>\n",
       "      <th colspan=\"3\" halign=\"left\">mae</th>\n",
       "      <th colspan=\"3\" halign=\"left\">r2</th>\n",
       "    </tr>\n",
       "    <tr>\n",
       "      <th>Target</th>\n",
       "      <th>content</th>\n",
       "      <th>wording</th>\n",
       "      <th>mean_columnwise</th>\n",
       "      <th>content</th>\n",
       "      <th>wording</th>\n",
       "      <th>mean_columnwise</th>\n",
       "      <th>content</th>\n",
       "      <th>wording</th>\n",
       "      <th>mean_columnwise</th>\n",
       "    </tr>\n",
       "  </thead>\n",
       "  <tbody>\n",
       "    <tr>\n",
       "      <th>mean</th>\n",
       "      <td>0.544545</td>\n",
       "      <td>0.840285</td>\n",
       "      <td>0.692415</td>\n",
       "      <td>0.410144</td>\n",
       "      <td>0.654037</td>\n",
       "      <td>0.532091</td>\n",
       "      <td>0.726229</td>\n",
       "      <td>0.34851</td>\n",
       "      <td>0.53737</td>\n",
       "    </tr>\n",
       "    <tr>\n",
       "      <th>stdev</th>\n",
       "      <td>0.016405</td>\n",
       "      <td>0.020287</td>\n",
       "      <td>0.018346</td>\n",
       "      <td>0.010866</td>\n",
       "      <td>0.015468</td>\n",
       "      <td>0.013167</td>\n",
       "      <td>0.017901</td>\n",
       "      <td>0.028575</td>\n",
       "      <td>0.023238</td>\n",
       "    </tr>\n",
       "    <tr>\n",
       "      <th>n_trials</th>\n",
       "      <td>25</td>\n",
       "      <td>25</td>\n",
       "      <td>2</td>\n",
       "      <td>25</td>\n",
       "      <td>25</td>\n",
       "      <td>2</td>\n",
       "      <td>25</td>\n",
       "      <td>25</td>\n",
       "      <td>2</td>\n",
       "    </tr>\n",
       "  </tbody>\n",
       "</table>\n",
       "</div>"
      ],
      "text/plain": [
       "Metric        rmse                                 mae            \\\n",
       "Target     content   wording mean_columnwise   content   wording   \n",
       "mean      0.544545  0.840285        0.692415  0.410144  0.654037   \n",
       "stdev     0.016405  0.020287        0.018346  0.010866  0.015468   \n",
       "n_trials        25        25               2        25        25   \n",
       "\n",
       "Metric                          r2                            \n",
       "Target   mean_columnwise   content   wording mean_columnwise  \n",
       "mean            0.532091  0.726229   0.34851         0.53737  \n",
       "stdev           0.013167  0.017901  0.028575        0.023238  \n",
       "n_trials               2        25        25               2  "
      ]
     },
     "metadata": {},
     "output_type": "display_data"
    },
    {
     "data": {
      "image/png": "[encoded data removed]",
      "text/plain": [
       "<Figure size 640x480 with 1 Axes>"
      ]
     },
     "metadata": {},
     "output_type": "display_data"
    }
   ],
   "source": [
    "X_train_nw = X_train[[\"num_words\"]]\n",
    "\n",
    "model = MultiOutputRegressor(HistGradientBoostingRegressor(random_state=0))\n",
    "\n",
    "results_df = cross_validate(model, X_train_nw, y_train, n_folds=5, n_runs=5)\n",
    "display(results_df)\n",
    "\n",
    "model.fit(X_train_nw, y_train)\n",
    "result = permutation_importance(\n",
    "    model, X_train_nw, y_train, n_repeats=10, random_state=42, n_jobs=1\n",
    ")\n",
    "\n",
    "sorted_importances_idx = result.importances_mean.argsort()\n",
    "importances = pd.DataFrame(\n",
    "    result.importances[sorted_importances_idx].T,\n",
    "    columns=X_train_nw.columns[sorted_importances_idx],\n",
    ")\n",
    "ax = importances.plot.box(vert=False, whis=10)\n",
    "ax.set_title(\"Permutation Importances (train set)\")\n",
    "ax.axvline(x=0, color=\"k\", linestyle=\"--\")\n",
    "ax.set_xlabel(\"Decrease in accuracy score\")\n",
    "ax.figure.tight_layout()"
   ]
  }
 ],
 "metadata": {
  "kernelspec": {
   "display_name": "venv",
   "language": "python",
   "name": "python3"
  },
  "language_info": {
   "codemirror_mode": {
    "name": "ipython",
    "version": 3
   },
   "file_extension": ".py",
   "mimetype": "text/x-python",
   "name": "python",
   "nbconvert_exporter": "python",
   "pygments_lexer": "ipython3",
   "version": "3.9.12"
  }
 },
 "nbformat": 4,
 "nbformat_minor": 2
}
