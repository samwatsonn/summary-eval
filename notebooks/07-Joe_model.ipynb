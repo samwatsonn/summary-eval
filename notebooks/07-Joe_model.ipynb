{
 "cells": [
  {
   "cell_type": "code",
   "execution_count": 8,
   "metadata": {},
   "outputs": [
    {
     "name": "stdout",
     "output_type": "stream",
     "text": [
      "Original sys.path: ['c:\\\\Users\\\\joepa\\\\OneDrive\\\\Desktop\\\\computerScienceYear4\\\\Data Mining\\\\summary_eval\\\\notebooks', 'C:\\\\Users\\\\joepa\\\\OneDrive\\\\Desktop\\\\computerScienceYear4\\\\Data Mining\\\\summary_eval', 'C:\\\\Users\\\\joepa\\\\anaconda3\\\\python39.zip', 'C:\\\\Users\\\\joepa\\\\anaconda3\\\\DLLs', 'C:\\\\Users\\\\joepa\\\\anaconda3\\\\lib', 'C:\\\\Users\\\\joepa\\\\anaconda3', 'c:\\\\Users\\\\joepa\\\\OneDrive\\\\Desktop\\\\computerScienceYear4\\\\Data Mining\\\\summary_eval\\\\venv', '', 'c:\\\\Users\\\\joepa\\\\OneDrive\\\\Desktop\\\\computerScienceYear4\\\\Data Mining\\\\summary_eval\\\\venv\\\\lib\\\\site-packages', 'c:\\\\Users\\\\joepa\\\\OneDrive\\\\Desktop\\\\computerScienceYear4\\\\Data Mining\\\\summary_eval\\\\venv\\\\lib\\\\site-packages\\\\win32', 'c:\\\\Users\\\\joepa\\\\OneDrive\\\\Desktop\\\\computerScienceYear4\\\\Data Mining\\\\summary_eval\\\\venv\\\\lib\\\\site-packages\\\\win32\\\\lib', 'c:\\\\Users\\\\joepa\\\\OneDrive\\\\Desktop\\\\computerScienceYear4\\\\Data Mining\\\\summary_eval\\\\venv\\\\lib\\\\site-packages\\\\Pythonwin', 'C:/Users/joepa/OneDrive/Desktop/computerScienceYear4/Data Mining/summary_eval/summary_eval', 'C:/Users/joepa/OneDrive/Desktop/computerScienceYear4/Data Mining/summary_eval/summary_eval']\n",
      "Updated sys.path: ['c:\\\\Users\\\\joepa\\\\OneDrive\\\\Desktop\\\\computerScienceYear4\\\\Data Mining\\\\summary_eval\\\\notebooks', 'C:\\\\Users\\\\joepa\\\\OneDrive\\\\Desktop\\\\computerScienceYear4\\\\Data Mining\\\\summary_eval', 'C:\\\\Users\\\\joepa\\\\anaconda3\\\\python39.zip', 'C:\\\\Users\\\\joepa\\\\anaconda3\\\\DLLs', 'C:\\\\Users\\\\joepa\\\\anaconda3\\\\lib', 'C:\\\\Users\\\\joepa\\\\anaconda3', 'c:\\\\Users\\\\joepa\\\\OneDrive\\\\Desktop\\\\computerScienceYear4\\\\Data Mining\\\\summary_eval\\\\venv', '', 'c:\\\\Users\\\\joepa\\\\OneDrive\\\\Desktop\\\\computerScienceYear4\\\\Data Mining\\\\summary_eval\\\\venv\\\\lib\\\\site-packages', 'c:\\\\Users\\\\joepa\\\\OneDrive\\\\Desktop\\\\computerScienceYear4\\\\Data Mining\\\\summary_eval\\\\venv\\\\lib\\\\site-packages\\\\win32', 'c:\\\\Users\\\\joepa\\\\OneDrive\\\\Desktop\\\\computerScienceYear4\\\\Data Mining\\\\summary_eval\\\\venv\\\\lib\\\\site-packages\\\\win32\\\\lib', 'c:\\\\Users\\\\joepa\\\\OneDrive\\\\Desktop\\\\computerScienceYear4\\\\Data Mining\\\\summary_eval\\\\venv\\\\lib\\\\site-packages\\\\Pythonwin', 'C:/Users/joepa/OneDrive/Desktop/computerScienceYear4/Data Mining/summary_eval/summary_eval', 'C:/Users/joepa/OneDrive/Desktop/computerScienceYear4/Data Mining/summary_eval/summary_eval', 'C:/Users/joepa/OneDrive/Desktop/computerScienceYear4/Data Mining/summary_eval/summary_eval']\n"
     ]
    }
   ],
   "source": [
    "import pandas as pd\n",
    "import seaborn as sns\n",
    "import sys\n",
    "import string\n",
    "print('Original sys.path:', sys.path)\n",
    "\n",
    "# Append a new directory to sys.path\n",
    "sys.path.append('C:/Users/joepa/OneDrive/Desktop/computerScienceYear4/Data Mining/summary_eval/summary_eval')\n",
    "\n",
    "# Print the updated sys.path\n",
    "print('Updated sys.path:', sys.path)\n",
    "from summary_eval.data import summary_df, prompts_df\n",
    "from summary_eval.settings import TRAIN_SIZE\n",
    "from summary_eval.testing import cross_validate\n",
    "\n",
    "merged_df = pd.merge(summary_df, prompts_df, on='prompt_id')"
   ]
  },
  {
   "cell_type": "code",
   "execution_count": 9,
   "metadata": {},
   "outputs": [
    {
     "name": "stdout",
     "output_type": "stream",
     "text": [
      "        student_id prompt_id  \\\n",
      "0     000e8c3c7ddb    814d6b   \n",
      "1     0020ae56ffbf    ebad26   \n",
      "2     004e978e639e    3b9047   \n",
      "3     005ab0199905    3b9047   \n",
      "4     0070c9e7af47    814d6b   \n",
      "...            ...       ...   \n",
      "7160  ff7c7e70df07    ebad26   \n",
      "7161  ffc34d056498    3b9047   \n",
      "7162  ffd1576d2e1b    3b9047   \n",
      "7163  ffe4a98093b2    39c16e   \n",
      "7164  fffbccfd8a08    ebad26   \n",
      "\n",
      "                                                   text   content   wording  \\\n",
      "0     The third wave was an experimentto see how peo...  0.205683  0.380538   \n",
      "1     They would rub it up with soda to make the sme... -0.548304  0.506755   \n",
      "2     In Egypt, there were many occupations and soci...  3.128928  4.231226   \n",
      "3     The highest class was Pharaohs these people we... -0.210614 -0.471415   \n",
      "4     The Third Wave developed rapidly because the s...  3.272894  3.219757   \n",
      "...                                                 ...       ...       ...   \n",
      "7160  They used all sorts of chemical concoctions to...  0.205683  0.380538   \n",
      "7161  The lowest classes are slaves and farmers slav... -0.308448  0.048171   \n",
      "7162  they sorta made people start working on the st... -1.408180 -0.493603   \n",
      "7163  An ideal tragety has three elements that make ... -0.393310  0.627128   \n",
      "7164  The meat would smell sour but the would \"rub i...  1.771596  0.547742   \n",
      "\n",
      "                                        prompt_question  \\\n",
      "0     Summarize how the Third Wave developed over su...   \n",
      "1     Summarize the various ways the factory would u...   \n",
      "2     In complete sentences, summarize the structure...   \n",
      "3     In complete sentences, summarize the structure...   \n",
      "4     Summarize how the Third Wave developed over su...   \n",
      "...                                                 ...   \n",
      "7160  Summarize the various ways the factory would u...   \n",
      "7161  In complete sentences, summarize the structure...   \n",
      "7162  In complete sentences, summarize the structure...   \n",
      "7163  Summarize at least 3 elements of an ideal trag...   \n",
      "7164  Summarize the various ways the factory would u...   \n",
      "\n",
      "                   prompt_title  \\\n",
      "0                The Third Wave   \n",
      "1       Excerpt from The Jungle   \n",
      "2     Egyptian Social Structure   \n",
      "3     Egyptian Social Structure   \n",
      "4                The Third Wave   \n",
      "...                         ...   \n",
      "7160    Excerpt from The Jungle   \n",
      "7161  Egyptian Social Structure   \n",
      "7162  Egyptian Social Structure   \n",
      "7163                 On Tragedy   \n",
      "7164    Excerpt from The Jungle   \n",
      "\n",
      "                                            prompt_text  \n",
      "0     Background \\r\\nThe Third Wave experiment took ...  \n",
      "1     With one member trimming beef in a cannery, an...  \n",
      "2     Egyptian society was structured like a pyramid...  \n",
      "3     Egyptian society was structured like a pyramid...  \n",
      "4     Background \\r\\nThe Third Wave experiment took ...  \n",
      "...                                                 ...  \n",
      "7160  With one member trimming beef in a cannery, an...  \n",
      "7161  Egyptian society was structured like a pyramid...  \n",
      "7162  Egyptian society was structured like a pyramid...  \n",
      "7163  Chapter 13 \\r\\nAs the sequel to what has alrea...  \n",
      "7164  With one member trimming beef in a cannery, an...  \n",
      "\n",
      "[7165 rows x 8 columns]\n"
     ]
    },
    {
     "name": "stderr",
     "output_type": "stream",
     "text": [
      "[nltk_data] Downloading package punkt to\n",
      "[nltk_data]     C:\\Users\\joepa\\AppData\\Roaming\\nltk_data...\n",
      "[nltk_data]   Package punkt is already up-to-date!\n"
     ]
    }
   ],
   "source": [
    "#PREPROCESSING\n",
    "from typing import List\n",
    "import re\n",
    "from autocorrect import Speller\n",
    "import nltk\n",
    "import language_tool_python\n",
    "tool = language_tool_python.LanguageTool('en-US')\n",
    "\n",
    "def pre_process_whitespace(text: str) -> str:\n",
    "    # Replace all whitespace with a single space\n",
    "    text = ' '.join(text.split())\n",
    "    \n",
    "    # Remove leading and trailing whitespace\n",
    "    text = text.strip()\n",
    "    return text\n",
    "\n",
    "merged_df[\"text\"] = merged_df[\"text\"].apply(lambda x: pre_process_whitespace(x))\n",
    "\n",
    "nltk.download('punkt')\n",
    "\n",
    "def correct_spelling(text: str) -> str:\n",
    "    spell = Speller(lang='en')\n",
    "    corrected_text = []\n",
    "    for word in nltk.word_tokenize(text):\n",
    "        corrected_text.append(spell(word))\n",
    "\n",
    "    return ' '.join(corrected_text)\n",
    "\n",
    "# Apply correct_spelling function to 'text' column in merged_df\n",
    "#merged_df['text'] = merged_df['text'].apply(correct_spelling)\n",
    "\n",
    "print(merged_df)\n",
    "\n"
   ]
  },
  {
   "cell_type": "code",
   "execution_count": 10,
   "metadata": {},
   "outputs": [],
   "source": [
    "def count_specific_punctuation(text):\n",
    "    punctuation_counts = {\n",
    "        'num_commas': text.count(','),\n",
    "        'num_quotation_marks': text.count('\"'),\n",
    "        'num_brackets': text.count('(') + text.count(')'),\n",
    "        'num_full_stops': text.count('.')\n",
    "    }\n",
    "    return pd.Series(punctuation_counts)\n",
    "\n",
    "# Apply the function to each text in the DataFrame\n",
    "summary_df = pd.concat([summary_df, summary_df['text'].apply(count_specific_punctuation)], axis=1)"
   ]
  },
  {
   "cell_type": "code",
   "execution_count": 11,
   "metadata": {},
   "outputs": [
    {
     "name": "stderr",
     "output_type": "stream",
     "text": [
      "[nltk_data] Downloading package wordnet to\n",
      "[nltk_data]     C:\\Users\\joepa\\AppData\\Roaming\\nltk_data...\n",
      "[nltk_data]   Package wordnet is already up-to-date!\n",
      "[nltk_data] Downloading package averaged_perceptron_tagger to\n",
      "[nltk_data]     C:\\Users\\joepa\\AppData\\Roaming\\nltk_data...\n",
      "[nltk_data]   Package averaged_perceptron_tagger is already up-to-\n",
      "[nltk_data]       date!\n",
      "[nltk_data] Downloading package punkt to\n",
      "[nltk_data]     C:\\Users\\joepa\\AppData\\Roaming\\nltk_data...\n",
      "[nltk_data]   Package punkt is already up-to-date!\n",
      "[nltk_data] Downloading package maxent_ne_chunker to\n",
      "[nltk_data]     C:\\Users\\joepa\\AppData\\Roaming\\nltk_data...\n",
      "[nltk_data]   Package maxent_ne_chunker is already up-to-date!\n",
      "[nltk_data] Downloading package words to\n",
      "[nltk_data]     C:\\Users\\joepa\\AppData\\Roaming\\nltk_data...\n",
      "[nltk_data]   Package words is already up-to-date!\n",
      "[nltk_data] Downloading package stopwords to\n",
      "[nltk_data]     C:\\Users\\joepa\\AppData\\Roaming\\nltk_data...\n",
      "[nltk_data]   Package stopwords is already up-to-date!\n",
      "100%|██████████| 7165/7165 [00:47<00:00, 151.82it/s]\n",
      "100%|██████████| 7165/7165 [00:06<00:00, 1139.74it/s]\n",
      "100%|██████████| 7165/7165 [00:04<00:00, 1510.28it/s]\n",
      "100%|██████████| 7165/7165 [01:19<00:00, 89.95it/s] \n",
      "100%|██████████| 7165/7165 [01:48<00:00, 66.23it/s] \n",
      "100%|██████████| 7165/7165 [00:03<00:00, 2248.82it/s]\n"
     ]
    }
   ],
   "source": [
    "#FEATURE CREATION\n",
    "import nltk\n",
    "nltk.download('wordnet')\n",
    "nltk.download('averaged_perceptron_tagger')\n",
    "nltk.download('punkt')\n",
    "nltk.download('maxent_ne_chunker')\n",
    "nltk.download('words')\n",
    "from nltk.corpus import wordnet\n",
    "from nltk.tokenize import word_tokenize\n",
    "from nltk import pos_tag\n",
    "from tqdm import tqdm\n",
    "tqdm.pandas()\n",
    "\n",
    "features_df = pd.DataFrame()\n",
    "\n",
    "features_df[\"num_words\"] = summary_df[\"text\"].apply(lambda x: len(word_tokenize(x)))\n",
    "\n",
    "def count_punctuation(text):\n",
    "    return sum(1 for char in text if char in string.punctuation)\n",
    "\n",
    "features_df['punctuation_count'] = merged_df['text'].apply(count_punctuation)\n",
    "\n",
    "def count_words(text):\n",
    "    return len(text.split()) \n",
    "\n",
    "features_df['response_length'] = merged_df['text'].apply(count_words)\n",
    "\n",
    "def find_similar_words(word):\n",
    "    synonyms = set()\n",
    "    for syn in wordnet.synsets(word):\n",
    "        for lemma in syn.lemmas():\n",
    "            synonyms.add(lemma.name())\n",
    "    return synonyms\n",
    "\n",
    "def count_repeated_words(response, prompt):\n",
    "    repeated_words = set()\n",
    "    prompt_words = set(prompt.split())\n",
    "    for word in response.split():\n",
    "        if word in prompt_words:\n",
    "            repeated_words.add(word)\n",
    "        else:\n",
    "            synonyms = find_similar_words(word)\n",
    "            if synonyms.intersection(prompt_words):\n",
    "                repeated_words.add(word)\n",
    "    return len(repeated_words)\n",
    "\n",
    "# Calculate the number of repeated words for each response text\n",
    "features_df['repeated_words_prompt_text'] = merged_df.apply(lambda row: count_repeated_words(row['text'], row['prompt_text']), axis=1)\n",
    "\n",
    "features_df['repeated_words_prompt_question'] = merged_df.apply(lambda row: count_repeated_words(row['text'], row['prompt_question']), axis=1)\n",
    "\n",
    "from nltk.corpus import stopwords\n",
    "\n",
    "nltk.download('stopwords')\n",
    "\n",
    "# Get the list of stopwords\n",
    "stop_words = set(stopwords.words('english'))\n",
    "\n",
    "# Function to count the number of stopwords in a text\n",
    "def count_stopwords(text):\n",
    "    words = text.split()\n",
    "    stopwords_count = sum(1 for word in words if word.lower() in stop_words)\n",
    "    return stopwords_count\n",
    "\n",
    "# Calculate the number of stopwords for each response\n",
    "features_df['stopwords_count'] = merged_df['text'].apply(count_stopwords)\n",
    "\n",
    "from collections import Counter\n",
    "def calculate_repetition(text):\n",
    "    # Tokenize the text into words\n",
    "    words = text.lower().split()\n",
    "    # Count the frequency of each word\n",
    "    word_counts = Counter(words)\n",
    "    # Calculate repetition metric (e.g., total number of repeated words)\n",
    "    repetition = sum(count for word, count in word_counts.items() if count > 1)\n",
    "    return repetition\n",
    "\n",
    "features_df['repetition'] = merged_df['text'].apply(calculate_repetition)\n",
    "\n",
    "from nltk.tokenize import word_tokenize\n",
    "\n",
    "mean_word_lengths = []\n",
    "\n",
    "# Iterate over each text in the 'text' column\n",
    "for text in summary_df['text']:\n",
    "    # Tokenize the text into words\n",
    "    words = word_tokenize(text)\n",
    "    # Calculate the mean word length for the text and append it to the mean_word_lengths list\n",
    "    mean_word_lengths.append(sum(len(word) for word in words) / len(words) if words else 0)\n",
    "\n",
    "# Add the mean word lengths as a new column in the DataFrame\n",
    "features_df['mean word length'] = mean_word_lengths\n",
    "\n",
    "def is_any_alpha(input_string):\n",
    "    return any(char.isalpha() for char in input_string)\n",
    "\n",
    "def extract_proper_nouns(text):\n",
    "    words = word_tokenize(text)\n",
    "    tagged_words = pos_tag(words)\n",
    "    proper_nouns = set()\n",
    "    for tagged_word in tagged_words:\n",
    "        if isinstance(tagged_word, tuple) and tagged_word[1] == 'NNP':\n",
    "            if is_any_alpha(tagged_word[0]) is True:\n",
    "                proper_nouns.add(tagged_word[0])\n",
    "    return list(proper_nouns)\n",
    "\n",
    "def prop_noun_intersection(prompt_prop_nouns, summary):\n",
    "    prompt_proper_nouns = set(prompt_prop_nouns)\n",
    "    summary_proper_nouns = set(extract_proper_nouns(summary))\n",
    "    return len(prompt_proper_nouns.intersection(summary_proper_nouns))/len(prompt_proper_nouns)\n",
    "\n",
    "prompt_prop_nouns = {}\n",
    "for i, prompt in prompts_df.iterrows():\n",
    "    prompt_prop_nouns[prompt[\"prompt_id\"]] = extract_proper_nouns(prompt[\"prompt_text\"])\n",
    "\n",
    "features_df[\"proper_noun_intersection\"] = merged_df.progress_apply(lambda row: prop_noun_intersection(prompt_prop_nouns[row[\"prompt_id\"]], row[\"text\"]), axis=1)\n",
    "\n",
    "def split_quotations(text: str) -> (str, List[str]):\n",
    "    quotations = re.findall('\"([^\"]*)\"', text)\n",
    "    no_quote_text = text\n",
    "    for quotation in quotations:\n",
    "        no_quote_text = no_quote_text.replace(f'\"{quotation}\"', \"\")\n",
    "    return no_quote_text, quotations\n",
    "\n",
    "def count_quotations(text: str) -> int:\n",
    "    return len(re.findall('\"([^\"]*)\"', text))\n",
    "\n",
    "features_df[\"quoteCount\"] = summary_df[\"text\"].apply(count_quotations)\n",
    "\n",
    "def avg_quote_length(text: str) -> float:\n",
    "    no_quote_text, quotations = split_quotations(text)\n",
    "    if len(quotations) == 0:\n",
    "        return 0\n",
    "    return sum(len(q) for q in quotations) / len(quotations)\n",
    "\n",
    "features_df[\"avgQuoteLength\"] = summary_df[\"text\"].apply(avg_quote_length)\n",
    "\n",
    "from textblob import TextBlob\n",
    "\n",
    "def get_polarity(text: str) -> float:\n",
    "    blob = TextBlob(text)\n",
    "    return blob.sentiment.polarity\n",
    "\n",
    "features_df[\"polarity\"] = summary_df[\"text\"].progress_apply(get_polarity)\n",
    "\n",
    "def get_subjectivity(text: str) -> float:\n",
    "    blob = TextBlob(text)\n",
    "    return blob.sentiment.subjectivity\n",
    "\n",
    "features_df[\"subjectivity\"] = summary_df[\"text\"].progress_apply(get_subjectivity)\n",
    "\n",
    "def textblob_pos_filter(text: str, pos_tag: str) -> List[str]:\n",
    "    blob = TextBlob(text)\n",
    "    return [word for word, pos in blob.tags if pos.startswith(pos_tag)]\n",
    "\n",
    "def count_duplicates(words: List[str]) -> dict:\n",
    "    word_counts = {}\n",
    "    for word in words:\n",
    "        if word in word_counts:\n",
    "            word_counts[word] += 1\n",
    "        else:\n",
    "            word_counts[word] = 1\n",
    "    return word_counts\n",
    "\n",
    "def num_adjectives_repeated(text: str) -> int:\n",
    "    adjectives = textblob_pos_filter(text, \"JJ\")\n",
    "    return len([word for word, count in count_duplicates(adjectives).items() if count >= 2])\n",
    "\n",
    "features_df[\"numAdjectivesRepeated2p\"] = summary_df[\"text\"].progress_apply(num_adjectives_repeated)\n",
    "\n",
    "def prop_adjectives_repeated_text_normalised(text: str) -> float:\n",
    "    adjectives = textblob_pos_filter(text, \"JJ\")\n",
    "    if len(adjectives) == 0:\n",
    "        return None\n",
    "    return len([word for word, count in count_duplicates(adjectives).items() if count >= 2]) / len(text)\n",
    "\n",
    "features_df[\"propAdjectivesRepeated2pTextNormalised\"] = summary_df[\"text\"].progress_apply(prop_adjectives_repeated_text_normalised)\n",
    "\n",
    "import textstat\n",
    "\n",
    "def felsch_reading_ease(text: str) -> float:\n",
    "    return textstat.flesch_reading_ease(text)\n",
    "\n",
    "features_df[\"fleschReadingEase\"] = summary_df[\"text\"].progress_apply(felsch_reading_ease)\n",
    "\n",
    "features_df[\"num_sentences\"] = summary_df[\"text\"].apply(lambda x: len(nltk.sent_tokenize(x)))\n",
    "features_df[\"words_per_sentence\"] = features_df[\"num_words\"] / features_df[\"num_sentences\"]\n"
   ]
  },
  {
   "cell_type": "markdown",
   "metadata": {},
   "source": [
    "Adding extra features (and embeddings?)"
   ]
  },
  {
   "cell_type": "code",
   "execution_count": null,
   "metadata": {},
   "outputs": [],
   "source": []
  },
  {
   "cell_type": "code",
   "execution_count": 13,
   "metadata": {},
   "outputs": [
    {
     "name": "stderr",
     "output_type": "stream",
     "text": [
      "2024-03-16 17:33:10,848 - INFO - Using 10x10 cross validation\n"
     ]
    },
    {
     "data": {
      "application/vnd.jupyter.widget-view+json": {
       "model_id": "bcf726d2b0bb4ccca9c2685b60361f8b",
       "version_major": 2,
       "version_minor": 0
      },
      "text/plain": [
       "  0%|          | 0/100 [00:00<?, ?it/s]"
      ]
     },
     "metadata": {},
     "output_type": "display_data"
    }
   ],
   "source": [
    "#MODELS\n",
    "from sklearn.model_selection import train_test_split\n",
    "from sklearn.multioutput import MultiOutputRegressor\n",
    "from sklearn.ensemble import HistGradientBoostingRegressor\n",
    "\n",
    "X = features_df\n",
    "y = merged_df[[\"content\", \"wording\"]]\n",
    "X_train, X_test, y_train, y_test = train_test_split(X, y, train_size=TRAIN_SIZE, random_state=42)\n",
    "\n",
    "model = MultiOutputRegressor(HistGradientBoostingRegressor(random_state=0))\n",
    "results_df = cross_validate(model, X_train, y_train)"
   ]
  },
  {
   "cell_type": "code",
   "execution_count": 14,
   "metadata": {},
   "outputs": [
    {
     "name": "stderr",
     "output_type": "stream",
     "text": [
      "2024-03-16 17:34:48,151 - INFO - Using 1x5 cross validation\n"
     ]
    },
    {
     "data": {
      "application/vnd.jupyter.widget-view+json": {
       "model_id": "f26f7dd070d549bcb09fff4cec01d0d5",
       "version_major": 2,
       "version_minor": 0
      },
      "text/plain": [
       "  0%|          | 0/5 [00:00<?, ?it/s]"
      ]
     },
     "metadata": {},
     "output_type": "display_data"
    },
    {
     "name": "stderr",
     "output_type": "stream",
     "text": [
      "2024-03-16 17:34:52,934 - INFO - Using 1x5 cross validation\n"
     ]
    },
    {
     "name": "stdout",
     "output_type": "stream",
     "text": [
      "0.1 100 None 0 0.5443627416944987\n"
     ]
    },
    {
     "data": {
      "application/vnd.jupyter.widget-view+json": {
       "model_id": "69ba509aa92a4ff4818c2434deb34bb3",
       "version_major": 2,
       "version_minor": 0
      },
      "text/plain": [
       "  0%|          | 0/5 [00:00<?, ?it/s]"
      ]
     },
     "metadata": {},
     "output_type": "display_data"
    },
    {
     "name": "stderr",
     "output_type": "stream",
     "text": [
      "2024-03-16 17:34:57,412 - INFO - Using 1x5 cross validation\n"
     ]
    },
    {
     "name": "stdout",
     "output_type": "stream",
     "text": [
      "0.1 100 None 1 0.5442830267334263\n"
     ]
    },
    {
     "data": {
      "application/vnd.jupyter.widget-view+json": {
       "model_id": "9b4fca2c7ce04940ac792d435f4d5d05",
       "version_major": 2,
       "version_minor": 0
      },
      "text/plain": [
       "  0%|          | 0/5 [00:00<?, ?it/s]"
      ]
     },
     "metadata": {},
     "output_type": "display_data"
    },
    {
     "name": "stderr",
     "output_type": "stream",
     "text": [
      "2024-03-16 17:35:03,214 - INFO - Using 1x5 cross validation\n"
     ]
    },
    {
     "name": "stdout",
     "output_type": "stream",
     "text": [
      "0.1 100 None 10 0.5428499730432197\n"
     ]
    },
    {
     "data": {
      "application/vnd.jupyter.widget-view+json": {
       "model_id": "c31213143f2445cfbda84d7f29d3b6ef",
       "version_major": 2,
       "version_minor": 0
      },
      "text/plain": [
       "  0%|          | 0/5 [00:00<?, ?it/s]"
      ]
     },
     "metadata": {},
     "output_type": "display_data"
    },
    {
     "name": "stderr",
     "output_type": "stream",
     "text": [
      "2024-03-16 17:35:06,142 - INFO - Using 1x5 cross validation\n"
     ]
    },
    {
     "name": "stdout",
     "output_type": "stream",
     "text": [
      "0.1 100 5 0 0.5440921840810564\n"
     ]
    },
    {
     "data": {
      "application/vnd.jupyter.widget-view+json": {
       "model_id": "564cebd0721b45c986aa8c150384ca03",
       "version_major": 2,
       "version_minor": 0
      },
      "text/plain": [
       "  0%|          | 0/5 [00:00<?, ?it/s]"
      ]
     },
     "metadata": {},
     "output_type": "display_data"
    },
    {
     "name": "stderr",
     "output_type": "stream",
     "text": [
      "2024-03-16 17:35:08,982 - INFO - Using 1x5 cross validation\n"
     ]
    },
    {
     "name": "stdout",
     "output_type": "stream",
     "text": [
      "0.1 100 5 1 0.5436710741405446\n"
     ]
    },
    {
     "data": {
      "application/vnd.jupyter.widget-view+json": {
       "model_id": "90b99f858af140389fd06bb611c04859",
       "version_major": 2,
       "version_minor": 0
      },
      "text/plain": [
       "  0%|          | 0/5 [00:00<?, ?it/s]"
      ]
     },
     "metadata": {},
     "output_type": "display_data"
    },
    {
     "name": "stderr",
     "output_type": "stream",
     "text": [
      "2024-03-16 17:35:11,906 - INFO - Using 1x5 cross validation\n"
     ]
    },
    {
     "name": "stdout",
     "output_type": "stream",
     "text": [
      "0.1 100 5 10 0.5434252299609306\n"
     ]
    },
    {
     "data": {
      "application/vnd.jupyter.widget-view+json": {
       "model_id": "8fac0fa9ccd64456ba96dec9b5f64a3b",
       "version_major": 2,
       "version_minor": 0
      },
      "text/plain": [
       "  0%|          | 0/5 [00:00<?, ?it/s]"
      ]
     },
     "metadata": {},
     "output_type": "display_data"
    },
    {
     "name": "stderr",
     "output_type": "stream",
     "text": [
      "2024-03-16 17:35:16,087 - INFO - Using 1x5 cross validation\n"
     ]
    },
    {
     "name": "stdout",
     "output_type": "stream",
     "text": [
      "0.1 100 10 0 0.5439115085063795\n"
     ]
    },
    {
     "data": {
      "application/vnd.jupyter.widget-view+json": {
       "model_id": "e7e18eeb40024b239b2fcabbd5ec6e90",
       "version_major": 2,
       "version_minor": 0
      },
      "text/plain": [
       "  0%|          | 0/5 [00:00<?, ?it/s]"
      ]
     },
     "metadata": {},
     "output_type": "display_data"
    },
    {
     "name": "stderr",
     "output_type": "stream",
     "text": [
      "2024-03-16 17:35:20,726 - INFO - Using 1x5 cross validation\n"
     ]
    },
    {
     "name": "stdout",
     "output_type": "stream",
     "text": [
      "0.1 100 10 1 0.5441438122755646\n"
     ]
    },
    {
     "data": {
      "application/vnd.jupyter.widget-view+json": {
       "model_id": "5ef76ed26d9a42d3a41067222c374bbd",
       "version_major": 2,
       "version_minor": 0
      },
      "text/plain": [
       "  0%|          | 0/5 [00:00<?, ?it/s]"
      ]
     },
     "metadata": {},
     "output_type": "display_data"
    },
    {
     "name": "stderr",
     "output_type": "stream",
     "text": [
      "2024-03-16 17:35:25,387 - INFO - Using 1x5 cross validation\n"
     ]
    },
    {
     "name": "stdout",
     "output_type": "stream",
     "text": [
      "0.1 100 10 10 0.5423476158944861\n"
     ]
    },
    {
     "data": {
      "application/vnd.jupyter.widget-view+json": {
       "model_id": "53535cbcf7664848b88b06cc4bda0bb8",
       "version_major": 2,
       "version_minor": 0
      },
      "text/plain": [
       "  0%|          | 0/5 [00:00<?, ?it/s]"
      ]
     },
     "metadata": {},
     "output_type": "display_data"
    },
    {
     "name": "stderr",
     "output_type": "stream",
     "text": [
      "2024-03-16 17:35:29,842 - INFO - Using 1x5 cross validation\n"
     ]
    },
    {
     "name": "stdout",
     "output_type": "stream",
     "text": [
      "0.1 100 20 0 0.5444496957930531\n"
     ]
    },
    {
     "data": {
      "application/vnd.jupyter.widget-view+json": {
       "model_id": "f47c7a5af7a64ee997a189243f3a984e",
       "version_major": 2,
       "version_minor": 0
      },
      "text/plain": [
       "  0%|          | 0/5 [00:00<?, ?it/s]"
      ]
     },
     "metadata": {},
     "output_type": "display_data"
    },
    {
     "name": "stderr",
     "output_type": "stream",
     "text": [
      "2024-03-16 17:35:34,708 - INFO - Using 1x5 cross validation\n"
     ]
    },
    {
     "name": "stdout",
     "output_type": "stream",
     "text": [
      "0.1 100 20 1 0.5444853481080767\n"
     ]
    },
    {
     "data": {
      "application/vnd.jupyter.widget-view+json": {
       "model_id": "8a3eb4190f764fc7a20c337cfbce3270",
       "version_major": 2,
       "version_minor": 0
      },
      "text/plain": [
       "  0%|          | 0/5 [00:00<?, ?it/s]"
      ]
     },
     "metadata": {},
     "output_type": "display_data"
    },
    {
     "name": "stderr",
     "output_type": "stream",
     "text": [
      "2024-03-16 17:35:39,222 - INFO - Using 1x5 cross validation\n"
     ]
    },
    {
     "name": "stdout",
     "output_type": "stream",
     "text": [
      "0.1 100 20 10 0.5428339328016243\n"
     ]
    },
    {
     "data": {
      "application/vnd.jupyter.widget-view+json": {
       "model_id": "cae955c813d045e7a4f572be33c79a6c",
       "version_major": 2,
       "version_minor": 0
      },
      "text/plain": [
       "  0%|          | 0/5 [00:00<?, ?it/s]"
      ]
     },
     "metadata": {},
     "output_type": "display_data"
    },
    {
     "name": "stderr",
     "output_type": "stream",
     "text": [
      "2024-03-16 17:35:47,680 - INFO - Using 1x5 cross validation\n"
     ]
    },
    {
     "name": "stdout",
     "output_type": "stream",
     "text": [
      "0.1 200 None 0 0.5500676366651307\n"
     ]
    },
    {
     "data": {
      "application/vnd.jupyter.widget-view+json": {
       "model_id": "1873d935b29d44d295c55eba7ea9d820",
       "version_major": 2,
       "version_minor": 0
      },
      "text/plain": [
       "  0%|          | 0/5 [00:00<?, ?it/s]"
      ]
     },
     "metadata": {},
     "output_type": "display_data"
    },
    {
     "name": "stderr",
     "output_type": "stream",
     "text": [
      "2024-03-16 17:35:56,190 - INFO - Using 1x5 cross validation\n"
     ]
    },
    {
     "name": "stdout",
     "output_type": "stream",
     "text": [
      "0.1 200 None 1 0.5496523573382679\n"
     ]
    },
    {
     "data": {
      "application/vnd.jupyter.widget-view+json": {
       "model_id": "0b362d61d38240039b00b53e898fdfee",
       "version_major": 2,
       "version_minor": 0
      },
      "text/plain": [
       "  0%|          | 0/5 [00:00<?, ?it/s]"
      ]
     },
     "metadata": {},
     "output_type": "display_data"
    },
    {
     "name": "stderr",
     "output_type": "stream",
     "text": [
      "2024-03-16 17:36:05,466 - INFO - Using 1x5 cross validation\n"
     ]
    },
    {
     "name": "stdout",
     "output_type": "stream",
     "text": [
      "0.1 200 None 10 0.5464225060535219\n"
     ]
    },
    {
     "data": {
      "application/vnd.jupyter.widget-view+json": {
       "model_id": "80c7b43945b146e1a339e61599a4bf0c",
       "version_major": 2,
       "version_minor": 0
      },
      "text/plain": [
       "  0%|          | 0/5 [00:00<?, ?it/s]"
      ]
     },
     "metadata": {},
     "output_type": "display_data"
    },
    {
     "name": "stderr",
     "output_type": "stream",
     "text": [
      "2024-03-16 17:36:10,710 - INFO - Using 1x5 cross validation\n"
     ]
    },
    {
     "name": "stdout",
     "output_type": "stream",
     "text": [
      "0.1 200 5 0 0.5443495375548466\n"
     ]
    },
    {
     "data": {
      "application/vnd.jupyter.widget-view+json": {
       "model_id": "200a93f7f25e4b2395282715faa511c0",
       "version_major": 2,
       "version_minor": 0
      },
      "text/plain": [
       "  0%|          | 0/5 [00:00<?, ?it/s]"
      ]
     },
     "metadata": {},
     "output_type": "display_data"
    },
    {
     "name": "stderr",
     "output_type": "stream",
     "text": [
      "2024-03-16 17:36:15,667 - INFO - Using 1x5 cross validation\n"
     ]
    },
    {
     "name": "stdout",
     "output_type": "stream",
     "text": [
      "0.1 200 5 1 0.5433974547145095\n"
     ]
    },
    {
     "data": {
      "application/vnd.jupyter.widget-view+json": {
       "model_id": "0bf913944bee4adabf9ddd1da781de5f",
       "version_major": 2,
       "version_minor": 0
      },
      "text/plain": [
       "  0%|          | 0/5 [00:00<?, ?it/s]"
      ]
     },
     "metadata": {},
     "output_type": "display_data"
    },
    {
     "name": "stderr",
     "output_type": "stream",
     "text": [
      "2024-03-16 17:36:20,638 - INFO - Using 1x5 cross validation\n"
     ]
    },
    {
     "name": "stdout",
     "output_type": "stream",
     "text": [
      "0.1 200 5 10 0.5411716086439575\n"
     ]
    },
    {
     "data": {
      "application/vnd.jupyter.widget-view+json": {
       "model_id": "79d4a27d21f54fce824c16268e0fdf14",
       "version_major": 2,
       "version_minor": 0
      },
      "text/plain": [
       "  0%|          | 0/5 [00:00<?, ?it/s]"
      ]
     },
     "metadata": {},
     "output_type": "display_data"
    },
    {
     "name": "stderr",
     "output_type": "stream",
     "text": [
      "2024-03-16 17:36:28,404 - INFO - Using 1x5 cross validation\n"
     ]
    },
    {
     "name": "stdout",
     "output_type": "stream",
     "text": [
      "0.1 200 10 0 0.5500165704751032\n"
     ]
    },
    {
     "data": {
      "application/vnd.jupyter.widget-view+json": {
       "model_id": "6027997de825414b8137262aef0097f9",
       "version_major": 2,
       "version_minor": 0
      },
      "text/plain": [
       "  0%|          | 0/5 [00:00<?, ?it/s]"
      ]
     },
     "metadata": {},
     "output_type": "display_data"
    },
    {
     "name": "stderr",
     "output_type": "stream",
     "text": [
      "2024-03-16 17:36:36,238 - INFO - Using 1x5 cross validation\n"
     ]
    },
    {
     "name": "stdout",
     "output_type": "stream",
     "text": [
      "0.1 200 10 1 0.5495183203024678\n"
     ]
    },
    {
     "data": {
      "application/vnd.jupyter.widget-view+json": {
       "model_id": "d00e821da8ab4fc2908452053bd5a171",
       "version_major": 2,
       "version_minor": 0
      },
      "text/plain": [
       "  0%|          | 0/5 [00:00<?, ?it/s]"
      ]
     },
     "metadata": {},
     "output_type": "display_data"
    },
    {
     "name": "stderr",
     "output_type": "stream",
     "text": [
      "2024-03-16 17:36:44,095 - INFO - Using 1x5 cross validation\n"
     ]
    },
    {
     "name": "stdout",
     "output_type": "stream",
     "text": [
      "0.1 200 10 10 0.5458167902086362\n"
     ]
    },
    {
     "data": {
      "application/vnd.jupyter.widget-view+json": {
       "model_id": "a5294673ba9d4a6ab40df56cee6ce7c4",
       "version_major": 2,
       "version_minor": 0
      },
      "text/plain": [
       "  0%|          | 0/5 [00:00<?, ?it/s]"
      ]
     },
     "metadata": {},
     "output_type": "display_data"
    },
    {
     "name": "stderr",
     "output_type": "stream",
     "text": [
      "2024-03-16 17:36:52,570 - INFO - Using 1x5 cross validation\n"
     ]
    },
    {
     "name": "stdout",
     "output_type": "stream",
     "text": [
      "0.1 200 20 0 0.5504451198609102\n"
     ]
    },
    {
     "data": {
      "application/vnd.jupyter.widget-view+json": {
       "model_id": "e2cd51a893034c3cb353c546ec3d2ea3",
       "version_major": 2,
       "version_minor": 0
      },
      "text/plain": [
       "  0%|          | 0/5 [00:00<?, ?it/s]"
      ]
     },
     "metadata": {},
     "output_type": "display_data"
    },
    {
     "name": "stderr",
     "output_type": "stream",
     "text": [
      "2024-03-16 17:37:02,003 - INFO - Using 1x5 cross validation\n"
     ]
    },
    {
     "name": "stdout",
     "output_type": "stream",
     "text": [
      "0.1 200 20 1 0.5498722119622759\n"
     ]
    },
    {
     "data": {
      "application/vnd.jupyter.widget-view+json": {
       "model_id": "8a4894aafe344b56af461544f045d08e",
       "version_major": 2,
       "version_minor": 0
      },
      "text/plain": [
       "  0%|          | 0/5 [00:00<?, ?it/s]"
      ]
     },
     "metadata": {},
     "output_type": "display_data"
    },
    {
     "name": "stderr",
     "output_type": "stream",
     "text": [
      "2024-03-16 17:37:10,890 - INFO - Using 1x5 cross validation\n"
     ]
    },
    {
     "name": "stdout",
     "output_type": "stream",
     "text": [
      "0.1 200 20 10 0.5465399403195497\n"
     ]
    },
    {
     "data": {
      "application/vnd.jupyter.widget-view+json": {
       "model_id": "db7bed704b3f454cac8259d8f227cba2",
       "version_major": 2,
       "version_minor": 0
      },
      "text/plain": [
       "  0%|          | 0/5 [00:00<?, ?it/s]"
      ]
     },
     "metadata": {},
     "output_type": "display_data"
    },
    {
     "name": "stderr",
     "output_type": "stream",
     "text": [
      "2024-03-16 17:37:23,108 - INFO - Using 1x5 cross validation\n"
     ]
    },
    {
     "name": "stdout",
     "output_type": "stream",
     "text": [
      "0.1 300 None 0 0.5554526022396213\n"
     ]
    },
    {
     "data": {
      "application/vnd.jupyter.widget-view+json": {
       "model_id": "081bf20713964e479457fbe11cbc3e62",
       "version_major": 2,
       "version_minor": 0
      },
      "text/plain": [
       "  0%|          | 0/5 [00:00<?, ?it/s]"
      ]
     },
     "metadata": {},
     "output_type": "display_data"
    },
    {
     "name": "stderr",
     "output_type": "stream",
     "text": [
      "2024-03-16 17:37:35,709 - INFO - Using 1x5 cross validation\n"
     ]
    },
    {
     "name": "stdout",
     "output_type": "stream",
     "text": [
      "0.1 300 None 1 0.5551297448024664\n"
     ]
    },
    {
     "data": {
      "application/vnd.jupyter.widget-view+json": {
       "model_id": "e52010145ea64a1d87100a0649fc78ba",
       "version_major": 2,
       "version_minor": 0
      },
      "text/plain": [
       "  0%|          | 0/5 [00:00<?, ?it/s]"
      ]
     },
     "metadata": {},
     "output_type": "display_data"
    },
    {
     "name": "stderr",
     "output_type": "stream",
     "text": [
      "2024-03-16 17:37:48,213 - INFO - Using 1x5 cross validation\n"
     ]
    },
    {
     "name": "stdout",
     "output_type": "stream",
     "text": [
      "0.1 300 None 10 0.5511656930206523\n"
     ]
    },
    {
     "data": {
      "application/vnd.jupyter.widget-view+json": {
       "model_id": "afb8ea962f534f3fa208138ce590a1e5",
       "version_major": 2,
       "version_minor": 0
      },
      "text/plain": [
       "  0%|          | 0/5 [00:00<?, ?it/s]"
      ]
     },
     "metadata": {},
     "output_type": "display_data"
    },
    {
     "name": "stderr",
     "output_type": "stream",
     "text": [
      "2024-03-16 17:37:54,937 - INFO - Using 1x5 cross validation\n"
     ]
    },
    {
     "name": "stdout",
     "output_type": "stream",
     "text": [
      "0.1 300 5 0 0.5484610955229174\n"
     ]
    },
    {
     "data": {
      "application/vnd.jupyter.widget-view+json": {
       "model_id": "ac05be321a3645b58f1fe81e84f4b4d0",
       "version_major": 2,
       "version_minor": 0
      },
      "text/plain": [
       "  0%|          | 0/5 [00:00<?, ?it/s]"
      ]
     },
     "metadata": {},
     "output_type": "display_data"
    },
    {
     "name": "stderr",
     "output_type": "stream",
     "text": [
      "2024-03-16 17:38:02,391 - INFO - Using 1x5 cross validation\n"
     ]
    },
    {
     "name": "stdout",
     "output_type": "stream",
     "text": [
      "0.1 300 5 1 0.5468386018675191\n"
     ]
    },
    {
     "data": {
      "application/vnd.jupyter.widget-view+json": {
       "model_id": "2d66ead85cdd4f42aae97e538ced8d0a",
       "version_major": 2,
       "version_minor": 0
      },
      "text/plain": [
       "  0%|          | 0/5 [00:00<?, ?it/s]"
      ]
     },
     "metadata": {},
     "output_type": "display_data"
    },
    {
     "name": "stderr",
     "output_type": "stream",
     "text": [
      "2024-03-16 17:38:09,447 - INFO - Using 1x5 cross validation\n"
     ]
    },
    {
     "name": "stdout",
     "output_type": "stream",
     "text": [
      "0.1 300 5 10 0.5440020740958035\n"
     ]
    },
    {
     "data": {
      "application/vnd.jupyter.widget-view+json": {
       "model_id": "a87dedffedf34f0389ed4e23ca4eb455",
       "version_major": 2,
       "version_minor": 0
      },
      "text/plain": [
       "  0%|          | 0/5 [00:00<?, ?it/s]"
      ]
     },
     "metadata": {},
     "output_type": "display_data"
    },
    {
     "name": "stderr",
     "output_type": "stream",
     "text": [
      "2024-03-16 17:38:20,834 - INFO - Using 1x5 cross validation\n"
     ]
    },
    {
     "name": "stdout",
     "output_type": "stream",
     "text": [
      "0.1 300 10 0 0.5550570939029431\n"
     ]
    },
    {
     "data": {
      "application/vnd.jupyter.widget-view+json": {
       "model_id": "09035a89636d4a39affe2af000422703",
       "version_major": 2,
       "version_minor": 0
      },
      "text/plain": [
       "  0%|          | 0/5 [00:00<?, ?it/s]"
      ]
     },
     "metadata": {},
     "output_type": "display_data"
    },
    {
     "name": "stderr",
     "output_type": "stream",
     "text": [
      "2024-03-16 17:38:32,443 - INFO - Using 1x5 cross validation\n"
     ]
    },
    {
     "name": "stdout",
     "output_type": "stream",
     "text": [
      "0.1 300 10 1 0.5548476282821638\n"
     ]
    },
    {
     "data": {
      "application/vnd.jupyter.widget-view+json": {
       "model_id": "45bdac112a5b46dc876016db95ae3dfc",
       "version_major": 2,
       "version_minor": 0
      },
      "text/plain": [
       "  0%|          | 0/5 [00:00<?, ?it/s]"
      ]
     },
     "metadata": {},
     "output_type": "display_data"
    },
    {
     "name": "stderr",
     "output_type": "stream",
     "text": [
      "2024-03-16 17:38:44,215 - INFO - Using 1x5 cross validation\n"
     ]
    },
    {
     "name": "stdout",
     "output_type": "stream",
     "text": [
      "0.1 300 10 10 0.5505502920656711\n"
     ]
    },
    {
     "data": {
      "application/vnd.jupyter.widget-view+json": {
       "model_id": "a2516e36aa8f4d8eb7a408fb9892186b",
       "version_major": 2,
       "version_minor": 0
      },
      "text/plain": [
       "  0%|          | 0/5 [00:00<?, ?it/s]"
      ]
     },
     "metadata": {},
     "output_type": "display_data"
    },
    {
     "name": "stderr",
     "output_type": "stream",
     "text": [
      "2024-03-16 17:38:56,592 - INFO - Using 1x5 cross validation\n"
     ]
    },
    {
     "name": "stdout",
     "output_type": "stream",
     "text": [
      "0.1 300 20 0 0.5555025887576108\n"
     ]
    },
    {
     "data": {
      "application/vnd.jupyter.widget-view+json": {
       "model_id": "3eff14d7e67d4fc7a1e9280d40f58b2e",
       "version_major": 2,
       "version_minor": 0
      },
      "text/plain": [
       "  0%|          | 0/5 [00:00<?, ?it/s]"
      ]
     },
     "metadata": {},
     "output_type": "display_data"
    },
    {
     "name": "stderr",
     "output_type": "stream",
     "text": [
      "2024-03-16 17:39:08,795 - INFO - Using 1x5 cross validation\n"
     ]
    },
    {
     "name": "stdout",
     "output_type": "stream",
     "text": [
      "0.1 300 20 1 0.5556375679936648\n"
     ]
    },
    {
     "data": {
      "application/vnd.jupyter.widget-view+json": {
       "model_id": "db9afd1fa9e54ee3bbd68aa7e5f16137",
       "version_major": 2,
       "version_minor": 0
      },
      "text/plain": [
       "  0%|          | 0/5 [00:00<?, ?it/s]"
      ]
     },
     "metadata": {},
     "output_type": "display_data"
    },
    {
     "name": "stderr",
     "output_type": "stream",
     "text": [
      "2024-03-16 17:39:21,984 - INFO - Using 1x5 cross validation\n"
     ]
    },
    {
     "name": "stdout",
     "output_type": "stream",
     "text": [
      "0.1 300 20 10 0.5513809979408506\n"
     ]
    },
    {
     "data": {
      "application/vnd.jupyter.widget-view+json": {
       "model_id": "8ed4951755a54b0c877ee6a8f3025adc",
       "version_major": 2,
       "version_minor": 0
      },
      "text/plain": [
       "  0%|          | 0/5 [00:00<?, ?it/s]"
      ]
     },
     "metadata": {},
     "output_type": "display_data"
    },
    {
     "name": "stderr",
     "output_type": "stream",
     "text": [
      "2024-03-16 17:39:27,059 - INFO - Using 1x5 cross validation\n"
     ]
    },
    {
     "name": "stdout",
     "output_type": "stream",
     "text": [
      "0.01 100 None 0 0.6639144396549861\n"
     ]
    },
    {
     "data": {
      "application/vnd.jupyter.widget-view+json": {
       "model_id": "ad1d2e5e4961434280ee837b18398d06",
       "version_major": 2,
       "version_minor": 0
      },
      "text/plain": [
       "  0%|          | 0/5 [00:00<?, ?it/s]"
      ]
     },
     "metadata": {},
     "output_type": "display_data"
    },
    {
     "name": "stderr",
     "output_type": "stream",
     "text": [
      "2024-03-16 17:39:32,393 - INFO - Using 1x5 cross validation\n"
     ]
    },
    {
     "name": "stdout",
     "output_type": "stream",
     "text": [
      "0.01 100 None 1 0.6654608345753756\n"
     ]
    },
    {
     "data": {
      "application/vnd.jupyter.widget-view+json": {
       "model_id": "1706d198093c4eb18f4d31511d9e5e4b",
       "version_major": 2,
       "version_minor": 0
      },
      "text/plain": [
       "  0%|          | 0/5 [00:00<?, ?it/s]"
      ]
     },
     "metadata": {},
     "output_type": "display_data"
    },
    {
     "name": "stderr",
     "output_type": "stream",
     "text": [
      "2024-03-16 17:39:37,834 - INFO - Using 1x5 cross validation\n"
     ]
    },
    {
     "name": "stdout",
     "output_type": "stream",
     "text": [
      "0.01 100 None 10 0.6758311206614241\n"
     ]
    },
    {
     "data": {
      "application/vnd.jupyter.widget-view+json": {
       "model_id": "39de0b983c8a4e0097eb966544f202ec",
       "version_major": 2,
       "version_minor": 0
      },
      "text/plain": [
       "  0%|          | 0/5 [00:00<?, ?it/s]"
      ]
     },
     "metadata": {},
     "output_type": "display_data"
    },
    {
     "name": "stderr",
     "output_type": "stream",
     "text": [
      "2024-03-16 17:39:41,714 - INFO - Using 1x5 cross validation\n"
     ]
    },
    {
     "name": "stdout",
     "output_type": "stream",
     "text": [
      "0.01 100 5 0 0.6705293460608899\n"
     ]
    },
    {
     "data": {
      "application/vnd.jupyter.widget-view+json": {
       "model_id": "cdac391b20cd480884e60e522a3f2078",
       "version_major": 2,
       "version_minor": 0
      },
      "text/plain": [
       "  0%|          | 0/5 [00:00<?, ?it/s]"
      ]
     },
     "metadata": {},
     "output_type": "display_data"
    },
    {
     "name": "stderr",
     "output_type": "stream",
     "text": [
      "2024-03-16 17:39:45,781 - INFO - Using 1x5 cross validation\n"
     ]
    },
    {
     "name": "stdout",
     "output_type": "stream",
     "text": [
      "0.01 100 5 1 0.6725015100249889\n"
     ]
    },
    {
     "data": {
      "application/vnd.jupyter.widget-view+json": {
       "model_id": "71a49734c72048d393966387896cd13e",
       "version_major": 2,
       "version_minor": 0
      },
      "text/plain": [
       "  0%|          | 0/5 [00:00<?, ?it/s]"
      ]
     },
     "metadata": {},
     "output_type": "display_data"
    },
    {
     "name": "stderr",
     "output_type": "stream",
     "text": [
      "2024-03-16 17:39:49,662 - INFO - Using 1x5 cross validation\n"
     ]
    },
    {
     "name": "stdout",
     "output_type": "stream",
     "text": [
      "0.01 100 5 10 0.6828906220041159\n"
     ]
    },
    {
     "data": {
      "application/vnd.jupyter.widget-view+json": {
       "model_id": "edccfdec6cd74080b538b8a53e8ccda0",
       "version_major": 2,
       "version_minor": 0
      },
      "text/plain": [
       "  0%|          | 0/5 [00:00<?, ?it/s]"
      ]
     },
     "metadata": {},
     "output_type": "display_data"
    },
    {
     "name": "stderr",
     "output_type": "stream",
     "text": [
      "2024-03-16 17:39:54,677 - INFO - Using 1x5 cross validation\n"
     ]
    },
    {
     "name": "stdout",
     "output_type": "stream",
     "text": [
      "0.01 100 10 0 0.6639098581786953\n"
     ]
    },
    {
     "data": {
      "application/vnd.jupyter.widget-view+json": {
       "model_id": "c2158e116bbd49a38ac84dd7a4d8f0fb",
       "version_major": 2,
       "version_minor": 0
      },
      "text/plain": [
       "  0%|          | 0/5 [00:00<?, ?it/s]"
      ]
     },
     "metadata": {},
     "output_type": "display_data"
    },
    {
     "name": "stderr",
     "output_type": "stream",
     "text": [
      "2024-03-16 17:40:00,222 - INFO - Using 1x5 cross validation\n"
     ]
    },
    {
     "name": "stdout",
     "output_type": "stream",
     "text": [
      "0.01 100 10 1 0.6654608345753756\n"
     ]
    },
    {
     "data": {
      "application/vnd.jupyter.widget-view+json": {
       "model_id": "69ee7ad36c8c43fd9e771de54f205f8d",
       "version_major": 2,
       "version_minor": 0
      },
      "text/plain": [
       "  0%|          | 0/5 [00:00<?, ?it/s]"
      ]
     },
     "metadata": {},
     "output_type": "display_data"
    },
    {
     "name": "stderr",
     "output_type": "stream",
     "text": [
      "2024-03-16 17:40:05,561 - INFO - Using 1x5 cross validation\n"
     ]
    },
    {
     "name": "stdout",
     "output_type": "stream",
     "text": [
      "0.01 100 10 10 0.6758311206614241\n"
     ]
    },
    {
     "data": {
      "application/vnd.jupyter.widget-view+json": {
       "model_id": "1680ab5b15a1475e98e5825cd83c6e77",
       "version_major": 2,
       "version_minor": 0
      },
      "text/plain": [
       "  0%|          | 0/5 [00:00<?, ?it/s]"
      ]
     },
     "metadata": {},
     "output_type": "display_data"
    },
    {
     "name": "stderr",
     "output_type": "stream",
     "text": [
      "2024-03-16 17:40:10,572 - INFO - Using 1x5 cross validation\n"
     ]
    },
    {
     "name": "stdout",
     "output_type": "stream",
     "text": [
      "0.01 100 20 0 0.6639144396549861\n"
     ]
    },
    {
     "data": {
      "application/vnd.jupyter.widget-view+json": {
       "model_id": "07d3254a439d4e81ab2c0a689985b1b1",
       "version_major": 2,
       "version_minor": 0
      },
      "text/plain": [
       "  0%|          | 0/5 [00:00<?, ?it/s]"
      ]
     },
     "metadata": {},
     "output_type": "display_data"
    },
    {
     "name": "stderr",
     "output_type": "stream",
     "text": [
      "2024-03-16 17:40:15,704 - INFO - Using 1x5 cross validation\n"
     ]
    },
    {
     "name": "stdout",
     "output_type": "stream",
     "text": [
      "0.01 100 20 1 0.6654608345753756\n"
     ]
    },
    {
     "data": {
      "application/vnd.jupyter.widget-view+json": {
       "model_id": "85db6687b3764050be651889cdf06e10",
       "version_major": 2,
       "version_minor": 0
      },
      "text/plain": [
       "  0%|          | 0/5 [00:00<?, ?it/s]"
      ]
     },
     "metadata": {},
     "output_type": "display_data"
    },
    {
     "name": "stderr",
     "output_type": "stream",
     "text": [
      "2024-03-16 17:40:21,002 - INFO - Using 1x5 cross validation\n"
     ]
    },
    {
     "name": "stdout",
     "output_type": "stream",
     "text": [
      "0.01 100 20 10 0.6758311206614241\n"
     ]
    },
    {
     "data": {
      "application/vnd.jupyter.widget-view+json": {
       "model_id": "662253bd66c24af19bff86e57ccec409",
       "version_major": 2,
       "version_minor": 0
      },
      "text/plain": [
       "  0%|          | 0/5 [00:00<?, ?it/s]"
      ]
     },
     "metadata": {},
     "output_type": "display_data"
    },
    {
     "name": "stderr",
     "output_type": "stream",
     "text": [
      "2024-03-16 17:40:30,994 - INFO - Using 1x5 cross validation\n"
     ]
    },
    {
     "name": "stdout",
     "output_type": "stream",
     "text": [
      "0.01 200 None 0 0.575367815885624\n"
     ]
    },
    {
     "data": {
      "application/vnd.jupyter.widget-view+json": {
       "model_id": "0f5d72f976984c2b888b3e6fb5cbe807",
       "version_major": 2,
       "version_minor": 0
      },
      "text/plain": [
       "  0%|          | 0/5 [00:00<?, ?it/s]"
      ]
     },
     "metadata": {},
     "output_type": "display_data"
    },
    {
     "name": "stderr",
     "output_type": "stream",
     "text": [
      "2024-03-16 17:40:41,395 - INFO - Using 1x5 cross validation\n"
     ]
    },
    {
     "name": "stdout",
     "output_type": "stream",
     "text": [
      "0.01 200 None 1 0.5762585131149567\n"
     ]
    },
    {
     "data": {
      "application/vnd.jupyter.widget-view+json": {
       "model_id": "642d880901dc424da9300eb6f74ab1aa",
       "version_major": 2,
       "version_minor": 0
      },
      "text/plain": [
       "  0%|          | 0/5 [00:00<?, ?it/s]"
      ]
     },
     "metadata": {},
     "output_type": "display_data"
    },
    {
     "name": "stderr",
     "output_type": "stream",
     "text": [
      "2024-03-16 17:40:51,516 - INFO - Using 1x5 cross validation\n"
     ]
    },
    {
     "name": "stdout",
     "output_type": "stream",
     "text": [
      "0.01 200 None 10 0.5820990011281499\n"
     ]
    },
    {
     "data": {
      "application/vnd.jupyter.widget-view+json": {
       "model_id": "2dead37cccfe4232b2f88c74044d6d04",
       "version_major": 2,
       "version_minor": 0
      },
      "text/plain": [
       "  0%|          | 0/5 [00:00<?, ?it/s]"
      ]
     },
     "metadata": {},
     "output_type": "display_data"
    },
    {
     "name": "stderr",
     "output_type": "stream",
     "text": [
      "2024-03-16 17:40:59,273 - INFO - Using 1x5 cross validation\n"
     ]
    },
    {
     "name": "stdout",
     "output_type": "stream",
     "text": [
      "0.01 200 5 0 0.5823415261210567\n"
     ]
    },
    {
     "data": {
      "application/vnd.jupyter.widget-view+json": {
       "model_id": "87b7cbcd21554b08988cf8776abbc3a0",
       "version_major": 2,
       "version_minor": 0
      },
      "text/plain": [
       "  0%|          | 0/5 [00:00<?, ?it/s]"
      ]
     },
     "metadata": {},
     "output_type": "display_data"
    },
    {
     "name": "stderr",
     "output_type": "stream",
     "text": [
      "2024-03-16 17:41:06,514 - INFO - Using 1x5 cross validation\n"
     ]
    },
    {
     "name": "stdout",
     "output_type": "stream",
     "text": [
      "0.01 200 5 1 0.5832767608411777\n"
     ]
    },
    {
     "data": {
      "application/vnd.jupyter.widget-view+json": {
       "model_id": "9a74e9d85a444c29afd57d9b7d393e82",
       "version_major": 2,
       "version_minor": 0
      },
      "text/plain": [
       "  0%|          | 0/5 [00:00<?, ?it/s]"
      ]
     },
     "metadata": {},
     "output_type": "display_data"
    },
    {
     "name": "stderr",
     "output_type": "stream",
     "text": [
      "2024-03-16 17:41:13,616 - INFO - Using 1x5 cross validation\n"
     ]
    },
    {
     "name": "stdout",
     "output_type": "stream",
     "text": [
      "0.01 200 5 10 0.5895742606298449\n"
     ]
    },
    {
     "data": {
      "application/vnd.jupyter.widget-view+json": {
       "model_id": "eab91e4f455445a4b33af4ee90d7c37d",
       "version_major": 2,
       "version_minor": 0
      },
      "text/plain": [
       "  0%|          | 0/5 [00:00<?, ?it/s]"
      ]
     },
     "metadata": {},
     "output_type": "display_data"
    },
    {
     "name": "stderr",
     "output_type": "stream",
     "text": [
      "2024-03-16 17:41:23,512 - INFO - Using 1x5 cross validation\n"
     ]
    },
    {
     "name": "stdout",
     "output_type": "stream",
     "text": [
      "0.01 200 10 0 0.5753250585425658\n"
     ]
    },
    {
     "data": {
      "application/vnd.jupyter.widget-view+json": {
       "model_id": "e68c013224a5470eb77579f55a23383d",
       "version_major": 2,
       "version_minor": 0
      },
      "text/plain": [
       "  0%|          | 0/5 [00:00<?, ?it/s]"
      ]
     },
     "metadata": {},
     "output_type": "display_data"
    },
    {
     "name": "stderr",
     "output_type": "stream",
     "text": [
      "2024-03-16 17:41:33,689 - INFO - Using 1x5 cross validation\n"
     ]
    },
    {
     "name": "stdout",
     "output_type": "stream",
     "text": [
      "0.01 200 10 1 0.5762948319895537\n"
     ]
    },
    {
     "data": {
      "application/vnd.jupyter.widget-view+json": {
       "model_id": "a555f1d358634eafbffa3ee4ef4161d9",
       "version_major": 2,
       "version_minor": 0
      },
      "text/plain": [
       "  0%|          | 0/5 [00:00<?, ?it/s]"
      ]
     },
     "metadata": {},
     "output_type": "display_data"
    },
    {
     "name": "stderr",
     "output_type": "stream",
     "text": [
      "2024-03-16 17:41:43,629 - INFO - Using 1x5 cross validation\n"
     ]
    },
    {
     "name": "stdout",
     "output_type": "stream",
     "text": [
      "0.01 200 10 10 0.582060025830857\n"
     ]
    },
    {
     "data": {
      "application/vnd.jupyter.widget-view+json": {
       "model_id": "9cda7df8d73a4e58ba3f81d5bb95553e",
       "version_major": 2,
       "version_minor": 0
      },
      "text/plain": [
       "  0%|          | 0/5 [00:00<?, ?it/s]"
      ]
     },
     "metadata": {},
     "output_type": "display_data"
    },
    {
     "name": "stderr",
     "output_type": "stream",
     "text": [
      "2024-03-16 17:41:53,725 - INFO - Using 1x5 cross validation\n"
     ]
    },
    {
     "name": "stdout",
     "output_type": "stream",
     "text": [
      "0.01 200 20 0 0.575367815885624\n"
     ]
    },
    {
     "data": {
      "application/vnd.jupyter.widget-view+json": {
       "model_id": "1b4a8fde127747d3a7c7ba20c32ad5d9",
       "version_major": 2,
       "version_minor": 0
      },
      "text/plain": [
       "  0%|          | 0/5 [00:00<?, ?it/s]"
      ]
     },
     "metadata": {},
     "output_type": "display_data"
    },
    {
     "name": "stderr",
     "output_type": "stream",
     "text": [
      "2024-03-16 17:42:03,961 - INFO - Using 1x5 cross validation\n"
     ]
    },
    {
     "name": "stdout",
     "output_type": "stream",
     "text": [
      "0.01 200 20 1 0.5762585131149567\n"
     ]
    },
    {
     "data": {
      "application/vnd.jupyter.widget-view+json": {
       "model_id": "94d11783fa684200b0bc9405b4760886",
       "version_major": 2,
       "version_minor": 0
      },
      "text/plain": [
       "  0%|          | 0/5 [00:00<?, ?it/s]"
      ]
     },
     "metadata": {},
     "output_type": "display_data"
    },
    {
     "name": "stderr",
     "output_type": "stream",
     "text": [
      "2024-03-16 17:42:14,135 - INFO - Using 1x5 cross validation\n"
     ]
    },
    {
     "name": "stdout",
     "output_type": "stream",
     "text": [
      "0.01 200 20 10 0.5820990011281499\n"
     ]
    },
    {
     "data": {
      "application/vnd.jupyter.widget-view+json": {
       "model_id": "9d1885683f914f8d9ca61446a79fccbe",
       "version_major": 2,
       "version_minor": 0
      },
      "text/plain": [
       "  0%|          | 0/5 [00:00<?, ?it/s]"
      ]
     },
     "metadata": {},
     "output_type": "display_data"
    },
    {
     "name": "stderr",
     "output_type": "stream",
     "text": [
      "2024-03-16 17:42:28,758 - INFO - Using 1x5 cross validation\n"
     ]
    },
    {
     "name": "stdout",
     "output_type": "stream",
     "text": [
      "0.01 300 None 0 0.5539171973472862\n"
     ]
    },
    {
     "data": {
      "application/vnd.jupyter.widget-view+json": {
       "model_id": "e80a7d52395c4eaa85202715c4f9d7c0",
       "version_major": 2,
       "version_minor": 0
      },
      "text/plain": [
       "  0%|          | 0/5 [00:00<?, ?it/s]"
      ]
     },
     "metadata": {},
     "output_type": "display_data"
    },
    {
     "name": "stderr",
     "output_type": "stream",
     "text": [
      "2024-03-16 17:42:43,334 - INFO - Using 1x5 cross validation\n"
     ]
    },
    {
     "name": "stdout",
     "output_type": "stream",
     "text": [
      "0.01 300 None 1 0.5542785251010376\n"
     ]
    },
    {
     "data": {
      "application/vnd.jupyter.widget-view+json": {
       "model_id": "743e4f19f65f4396965978ef97de9868",
       "version_major": 2,
       "version_minor": 0
      },
      "text/plain": [
       "  0%|          | 0/5 [00:00<?, ?it/s]"
      ]
     },
     "metadata": {},
     "output_type": "display_data"
    },
    {
     "name": "stderr",
     "output_type": "stream",
     "text": [
      "2024-03-16 17:42:58,450 - INFO - Using 1x5 cross validation\n"
     ]
    },
    {
     "name": "stdout",
     "output_type": "stream",
     "text": [
      "0.01 300 None 10 0.5569317796827119\n"
     ]
    },
    {
     "data": {
      "application/vnd.jupyter.widget-view+json": {
       "model_id": "2673922ac6844864a2bcb29d409ec664",
       "version_major": 2,
       "version_minor": 0
      },
      "text/plain": [
       "  0%|          | 0/5 [00:00<?, ?it/s]"
      ]
     },
     "metadata": {},
     "output_type": "display_data"
    },
    {
     "name": "stderr",
     "output_type": "stream",
     "text": [
      "2024-03-16 17:43:09,029 - INFO - Using 1x5 cross validation\n"
     ]
    },
    {
     "name": "stdout",
     "output_type": "stream",
     "text": [
      "0.01 300 5 0 0.5590189531028311\n"
     ]
    },
    {
     "data": {
      "application/vnd.jupyter.widget-view+json": {
       "model_id": "1d9102803a5d4c1cb15d3a394f53f203",
       "version_major": 2,
       "version_minor": 0
      },
      "text/plain": [
       "  0%|          | 0/5 [00:00<?, ?it/s]"
      ]
     },
     "metadata": {},
     "output_type": "display_data"
    },
    {
     "name": "stderr",
     "output_type": "stream",
     "text": [
      "2024-03-16 17:43:19,589 - INFO - Using 1x5 cross validation\n"
     ]
    },
    {
     "name": "stdout",
     "output_type": "stream",
     "text": [
      "0.01 300 5 1 0.5595741364924585\n"
     ]
    },
    {
     "data": {
      "application/vnd.jupyter.widget-view+json": {
       "model_id": "d4e853973f8349898cb022be92636bb5",
       "version_major": 2,
       "version_minor": 0
      },
      "text/plain": [
       "  0%|          | 0/5 [00:00<?, ?it/s]"
      ]
     },
     "metadata": {},
     "output_type": "display_data"
    },
    {
     "name": "stderr",
     "output_type": "stream",
     "text": [
      "2024-03-16 17:43:29,801 - INFO - Using 1x5 cross validation\n"
     ]
    },
    {
     "name": "stdout",
     "output_type": "stream",
     "text": [
      "0.01 300 5 10 0.5633478773043923\n"
     ]
    },
    {
     "data": {
      "application/vnd.jupyter.widget-view+json": {
       "model_id": "2958a2d6311346b882850491af49e8c4",
       "version_major": 2,
       "version_minor": 0
      },
      "text/plain": [
       "  0%|          | 0/5 [00:00<?, ?it/s]"
      ]
     },
     "metadata": {},
     "output_type": "display_data"
    },
    {
     "name": "stderr",
     "output_type": "stream",
     "text": [
      "2024-03-16 17:43:44,169 - INFO - Using 1x5 cross validation\n"
     ]
    },
    {
     "name": "stdout",
     "output_type": "stream",
     "text": [
      "0.01 300 10 0 0.5538808009185571\n"
     ]
    },
    {
     "data": {
      "application/vnd.jupyter.widget-view+json": {
       "model_id": "c07958dc4d734497a1c820f89be26b2e",
       "version_major": 2,
       "version_minor": 0
      },
      "text/plain": [
       "  0%|          | 0/5 [00:00<?, ?it/s]"
      ]
     },
     "metadata": {},
     "output_type": "display_data"
    },
    {
     "name": "stderr",
     "output_type": "stream",
     "text": [
      "2024-03-16 17:43:58,325 - INFO - Using 1x5 cross validation\n"
     ]
    },
    {
     "name": "stdout",
     "output_type": "stream",
     "text": [
      "0.01 300 10 1 0.5542321936981374\n"
     ]
    },
    {
     "data": {
      "application/vnd.jupyter.widget-view+json": {
       "model_id": "b83ada3abb6e4fc88a1fb8c5ea6215b7",
       "version_major": 2,
       "version_minor": 0
      },
      "text/plain": [
       "  0%|          | 0/5 [00:00<?, ?it/s]"
      ]
     },
     "metadata": {},
     "output_type": "display_data"
    },
    {
     "name": "stderr",
     "output_type": "stream",
     "text": [
      "2024-03-16 17:44:12,816 - INFO - Using 1x5 cross validation\n"
     ]
    },
    {
     "name": "stdout",
     "output_type": "stream",
     "text": [
      "0.01 300 10 10 0.5568480465518311\n"
     ]
    },
    {
     "data": {
      "application/vnd.jupyter.widget-view+json": {
       "model_id": "d98b5f0550564e0baaada335ad13fe75",
       "version_major": 2,
       "version_minor": 0
      },
      "text/plain": [
       "  0%|          | 0/5 [00:00<?, ?it/s]"
      ]
     },
     "metadata": {},
     "output_type": "display_data"
    },
    {
     "name": "stderr",
     "output_type": "stream",
     "text": [
      "2024-03-16 17:44:27,073 - INFO - Using 1x5 cross validation\n"
     ]
    },
    {
     "name": "stdout",
     "output_type": "stream",
     "text": [
      "0.01 300 20 0 0.5539171973472862\n"
     ]
    },
    {
     "data": {
      "application/vnd.jupyter.widget-view+json": {
       "model_id": "8f7a4e60db384c7e9b7077dd47870a99",
       "version_major": 2,
       "version_minor": 0
      },
      "text/plain": [
       "  0%|          | 0/5 [00:00<?, ?it/s]"
      ]
     },
     "metadata": {},
     "output_type": "display_data"
    },
    {
     "name": "stderr",
     "output_type": "stream",
     "text": [
      "2024-03-16 17:44:41,409 - INFO - Using 1x5 cross validation\n"
     ]
    },
    {
     "name": "stdout",
     "output_type": "stream",
     "text": [
      "0.01 300 20 1 0.5542785251010376\n"
     ]
    },
    {
     "data": {
      "application/vnd.jupyter.widget-view+json": {
       "model_id": "2e7962d5daef48a78f54161937422583",
       "version_major": 2,
       "version_minor": 0
      },
      "text/plain": [
       "  0%|          | 0/5 [00:00<?, ?it/s]"
      ]
     },
     "metadata": {},
     "output_type": "display_data"
    },
    {
     "name": "stderr",
     "output_type": "stream",
     "text": [
      "2024-03-16 17:44:56,715 - INFO - Using 1x5 cross validation\n"
     ]
    },
    {
     "name": "stdout",
     "output_type": "stream",
     "text": [
      "0.01 300 20 10 0.5569317796827119\n"
     ]
    },
    {
     "data": {
      "application/vnd.jupyter.widget-view+json": {
       "model_id": "648d579b2ce24468b0e3356accd77e3f",
       "version_major": 2,
       "version_minor": 0
      },
      "text/plain": [
       "  0%|          | 0/5 [00:00<?, ?it/s]"
      ]
     },
     "metadata": {},
     "output_type": "display_data"
    },
    {
     "name": "stderr",
     "output_type": "stream",
     "text": [
      "2024-03-16 17:45:02,116 - INFO - Using 1x5 cross validation\n"
     ]
    },
    {
     "name": "stdout",
     "output_type": "stream",
     "text": [
      "0.001 100 None 0 0.9776492824730907\n"
     ]
    },
    {
     "data": {
      "application/vnd.jupyter.widget-view+json": {
       "model_id": "1d86146882ae45b1b3dce19d4f829524",
       "version_major": 2,
       "version_minor": 0
      },
      "text/plain": [
       "  0%|          | 0/5 [00:00<?, ?it/s]"
      ]
     },
     "metadata": {},
     "output_type": "display_data"
    },
    {
     "name": "stderr",
     "output_type": "stream",
     "text": [
      "2024-03-16 17:45:07,275 - INFO - Using 1x5 cross validation\n"
     ]
    },
    {
     "name": "stdout",
     "output_type": "stream",
     "text": [
      "0.001 100 None 1 0.9781866816811751\n"
     ]
    },
    {
     "data": {
      "application/vnd.jupyter.widget-view+json": {
       "model_id": "9155bb15dbd04a08b72500681d511583",
       "version_major": 2,
       "version_minor": 0
      },
      "text/plain": [
       "  0%|          | 0/5 [00:00<?, ?it/s]"
      ]
     },
     "metadata": {},
     "output_type": "display_data"
    },
    {
     "name": "stderr",
     "output_type": "stream",
     "text": [
      "2024-03-16 17:45:12,453 - INFO - Using 1x5 cross validation\n"
     ]
    },
    {
     "name": "stdout",
     "output_type": "stream",
     "text": [
      "0.001 100 None 10 0.9810680549478861\n"
     ]
    },
    {
     "data": {
      "application/vnd.jupyter.widget-view+json": {
       "model_id": "ba363c2c26a34963999ffe39a5288ce4",
       "version_major": 2,
       "version_minor": 0
      },
      "text/plain": [
       "  0%|          | 0/5 [00:00<?, ?it/s]"
      ]
     },
     "metadata": {},
     "output_type": "display_data"
    },
    {
     "name": "stderr",
     "output_type": "stream",
     "text": [
      "2024-03-16 17:45:16,404 - INFO - Using 1x5 cross validation\n"
     ]
    },
    {
     "name": "stdout",
     "output_type": "stream",
     "text": [
      "0.001 100 5 0 0.9789435981167411\n"
     ]
    },
    {
     "data": {
      "application/vnd.jupyter.widget-view+json": {
       "model_id": "094b95c5bcae498886524d8405c7cc18",
       "version_major": 2,
       "version_minor": 0
      },
      "text/plain": [
       "  0%|          | 0/5 [00:00<?, ?it/s]"
      ]
     },
     "metadata": {},
     "output_type": "display_data"
    },
    {
     "name": "stderr",
     "output_type": "stream",
     "text": [
      "2024-03-16 17:45:20,563 - INFO - Using 1x5 cross validation\n"
     ]
    },
    {
     "name": "stdout",
     "output_type": "stream",
     "text": [
      "0.001 100 5 1 0.9795877508609137\n"
     ]
    },
    {
     "data": {
      "application/vnd.jupyter.widget-view+json": {
       "model_id": "66e7474e76374d5a8f7b09f60740a445",
       "version_major": 2,
       "version_minor": 0
      },
      "text/plain": [
       "  0%|          | 0/5 [00:00<?, ?it/s]"
      ]
     },
     "metadata": {},
     "output_type": "display_data"
    },
    {
     "name": "stderr",
     "output_type": "stream",
     "text": [
      "2024-03-16 17:45:24,057 - INFO - Using 1x5 cross validation\n"
     ]
    },
    {
     "name": "stdout",
     "output_type": "stream",
     "text": [
      "0.001 100 5 10 0.982138788858123\n"
     ]
    },
    {
     "data": {
      "application/vnd.jupyter.widget-view+json": {
       "model_id": "1c6f2640614a4f3da883f7232c296f28",
       "version_major": 2,
       "version_minor": 0
      },
      "text/plain": [
       "  0%|          | 0/5 [00:00<?, ?it/s]"
      ]
     },
     "metadata": {},
     "output_type": "display_data"
    },
    {
     "name": "stderr",
     "output_type": "stream",
     "text": [
      "2024-03-16 17:45:29,373 - INFO - Using 1x5 cross validation\n"
     ]
    },
    {
     "name": "stdout",
     "output_type": "stream",
     "text": [
      "0.001 100 10 0 0.9776492824730907\n"
     ]
    },
    {
     "data": {
      "application/vnd.jupyter.widget-view+json": {
       "model_id": "43c6b0f70a664d33ad5e4c75de4b6cc0",
       "version_major": 2,
       "version_minor": 0
      },
      "text/plain": [
       "  0%|          | 0/5 [00:00<?, ?it/s]"
      ]
     },
     "metadata": {},
     "output_type": "display_data"
    },
    {
     "name": "stderr",
     "output_type": "stream",
     "text": [
      "2024-03-16 17:45:34,264 - INFO - Using 1x5 cross validation\n"
     ]
    },
    {
     "name": "stdout",
     "output_type": "stream",
     "text": [
      "0.001 100 10 1 0.9781866816811751\n"
     ]
    },
    {
     "data": {
      "application/vnd.jupyter.widget-view+json": {
       "model_id": "8c03e7c84c6c42f3af39f48dffceff0e",
       "version_major": 2,
       "version_minor": 0
      },
      "text/plain": [
       "  0%|          | 0/5 [00:00<?, ?it/s]"
      ]
     },
     "metadata": {},
     "output_type": "display_data"
    },
    {
     "name": "stderr",
     "output_type": "stream",
     "text": [
      "2024-03-16 17:45:39,619 - INFO - Using 1x5 cross validation\n"
     ]
    },
    {
     "name": "stdout",
     "output_type": "stream",
     "text": [
      "0.001 100 10 10 0.9810680549478861\n"
     ]
    },
    {
     "data": {
      "application/vnd.jupyter.widget-view+json": {
       "model_id": "b25cfcb4ff2b43d6b49a7faad797f4b9",
       "version_major": 2,
       "version_minor": 0
      },
      "text/plain": [
       "  0%|          | 0/5 [00:00<?, ?it/s]"
      ]
     },
     "metadata": {},
     "output_type": "display_data"
    },
    {
     "name": "stderr",
     "output_type": "stream",
     "text": [
      "2024-03-16 17:45:44,883 - INFO - Using 1x5 cross validation\n"
     ]
    },
    {
     "name": "stdout",
     "output_type": "stream",
     "text": [
      "0.001 100 20 0 0.9776492824730907\n"
     ]
    },
    {
     "data": {
      "application/vnd.jupyter.widget-view+json": {
       "model_id": "8b38fcfe39434bdf9f3d8e84771acc2a",
       "version_major": 2,
       "version_minor": 0
      },
      "text/plain": [
       "  0%|          | 0/5 [00:00<?, ?it/s]"
      ]
     },
     "metadata": {},
     "output_type": "display_data"
    },
    {
     "name": "stderr",
     "output_type": "stream",
     "text": [
      "2024-03-16 17:45:50,395 - INFO - Using 1x5 cross validation\n"
     ]
    },
    {
     "name": "stdout",
     "output_type": "stream",
     "text": [
      "0.001 100 20 1 0.9781866816811751\n"
     ]
    },
    {
     "data": {
      "application/vnd.jupyter.widget-view+json": {
       "model_id": "353cb8aa9fb844a1be6c08e13f90ed23",
       "version_major": 2,
       "version_minor": 0
      },
      "text/plain": [
       "  0%|          | 0/5 [00:00<?, ?it/s]"
      ]
     },
     "metadata": {},
     "output_type": "display_data"
    },
    {
     "name": "stderr",
     "output_type": "stream",
     "text": [
      "2024-03-16 17:45:55,443 - INFO - Using 1x5 cross validation\n"
     ]
    },
    {
     "name": "stdout",
     "output_type": "stream",
     "text": [
      "0.001 100 20 10 0.9810680549478861\n"
     ]
    },
    {
     "data": {
      "application/vnd.jupyter.widget-view+json": {
       "model_id": "1cf165c1f3504e4d82419cffe67b9fed",
       "version_major": 2,
       "version_minor": 0
      },
      "text/plain": [
       "  0%|          | 0/5 [00:00<?, ?it/s]"
      ]
     },
     "metadata": {},
     "output_type": "display_data"
    },
    {
     "name": "stderr",
     "output_type": "stream",
     "text": [
      "2024-03-16 17:46:05,707 - INFO - Using 1x5 cross validation\n"
     ]
    },
    {
     "name": "stdout",
     "output_type": "stream",
     "text": [
      "0.001 200 None 0 0.921437571736177\n"
     ]
    },
    {
     "data": {
      "application/vnd.jupyter.widget-view+json": {
       "model_id": "e1c6ceecf8d34c999f08b64c79c6e5ca",
       "version_major": 2,
       "version_minor": 0
      },
      "text/plain": [
       "  0%|          | 0/5 [00:00<?, ?it/s]"
      ]
     },
     "metadata": {},
     "output_type": "display_data"
    },
    {
     "name": "stderr",
     "output_type": "stream",
     "text": [
      "2024-03-16 17:46:15,747 - INFO - Using 1x5 cross validation\n"
     ]
    },
    {
     "name": "stdout",
     "output_type": "stream",
     "text": [
      "0.001 200 None 1 0.9222524910984918\n"
     ]
    },
    {
     "data": {
      "application/vnd.jupyter.widget-view+json": {
       "model_id": "15917c84d77243099d80ec2db7a840d2",
       "version_major": 2,
       "version_minor": 0
      },
      "text/plain": [
       "  0%|          | 0/5 [00:00<?, ?it/s]"
      ]
     },
     "metadata": {},
     "output_type": "display_data"
    },
    {
     "name": "stderr",
     "output_type": "stream",
     "text": [
      "2024-03-16 17:46:25,779 - INFO - Using 1x5 cross validation\n"
     ]
    },
    {
     "name": "stdout",
     "output_type": "stream",
     "text": [
      "0.001 200 None 10 0.9274944614693658\n"
     ]
    },
    {
     "data": {
      "application/vnd.jupyter.widget-view+json": {
       "model_id": "ff268d6937144e7bb952f9f674ccf4c7",
       "version_major": 2,
       "version_minor": 0
      },
      "text/plain": [
       "  0%|          | 0/5 [00:00<?, ?it/s]"
      ]
     },
     "metadata": {},
     "output_type": "display_data"
    },
    {
     "name": "stderr",
     "output_type": "stream",
     "text": [
      "2024-03-16 17:46:33,536 - INFO - Using 1x5 cross validation\n"
     ]
    },
    {
     "name": "stdout",
     "output_type": "stream",
     "text": [
      "0.001 200 5 0 0.9237782044565073\n"
     ]
    },
    {
     "data": {
      "application/vnd.jupyter.widget-view+json": {
       "model_id": "8fa6c53f2f6d4e07997a8628ef1684e5",
       "version_major": 2,
       "version_minor": 0
      },
      "text/plain": [
       "  0%|          | 0/5 [00:00<?, ?it/s]"
      ]
     },
     "metadata": {},
     "output_type": "display_data"
    },
    {
     "name": "stderr",
     "output_type": "stream",
     "text": [
      "2024-03-16 17:46:41,040 - INFO - Using 1x5 cross validation\n"
     ]
    },
    {
     "name": "stdout",
     "output_type": "stream",
     "text": [
      "0.001 200 5 1 0.924794090979405\n"
     ]
    },
    {
     "data": {
      "application/vnd.jupyter.widget-view+json": {
       "model_id": "9f303138565e4c60be08e59224d75613",
       "version_major": 2,
       "version_minor": 0
      },
      "text/plain": [
       "  0%|          | 0/5 [00:00<?, ?it/s]"
      ]
     },
     "metadata": {},
     "output_type": "display_data"
    },
    {
     "name": "stderr",
     "output_type": "stream",
     "text": [
      "2024-03-16 17:46:48,018 - INFO - Using 1x5 cross validation\n"
     ]
    },
    {
     "name": "stdout",
     "output_type": "stream",
     "text": [
      "0.001 200 5 10 0.9295934131544368\n"
     ]
    },
    {
     "data": {
      "application/vnd.jupyter.widget-view+json": {
       "model_id": "992084998a444852909344a2d0e8028d",
       "version_major": 2,
       "version_minor": 0
      },
      "text/plain": [
       "  0%|          | 0/5 [00:00<?, ?it/s]"
      ]
     },
     "metadata": {},
     "output_type": "display_data"
    },
    {
     "name": "stderr",
     "output_type": "stream",
     "text": [
      "2024-03-16 17:46:58,043 - INFO - Using 1x5 cross validation\n"
     ]
    },
    {
     "name": "stdout",
     "output_type": "stream",
     "text": [
      "0.001 200 10 0 0.921437571736177\n"
     ]
    },
    {
     "data": {
      "application/vnd.jupyter.widget-view+json": {
       "model_id": "612f38c89a8c42a2936b5e65de9e62dd",
       "version_major": 2,
       "version_minor": 0
      },
      "text/plain": [
       "  0%|          | 0/5 [00:00<?, ?it/s]"
      ]
     },
     "metadata": {},
     "output_type": "display_data"
    },
    {
     "name": "stderr",
     "output_type": "stream",
     "text": [
      "2024-03-16 17:47:07,985 - INFO - Using 1x5 cross validation\n"
     ]
    },
    {
     "name": "stdout",
     "output_type": "stream",
     "text": [
      "0.001 200 10 1 0.9222524910984918\n"
     ]
    },
    {
     "data": {
      "application/vnd.jupyter.widget-view+json": {
       "model_id": "cffffb99becd4d718dd056ac57b2474d",
       "version_major": 2,
       "version_minor": 0
      },
      "text/plain": [
       "  0%|          | 0/5 [00:00<?, ?it/s]"
      ]
     },
     "metadata": {},
     "output_type": "display_data"
    },
    {
     "name": "stderr",
     "output_type": "stream",
     "text": [
      "2024-03-16 17:47:17,850 - INFO - Using 1x5 cross validation\n"
     ]
    },
    {
     "name": "stdout",
     "output_type": "stream",
     "text": [
      "0.001 200 10 10 0.9274944614693658\n"
     ]
    },
    {
     "data": {
      "application/vnd.jupyter.widget-view+json": {
       "model_id": "1a84e41cee454685a0c26de627c50290",
       "version_major": 2,
       "version_minor": 0
      },
      "text/plain": [
       "  0%|          | 0/5 [00:00<?, ?it/s]"
      ]
     },
     "metadata": {},
     "output_type": "display_data"
    },
    {
     "name": "stderr",
     "output_type": "stream",
     "text": [
      "2024-03-16 17:47:27,886 - INFO - Using 1x5 cross validation\n"
     ]
    },
    {
     "name": "stdout",
     "output_type": "stream",
     "text": [
      "0.001 200 20 0 0.921437571736177\n"
     ]
    },
    {
     "data": {
      "application/vnd.jupyter.widget-view+json": {
       "model_id": "9ceb7e02385941448b2028a253080ebb",
       "version_major": 2,
       "version_minor": 0
      },
      "text/plain": [
       "  0%|          | 0/5 [00:00<?, ?it/s]"
      ]
     },
     "metadata": {},
     "output_type": "display_data"
    },
    {
     "name": "stderr",
     "output_type": "stream",
     "text": [
      "2024-03-16 17:47:37,891 - INFO - Using 1x5 cross validation\n"
     ]
    },
    {
     "name": "stdout",
     "output_type": "stream",
     "text": [
      "0.001 200 20 1 0.9222524910984918\n"
     ]
    },
    {
     "data": {
      "application/vnd.jupyter.widget-view+json": {
       "model_id": "63980aa35fbd40ba9477f5b5c49cfec6",
       "version_major": 2,
       "version_minor": 0
      },
      "text/plain": [
       "  0%|          | 0/5 [00:00<?, ?it/s]"
      ]
     },
     "metadata": {},
     "output_type": "display_data"
    },
    {
     "name": "stderr",
     "output_type": "stream",
     "text": [
      "2024-03-16 17:47:47,672 - INFO - Using 1x5 cross validation\n"
     ]
    },
    {
     "name": "stdout",
     "output_type": "stream",
     "text": [
      "0.001 200 20 10 0.9274944614693658\n"
     ]
    },
    {
     "data": {
      "application/vnd.jupyter.widget-view+json": {
       "model_id": "a1403770d6104042b251c22040f76374",
       "version_major": 2,
       "version_minor": 0
      },
      "text/plain": [
       "  0%|          | 0/5 [00:00<?, ?it/s]"
      ]
     },
     "metadata": {},
     "output_type": "display_data"
    },
    {
     "name": "stderr",
     "output_type": "stream",
     "text": [
      "2024-03-16 17:48:02,292 - INFO - Using 1x5 cross validation\n"
     ]
    },
    {
     "name": "stdout",
     "output_type": "stream",
     "text": [
      "0.001 300 None 0 0.8722143602228047\n"
     ]
    },
    {
     "data": {
      "application/vnd.jupyter.widget-view+json": {
       "model_id": "fb9869b1e4314cf1a543723a81df6dc2",
       "version_major": 2,
       "version_minor": 0
      },
      "text/plain": [
       "  0%|          | 0/5 [00:00<?, ?it/s]"
      ]
     },
     "metadata": {},
     "output_type": "display_data"
    },
    {
     "name": "stderr",
     "output_type": "stream",
     "text": [
      "2024-03-16 17:48:17,070 - INFO - Using 1x5 cross validation\n"
     ]
    },
    {
     "name": "stdout",
     "output_type": "stream",
     "text": [
      "0.001 300 None 1 0.8732990109311132\n"
     ]
    },
    {
     "data": {
      "application/vnd.jupyter.widget-view+json": {
       "model_id": "061b4341e6284bf58247825fceea9570",
       "version_major": 2,
       "version_minor": 0
      },
      "text/plain": [
       "  0%|          | 0/5 [00:00<?, ?it/s]"
      ]
     },
     "metadata": {},
     "output_type": "display_data"
    },
    {
     "name": "stderr",
     "output_type": "stream",
     "text": [
      "2024-03-16 17:48:31,985 - INFO - Using 1x5 cross validation\n"
     ]
    },
    {
     "name": "stdout",
     "output_type": "stream",
     "text": [
      "0.001 300 None 10 0.8802844300042274\n"
     ]
    },
    {
     "data": {
      "application/vnd.jupyter.widget-view+json": {
       "model_id": "5c034908e76a46869bc21364b526377c",
       "version_major": 2,
       "version_minor": 0
      },
      "text/plain": [
       "  0%|          | 0/5 [00:00<?, ?it/s]"
      ]
     },
     "metadata": {},
     "output_type": "display_data"
    },
    {
     "name": "stderr",
     "output_type": "stream",
     "text": [
      "2024-03-16 17:48:42,961 - INFO - Using 1x5 cross validation\n"
     ]
    },
    {
     "name": "stdout",
     "output_type": "stream",
     "text": [
      "0.001 300 5 0 0.8753502660644941\n"
     ]
    },
    {
     "data": {
      "application/vnd.jupyter.widget-view+json": {
       "model_id": "f1dec8b7a5ee4b3396643535ed1c2021",
       "version_major": 2,
       "version_minor": 0
      },
      "text/plain": [
       "  0%|          | 0/5 [00:00<?, ?it/s]"
      ]
     },
     "metadata": {},
     "output_type": "display_data"
    },
    {
     "name": "stderr",
     "output_type": "stream",
     "text": [
      "2024-03-16 17:48:54,174 - INFO - Using 1x5 cross validation\n"
     ]
    },
    {
     "name": "stdout",
     "output_type": "stream",
     "text": [
      "0.001 300 5 1 0.8766730289023812\n"
     ]
    },
    {
     "data": {
      "application/vnd.jupyter.widget-view+json": {
       "model_id": "879d3aacd93046dfbe1f3b4fd96c29aa",
       "version_major": 2,
       "version_minor": 0
      },
      "text/plain": [
       "  0%|          | 0/5 [00:00<?, ?it/s]"
      ]
     },
     "metadata": {},
     "output_type": "display_data"
    },
    {
     "name": "stderr",
     "output_type": "stream",
     "text": [
      "2024-03-16 17:49:04,225 - INFO - Using 1x5 cross validation\n"
     ]
    },
    {
     "name": "stdout",
     "output_type": "stream",
     "text": [
      "0.001 300 5 10 0.883269486877168\n"
     ]
    },
    {
     "data": {
      "application/vnd.jupyter.widget-view+json": {
       "model_id": "107b7667bd34480f93bc1d44ecd612a8",
       "version_major": 2,
       "version_minor": 0
      },
      "text/plain": [
       "  0%|          | 0/5 [00:00<?, ?it/s]"
      ]
     },
     "metadata": {},
     "output_type": "display_data"
    },
    {
     "name": "stderr",
     "output_type": "stream",
     "text": [
      "2024-03-16 17:49:19,048 - INFO - Using 1x5 cross validation\n"
     ]
    },
    {
     "name": "stdout",
     "output_type": "stream",
     "text": [
      "0.001 300 10 0 0.8722143602228047\n"
     ]
    },
    {
     "data": {
      "application/vnd.jupyter.widget-view+json": {
       "model_id": "cab0ac25656f408a9f6bed76ad2dcfef",
       "version_major": 2,
       "version_minor": 0
      },
      "text/plain": [
       "  0%|          | 0/5 [00:00<?, ?it/s]"
      ]
     },
     "metadata": {},
     "output_type": "display_data"
    },
    {
     "name": "stderr",
     "output_type": "stream",
     "text": [
      "2024-03-16 17:49:34,349 - INFO - Using 1x5 cross validation\n"
     ]
    },
    {
     "name": "stdout",
     "output_type": "stream",
     "text": [
      "0.001 300 10 1 0.8732990109311132\n"
     ]
    },
    {
     "data": {
      "application/vnd.jupyter.widget-view+json": {
       "model_id": "3d838a108b5544c5b82837e9469655df",
       "version_major": 2,
       "version_minor": 0
      },
      "text/plain": [
       "  0%|          | 0/5 [00:00<?, ?it/s]"
      ]
     },
     "metadata": {},
     "output_type": "display_data"
    },
    {
     "name": "stderr",
     "output_type": "stream",
     "text": [
      "2024-03-16 17:49:49,100 - INFO - Using 1x5 cross validation\n"
     ]
    },
    {
     "name": "stdout",
     "output_type": "stream",
     "text": [
      "0.001 300 10 10 0.8802844300042274\n"
     ]
    },
    {
     "data": {
      "application/vnd.jupyter.widget-view+json": {
       "model_id": "a4c1b3ae994a4a48bedbfaa96becf4ae",
       "version_major": 2,
       "version_minor": 0
      },
      "text/plain": [
       "  0%|          | 0/5 [00:00<?, ?it/s]"
      ]
     },
     "metadata": {},
     "output_type": "display_data"
    },
    {
     "name": "stderr",
     "output_type": "stream",
     "text": [
      "2024-03-16 17:50:03,789 - INFO - Using 1x5 cross validation\n"
     ]
    },
    {
     "name": "stdout",
     "output_type": "stream",
     "text": [
      "0.001 300 20 0 0.8722143602228047\n"
     ]
    },
    {
     "data": {
      "application/vnd.jupyter.widget-view+json": {
       "model_id": "814c3eff93bc44e0878c93bd41fb1d37",
       "version_major": 2,
       "version_minor": 0
      },
      "text/plain": [
       "  0%|          | 0/5 [00:00<?, ?it/s]"
      ]
     },
     "metadata": {},
     "output_type": "display_data"
    },
    {
     "name": "stderr",
     "output_type": "stream",
     "text": [
      "2024-03-16 17:50:18,423 - INFO - Using 1x5 cross validation\n"
     ]
    },
    {
     "name": "stdout",
     "output_type": "stream",
     "text": [
      "0.001 300 20 1 0.8732990109311132\n"
     ]
    },
    {
     "data": {
      "application/vnd.jupyter.widget-view+json": {
       "model_id": "376110db12374156985da1d2c690eaa6",
       "version_major": 2,
       "version_minor": 0
      },
      "text/plain": [
       "  0%|          | 0/5 [00:00<?, ?it/s]"
      ]
     },
     "metadata": {},
     "output_type": "display_data"
    },
    {
     "name": "stdout",
     "output_type": "stream",
     "text": [
      "0.001 300 20 10 0.8802844300042274\n"
     ]
    },
    {
     "data": {
      "text/plain": [
       "{(0.1, 200, 5, 10): 0.5411716086439575,\n",
       " (0.1, 100, 10, 10): 0.5423476158944861,\n",
       " (0.1, 100, 20, 10): 0.5428339328016243,\n",
       " (0.1, 100, None, 10): 0.5428499730432197,\n",
       " (0.1, 200, 5, 1): 0.5433974547145095,\n",
       " (0.1, 100, 5, 10): 0.5434252299609306,\n",
       " (0.1, 100, 5, 1): 0.5436710741405446,\n",
       " (0.1, 100, 10, 0): 0.5439115085063795,\n",
       " (0.1, 300, 5, 10): 0.5440020740958035,\n",
       " (0.1, 100, 5, 0): 0.5440921840810564,\n",
       " (0.1, 100, 10, 1): 0.5441438122755646,\n",
       " (0.1, 100, None, 1): 0.5442830267334263,\n",
       " (0.1, 200, 5, 0): 0.5443495375548466,\n",
       " (0.1, 100, None, 0): 0.5443627416944987,\n",
       " (0.1, 100, 20, 0): 0.5444496957930531,\n",
       " (0.1, 100, 20, 1): 0.5444853481080767,\n",
       " (0.1, 200, 10, 10): 0.5458167902086362,\n",
       " (0.1, 200, None, 10): 0.5464225060535219,\n",
       " (0.1, 200, 20, 10): 0.5465399403195497,\n",
       " (0.1, 300, 5, 1): 0.5468386018675191,\n",
       " (0.1, 300, 5, 0): 0.5484610955229174,\n",
       " (0.1, 200, 10, 1): 0.5495183203024678,\n",
       " (0.1, 200, None, 1): 0.5496523573382679,\n",
       " (0.1, 200, 20, 1): 0.5498722119622759,\n",
       " (0.1, 200, 10, 0): 0.5500165704751032,\n",
       " (0.1, 200, None, 0): 0.5500676366651307,\n",
       " (0.1, 200, 20, 0): 0.5504451198609102,\n",
       " (0.1, 300, 10, 10): 0.5505502920656711,\n",
       " (0.1, 300, None, 10): 0.5511656930206523,\n",
       " (0.1, 300, 20, 10): 0.5513809979408506,\n",
       " (0.01, 300, 10, 0): 0.5538808009185571,\n",
       " (0.01, 300, None, 0): 0.5539171973472862,\n",
       " (0.01, 300, 20, 0): 0.5539171973472862,\n",
       " (0.01, 300, 10, 1): 0.5542321936981374,\n",
       " (0.01, 300, None, 1): 0.5542785251010376,\n",
       " (0.01, 300, 20, 1): 0.5542785251010376,\n",
       " (0.1, 300, 10, 1): 0.5548476282821638,\n",
       " (0.1, 300, 10, 0): 0.5550570939029431,\n",
       " (0.1, 300, None, 1): 0.5551297448024664,\n",
       " (0.1, 300, None, 0): 0.5554526022396213,\n",
       " (0.1, 300, 20, 0): 0.5555025887576108,\n",
       " (0.1, 300, 20, 1): 0.5556375679936648,\n",
       " (0.01, 300, 10, 10): 0.5568480465518311,\n",
       " (0.01, 300, None, 10): 0.5569317796827119,\n",
       " (0.01, 300, 20, 10): 0.5569317796827119,\n",
       " (0.01, 300, 5, 0): 0.5590189531028311,\n",
       " (0.01, 300, 5, 1): 0.5595741364924585,\n",
       " (0.01, 300, 5, 10): 0.5633478773043923,\n",
       " (0.01, 200, 10, 0): 0.5753250585425658,\n",
       " (0.01, 200, None, 0): 0.575367815885624,\n",
       " (0.01, 200, 20, 0): 0.575367815885624,\n",
       " (0.01, 200, None, 1): 0.5762585131149567,\n",
       " (0.01, 200, 20, 1): 0.5762585131149567,\n",
       " (0.01, 200, 10, 1): 0.5762948319895537,\n",
       " (0.01, 200, 10, 10): 0.582060025830857,\n",
       " (0.01, 200, None, 10): 0.5820990011281499,\n",
       " (0.01, 200, 20, 10): 0.5820990011281499,\n",
       " (0.01, 200, 5, 0): 0.5823415261210567,\n",
       " (0.01, 200, 5, 1): 0.5832767608411777,\n",
       " (0.01, 200, 5, 10): 0.5895742606298449,\n",
       " (0.01, 100, 10, 0): 0.6639098581786953,\n",
       " (0.01, 100, None, 0): 0.6639144396549861,\n",
       " (0.01, 100, 20, 0): 0.6639144396549861,\n",
       " (0.01, 100, None, 1): 0.6654608345753756,\n",
       " (0.01, 100, 10, 1): 0.6654608345753756,\n",
       " (0.01, 100, 20, 1): 0.6654608345753756,\n",
       " (0.01, 100, 5, 0): 0.6705293460608899,\n",
       " (0.01, 100, 5, 1): 0.6725015100249889,\n",
       " (0.01, 100, None, 10): 0.6758311206614241,\n",
       " (0.01, 100, 10, 10): 0.6758311206614241,\n",
       " (0.01, 100, 20, 10): 0.6758311206614241,\n",
       " (0.01, 100, 5, 10): 0.6828906220041159,\n",
       " (0.001, 300, None, 0): 0.8722143602228047,\n",
       " (0.001, 300, 10, 0): 0.8722143602228047,\n",
       " (0.001, 300, 20, 0): 0.8722143602228047,\n",
       " (0.001, 300, None, 1): 0.8732990109311132,\n",
       " (0.001, 300, 10, 1): 0.8732990109311132,\n",
       " (0.001, 300, 20, 1): 0.8732990109311132,\n",
       " (0.001, 300, 5, 0): 0.8753502660644941,\n",
       " (0.001, 300, 5, 1): 0.8766730289023812,\n",
       " (0.001, 300, None, 10): 0.8802844300042274,\n",
       " (0.001, 300, 10, 10): 0.8802844300042274,\n",
       " (0.001, 300, 20, 10): 0.8802844300042274,\n",
       " (0.001, 300, 5, 10): 0.883269486877168,\n",
       " (0.001, 200, None, 0): 0.921437571736177,\n",
       " (0.001, 200, 10, 0): 0.921437571736177,\n",
       " (0.001, 200, 20, 0): 0.921437571736177,\n",
       " (0.001, 200, None, 1): 0.9222524910984918,\n",
       " (0.001, 200, 10, 1): 0.9222524910984918,\n",
       " (0.001, 200, 20, 1): 0.9222524910984918,\n",
       " (0.001, 200, 5, 0): 0.9237782044565073,\n",
       " (0.001, 200, 5, 1): 0.924794090979405,\n",
       " (0.001, 200, None, 10): 0.9274944614693658,\n",
       " (0.001, 200, 10, 10): 0.9274944614693658,\n",
       " (0.001, 200, 20, 10): 0.9274944614693658,\n",
       " (0.001, 200, 5, 10): 0.9295934131544368,\n",
       " (0.001, 100, None, 0): 0.9776492824730907,\n",
       " (0.001, 100, 10, 0): 0.9776492824730907,\n",
       " (0.001, 100, 20, 0): 0.9776492824730907,\n",
       " (0.001, 100, None, 1): 0.9781866816811751,\n",
       " (0.001, 100, 10, 1): 0.9781866816811751,\n",
       " (0.001, 100, 20, 1): 0.9781866816811751,\n",
       " (0.001, 100, 5, 0): 0.9789435981167411,\n",
       " (0.001, 100, 5, 1): 0.9795877508609137,\n",
       " (0.001, 100, None, 10): 0.9810680549478861,\n",
       " (0.001, 100, 10, 10): 0.9810680549478861,\n",
       " (0.001, 100, 20, 10): 0.9810680549478861,\n",
       " (0.001, 100, 5, 10): 0.982138788858123}"
      ]
     },
     "execution_count": 14,
     "metadata": {},
     "output_type": "execute_result"
    }
   ],
   "source": [
    "param_grid = {\n",
    "    \"learning_rate\": [0.1, 0.01, 0.001],\n",
    "    \"max_iter\": [100, 200, 300],\n",
    "    \"max_depth\": [None, 5, 10, 20],\n",
    "    \"l2_regularisation\": [0, 1, 10],\n",
    "}\n",
    "\n",
    "scores = {}  # parameter combination -> mean columnwise RMSE\n",
    "\n",
    "for learning_rate in param_grid[\"learning_rate\"]:\n",
    "    for max_iter in param_grid[\"max_iter\"]:\n",
    "        for max_depth in param_grid[\"max_depth\"]:\n",
    "            for l2_regularisation in param_grid[\"l2_regularisation\"]:\n",
    "                model = MultiOutputRegressor(\n",
    "                    HistGradientBoostingRegressor(\n",
    "                        learning_rate=learning_rate,\n",
    "                        max_iter=max_iter,\n",
    "                        max_depth=max_depth,\n",
    "                        l2_regularization=l2_regularisation,\n",
    "                        random_state=0,\n",
    "                    )\n",
    "                )\n",
    "                results_df = cross_validate(model, X_train, y_train, n_folds=5, n_runs=1)\n",
    "                scores[(learning_rate, max_iter, max_depth, l2_regularisation)] = results_df[\"rmse\"][\"mean_columnwise\"][\"mean\"]\n",
    "\n",
    "                print(\n",
    "                    learning_rate,\n",
    "                    max_iter,\n",
    "                    max_depth,\n",
    "                    l2_regularisation,\n",
    "                    scores[(learning_rate, max_iter, max_depth, l2_regularisation)],\n",
    "                )\n",
    "\n",
    "{k: v for k, v in sorted(scores.items(), key=lambda item: item[1])}\n",
    "\n"
   ]
  },
  {
   "cell_type": "markdown",
   "metadata": {},
   "source": [
    "best score achieved with lr = 0.1, max_iter = 200, max_depth = 5, l2_reg = 10"
   ]
  },
  {
   "cell_type": "code",
   "execution_count": 15,
   "metadata": {},
   "outputs": [
    {
     "name": "stderr",
     "output_type": "stream",
     "text": [
      "2024-03-16 17:50:33,547 - INFO - Using 5x5 cross validation\n"
     ]
    },
    {
     "data": {
      "application/vnd.jupyter.widget-view+json": {
       "model_id": "990a81b533fd4be1bb5c1954860a28b1",
       "version_major": 2,
       "version_minor": 0
      },
      "text/plain": [
       "  0%|          | 0/25 [00:00<?, ?it/s]"
      ]
     },
     "metadata": {},
     "output_type": "display_data"
    },
    {
     "data": {
      "text/html": [
       "<div>\n",
       "<style scoped>\n",
       "    .dataframe tbody tr th:only-of-type {\n",
       "        vertical-align: middle;\n",
       "    }\n",
       "\n",
       "    .dataframe tbody tr th {\n",
       "        vertical-align: top;\n",
       "    }\n",
       "\n",
       "    .dataframe thead tr th {\n",
       "        text-align: left;\n",
       "    }\n",
       "</style>\n",
       "<table border=\"1\" class=\"dataframe\">\n",
       "  <thead>\n",
       "    <tr>\n",
       "      <th>Metric</th>\n",
       "      <th colspan=\"3\" halign=\"left\">rmse</th>\n",
       "      <th colspan=\"3\" halign=\"left\">mae</th>\n",
       "      <th colspan=\"3\" halign=\"left\">r2</th>\n",
       "    </tr>\n",
       "    <tr>\n",
       "      <th>Target</th>\n",
       "      <th>content</th>\n",
       "      <th>wording</th>\n",
       "      <th>mean_columnwise</th>\n",
       "      <th>content</th>\n",
       "      <th>wording</th>\n",
       "      <th>mean_columnwise</th>\n",
       "      <th>content</th>\n",
       "      <th>wording</th>\n",
       "      <th>mean_columnwise</th>\n",
       "    </tr>\n",
       "  </thead>\n",
       "  <tbody>\n",
       "    <tr>\n",
       "      <th>mean</th>\n",
       "      <td>0.469249</td>\n",
       "      <td>0.62177</td>\n",
       "      <td>0.545509</td>\n",
       "      <td>0.353901</td>\n",
       "      <td>0.475708</td>\n",
       "      <td>0.414805</td>\n",
       "      <td>0.796873</td>\n",
       "      <td>0.643433</td>\n",
       "      <td>0.720153</td>\n",
       "    </tr>\n",
       "    <tr>\n",
       "      <th>stdev</th>\n",
       "      <td>0.011918</td>\n",
       "      <td>0.012934</td>\n",
       "      <td>0.012426</td>\n",
       "      <td>0.008848</td>\n",
       "      <td>0.010194</td>\n",
       "      <td>0.009521</td>\n",
       "      <td>0.00928</td>\n",
       "      <td>0.009926</td>\n",
       "      <td>0.009603</td>\n",
       "    </tr>\n",
       "    <tr>\n",
       "      <th>n_trials</th>\n",
       "      <td>25</td>\n",
       "      <td>25</td>\n",
       "      <td>2</td>\n",
       "      <td>25</td>\n",
       "      <td>25</td>\n",
       "      <td>2</td>\n",
       "      <td>25</td>\n",
       "      <td>25</td>\n",
       "      <td>2</td>\n",
       "    </tr>\n",
       "  </tbody>\n",
       "</table>\n",
       "</div>"
      ],
      "text/plain": [
       "Metric        rmse                                 mae            \\\n",
       "Target     content   wording mean_columnwise   content   wording   \n",
       "mean      0.469249   0.62177        0.545509  0.353901  0.475708   \n",
       "stdev     0.011918  0.012934        0.012426  0.008848  0.010194   \n",
       "n_trials        25        25               2        25        25   \n",
       "\n",
       "Metric                          r2                            \n",
       "Target   mean_columnwise   content   wording mean_columnwise  \n",
       "mean            0.414805  0.796873  0.643433        0.720153  \n",
       "stdev           0.009521   0.00928  0.009926        0.009603  \n",
       "n_trials               2        25        25               2  "
      ]
     },
     "metadata": {},
     "output_type": "display_data"
    },
    {
     "data": {
      "image/png": "[encoded data removed]",
      "text/plain": [
       "<Figure size 640x480 with 1 Axes>"
      ]
     },
     "metadata": {},
     "output_type": "display_data"
    }
   ],
   "source": [
    "from sklearn.inspection import permutation_importance\n",
    "model = MultiOutputRegressor(\n",
    "    HistGradientBoostingRegressor(\n",
    "        random_state=0,\n",
    "    )\n",
    ")\n",
    "\n",
    "results_df = cross_validate(model, X_train, y_train, n_folds=5, n_runs=5)\n",
    "display(results_df)\n",
    "\n",
    "model.fit(X_train, y_train)\n",
    "result = permutation_importance(\n",
    "    model, X_train, y_train, n_repeats=10, random_state=42, n_jobs=1\n",
    ")\n",
    "\n",
    "sorted_importances_idx = result.importances_mean.argsort()\n",
    "importances = pd.DataFrame(\n",
    "    result.importances[sorted_importances_idx].T,\n",
    "    columns=X_train.columns[sorted_importances_idx],\n",
    ")\n",
    "ax = importances.plot.box(vert=False, whis=10)\n",
    "ax.set_title(\"Permutation Importances (train set)\")\n",
    "ax.axvline(x=0, color=\"k\", linestyle=\"--\")\n",
    "ax.set_xlabel(\"Decrease in accuracy score\")\n",
    "ax.figure.tight_layout()\n"
   ]
  },
  {
   "cell_type": "code",
   "execution_count": 16,
   "metadata": {},
   "outputs": [
    {
     "data": {
      "image/png": "[encoded data removed]",
      "text/plain": [
       "<Figure size 640x480 with 1 Axes>"
      ]
     },
     "metadata": {},
     "output_type": "display_data"
    },
    {
     "data": {
      "image/png": "[encoded data removed]",
      "text/plain": [
       "<Figure size 640x480 with 1 Axes>"
      ]
     },
     "metadata": {},
     "output_type": "display_data"
    }
   ],
   "source": [
    "import matplotlib.pyplot as plt\n",
    "y_test_pred = model.predict(X_test)\n",
    "\n",
    "# plot predicted vs actual for wording, then content\n",
    "plt.scatter(y_test[\"wording\"], y_test_pred[:, 1], s=1)\n",
    "plt.plot([-2, 4], [-2, 4], color=\"black\", linestyle=\"--\")\n",
    "plt.xlabel(\"Actual\")\n",
    "plt.ylabel(\"Predicted\")\n",
    "plt.title(\"Wording\")\n",
    "plt.show()\n",
    "\n",
    "plt.scatter(y_test[\"content\"], y_test_pred[:, 0], s=1)\n",
    "plt.plot([-2, 4], [-2, 4], color=\"black\", linestyle=\"--\")\n",
    "plt.xlabel(\"Actual\")\n",
    "plt.ylabel(\"Predicted\")\n",
    "plt.title(\"Content\")\n",
    "plt.show()"
   ]
  },
  {
   "cell_type": "code",
   "execution_count": 17,
   "metadata": {},
   "outputs": [
    {
     "name": "stderr",
     "output_type": "stream",
     "text": [
      "2024-03-16 17:51:16,955 - INFO - Using 5x5 cross validation\n"
     ]
    },
    {
     "data": {
      "application/vnd.jupyter.widget-view+json": {
       "model_id": "074d07357fcc4c8a8c09129dd9ddf481",
       "version_major": 2,
       "version_minor": 0
      },
      "text/plain": [
       "  0%|          | 0/25 [00:00<?, ?it/s]"
      ]
     },
     "metadata": {},
     "output_type": "display_data"
    },
    {
     "data": {
      "text/html": [
       "<div>\n",
       "<style scoped>\n",
       "    .dataframe tbody tr th:only-of-type {\n",
       "        vertical-align: middle;\n",
       "    }\n",
       "\n",
       "    .dataframe tbody tr th {\n",
       "        vertical-align: top;\n",
       "    }\n",
       "\n",
       "    .dataframe thead tr th {\n",
       "        text-align: left;\n",
       "    }\n",
       "</style>\n",
       "<table border=\"1\" class=\"dataframe\">\n",
       "  <thead>\n",
       "    <tr>\n",
       "      <th>Metric</th>\n",
       "      <th colspan=\"3\" halign=\"left\">rmse</th>\n",
       "      <th colspan=\"3\" halign=\"left\">mae</th>\n",
       "      <th colspan=\"3\" halign=\"left\">r2</th>\n",
       "    </tr>\n",
       "    <tr>\n",
       "      <th>Target</th>\n",
       "      <th>content</th>\n",
       "      <th>wording</th>\n",
       "      <th>mean_columnwise</th>\n",
       "      <th>content</th>\n",
       "      <th>wording</th>\n",
       "      <th>mean_columnwise</th>\n",
       "      <th>content</th>\n",
       "      <th>wording</th>\n",
       "      <th>mean_columnwise</th>\n",
       "    </tr>\n",
       "  </thead>\n",
       "  <tbody>\n",
       "    <tr>\n",
       "      <th>mean</th>\n",
       "      <td>0.471062</td>\n",
       "      <td>0.621285</td>\n",
       "      <td>0.546173</td>\n",
       "      <td>0.355612</td>\n",
       "      <td>0.474933</td>\n",
       "      <td>0.415272</td>\n",
       "      <td>0.795298</td>\n",
       "      <td>0.644006</td>\n",
       "      <td>0.719652</td>\n",
       "    </tr>\n",
       "    <tr>\n",
       "      <th>stdev</th>\n",
       "      <td>0.011776</td>\n",
       "      <td>0.01617</td>\n",
       "      <td>0.013973</td>\n",
       "      <td>0.008564</td>\n",
       "      <td>0.012358</td>\n",
       "      <td>0.010461</td>\n",
       "      <td>0.00932</td>\n",
       "      <td>0.012154</td>\n",
       "      <td>0.010737</td>\n",
       "    </tr>\n",
       "    <tr>\n",
       "      <th>n_trials</th>\n",
       "      <td>25</td>\n",
       "      <td>25</td>\n",
       "      <td>2</td>\n",
       "      <td>25</td>\n",
       "      <td>25</td>\n",
       "      <td>2</td>\n",
       "      <td>25</td>\n",
       "      <td>25</td>\n",
       "      <td>2</td>\n",
       "    </tr>\n",
       "  </tbody>\n",
       "</table>\n",
       "</div>"
      ],
      "text/plain": [
       "Metric        rmse                                 mae            \\\n",
       "Target     content   wording mean_columnwise   content   wording   \n",
       "mean      0.471062  0.621285        0.546173  0.355612  0.474933   \n",
       "stdev     0.011776   0.01617        0.013973  0.008564  0.012358   \n",
       "n_trials        25        25               2        25        25   \n",
       "\n",
       "Metric                          r2                            \n",
       "Target   mean_columnwise   content   wording mean_columnwise  \n",
       "mean            0.415272  0.795298  0.644006        0.719652  \n",
       "stdev           0.010461   0.00932  0.012154        0.010737  \n",
       "n_trials               2        25        25               2  "
      ]
     },
     "metadata": {},
     "output_type": "display_data"
    },
    {
     "data": {
      "image/png": "[encoded data removed]",
      "text/plain": [
       "<Figure size 640x480 with 1 Axes>"
      ]
     },
     "metadata": {},
     "output_type": "display_data"
    }
   ],
   "source": [
    "X_train_ss = X_train.drop(columns=[\"num_words\", \"num_sentences\"])\n",
    "\n",
    "model = MultiOutputRegressor(HistGradientBoostingRegressor(random_state=0))\n",
    "\n",
    "results_df = cross_validate(model, X_train_ss, y_train, n_folds=5, n_runs=5)\n",
    "display(results_df)\n",
    "\n",
    "model.fit(X_train_ss, y_train)\n",
    "result = permutation_importance(\n",
    "    model, X_train_ss, y_train, n_repeats=10, random_state=42, n_jobs=1\n",
    ")\n",
    "\n",
    "sorted_importances_idx = result.importances_mean.argsort()\n",
    "importances = pd.DataFrame(\n",
    "    result.importances[sorted_importances_idx].T,\n",
    "    columns=X_train_ss.columns[sorted_importances_idx],\n",
    ")\n",
    "ax = importances.plot.box(vert=False, whis=10)\n",
    "ax.set_title(\"Permutation Importances (train set)\")\n",
    "ax.axvline(x=0, color=\"k\", linestyle=\"--\")\n",
    "ax.set_xlabel(\"Decrease in accuracy score\")\n",
    "ax.figure.tight_layout()"
   ]
  },
  {
   "cell_type": "code",
   "execution_count": 18,
   "metadata": {},
   "outputs": [
    {
     "name": "stderr",
     "output_type": "stream",
     "text": [
      "2024-03-16 17:51:56,849 - INFO - Using 5x5 cross validation\n"
     ]
    },
    {
     "data": {
      "application/vnd.jupyter.widget-view+json": {
       "model_id": "a4572485b1e341b2ab5f73adf2ff22de",
       "version_major": 2,
       "version_minor": 0
      },
      "text/plain": [
       "  0%|          | 0/25 [00:00<?, ?it/s]"
      ]
     },
     "metadata": {},
     "output_type": "display_data"
    },
    {
     "data": {
      "text/html": [
       "<div>\n",
       "<style scoped>\n",
       "    .dataframe tbody tr th:only-of-type {\n",
       "        vertical-align: middle;\n",
       "    }\n",
       "\n",
       "    .dataframe tbody tr th {\n",
       "        vertical-align: top;\n",
       "    }\n",
       "\n",
       "    .dataframe thead tr th {\n",
       "        text-align: left;\n",
       "    }\n",
       "</style>\n",
       "<table border=\"1\" class=\"dataframe\">\n",
       "  <thead>\n",
       "    <tr>\n",
       "      <th>Metric</th>\n",
       "      <th colspan=\"3\" halign=\"left\">rmse</th>\n",
       "      <th colspan=\"3\" halign=\"left\">mae</th>\n",
       "      <th colspan=\"3\" halign=\"left\">r2</th>\n",
       "    </tr>\n",
       "    <tr>\n",
       "      <th>Target</th>\n",
       "      <th>content</th>\n",
       "      <th>wording</th>\n",
       "      <th>mean_columnwise</th>\n",
       "      <th>content</th>\n",
       "      <th>wording</th>\n",
       "      <th>mean_columnwise</th>\n",
       "      <th>content</th>\n",
       "      <th>wording</th>\n",
       "      <th>mean_columnwise</th>\n",
       "    </tr>\n",
       "  </thead>\n",
       "  <tbody>\n",
       "    <tr>\n",
       "      <th>mean</th>\n",
       "      <td>0.544545</td>\n",
       "      <td>0.840285</td>\n",
       "      <td>0.692415</td>\n",
       "      <td>0.410144</td>\n",
       "      <td>0.654037</td>\n",
       "      <td>0.532091</td>\n",
       "      <td>0.726229</td>\n",
       "      <td>0.34851</td>\n",
       "      <td>0.53737</td>\n",
       "    </tr>\n",
       "    <tr>\n",
       "      <th>stdev</th>\n",
       "      <td>0.016405</td>\n",
       "      <td>0.020287</td>\n",
       "      <td>0.018346</td>\n",
       "      <td>0.010866</td>\n",
       "      <td>0.015468</td>\n",
       "      <td>0.013167</td>\n",
       "      <td>0.017901</td>\n",
       "      <td>0.028575</td>\n",
       "      <td>0.023238</td>\n",
       "    </tr>\n",
       "    <tr>\n",
       "      <th>n_trials</th>\n",
       "      <td>25</td>\n",
       "      <td>25</td>\n",
       "      <td>2</td>\n",
       "      <td>25</td>\n",
       "      <td>25</td>\n",
       "      <td>2</td>\n",
       "      <td>25</td>\n",
       "      <td>25</td>\n",
       "      <td>2</td>\n",
       "    </tr>\n",
       "  </tbody>\n",
       "</table>\n",
       "</div>"
      ],
      "text/plain": [
       "Metric        rmse                                 mae            \\\n",
       "Target     content   wording mean_columnwise   content   wording   \n",
       "mean      0.544545  0.840285        0.692415  0.410144  0.654037   \n",
       "stdev     0.016405  0.020287        0.018346  0.010866  0.015468   \n",
       "n_trials        25        25               2        25        25   \n",
       "\n",
       "Metric                          r2                            \n",
       "Target   mean_columnwise   content   wording mean_columnwise  \n",
       "mean            0.532091  0.726229   0.34851         0.53737  \n",
       "stdev           0.013167  0.017901  0.028575        0.023238  \n",
       "n_trials               2        25        25               2  "
      ]
     },
     "metadata": {},
     "output_type": "display_data"
    },
    {
     "data": {
      "image/png": "[encoded data removed]",
      "text/plain": [
       "<Figure size 640x480 with 1 Axes>"
      ]
     },
     "metadata": {},
     "output_type": "display_data"
    }
   ],
   "source": [
    "X_train_nw = X_train[[\"num_words\"]]\n",
    "\n",
    "model = MultiOutputRegressor(HistGradientBoostingRegressor(random_state=0))\n",
    "\n",
    "results_df = cross_validate(model, X_train_nw, y_train, n_folds=5, n_runs=5)\n",
    "display(results_df)\n",
    "\n",
    "model.fit(X_train_nw, y_train)\n",
    "result = permutation_importance(\n",
    "    model, X_train_nw, y_train, n_repeats=10, random_state=42, n_jobs=1\n",
    ")\n",
    "\n",
    "sorted_importances_idx = result.importances_mean.argsort()\n",
    "importances = pd.DataFrame(\n",
    "    result.importances[sorted_importances_idx].T,\n",
    "    columns=X_train_nw.columns[sorted_importances_idx],\n",
    ")\n",
    "ax = importances.plot.box(vert=False, whis=10)\n",
    "ax.set_title(\"Permutation Importances (train set)\")\n",
    "ax.axvline(x=0, color=\"k\", linestyle=\"--\")\n",
    "ax.set_xlabel(\"Decrease in accuracy score\")\n",
    "ax.figure.tight_layout()"
   ]
  }
 ],
 "metadata": {
  "kernelspec": {
   "display_name": "venv",
   "language": "python",
   "name": "python3"
  },
  "language_info": {
   "codemirror_mode": {
    "name": "ipython",
    "version": 3
   },
   "file_extension": ".py",
   "mimetype": "text/x-python",
   "name": "python",
   "nbconvert_exporter": "python",
   "pygments_lexer": "ipython3",
   "version": "3.9.12"
  }
 },
 "nbformat": 4,
 "nbformat_minor": 2
}
