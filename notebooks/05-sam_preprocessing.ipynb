{
 "cells": [
  {
   "cell_type": "code",
   "execution_count": 31,
   "id": "initial_id",
   "metadata": {
    "collapsed": true,
    "ExecuteTime": {
     "end_time": "2024-03-07T19:42:20.387472Z",
     "start_time": "2024-03-07T19:42:17.645617Z"
    }
   },
   "outputs": [],
   "source": [
    "from summary_eval.data import summary_df, prompts_df\n",
    "from typing import List\n",
    "import re\n",
    "from autocorrect import Speller\n",
    "import nltk"
   ]
  },
  {
   "cell_type": "code",
   "outputs": [],
   "source": [
    "def pre_process_whitespace(text: str) -> str:\n",
    "    # Replace all whitespace with a single space\n",
    "    text = ' '.join(text.split())\n",
    "    \n",
    "    # Remove leading and trailing whitespace\n",
    "    text = text.strip()\n",
    "    return text"
   ],
   "metadata": {
    "collapsed": false,
    "ExecuteTime": {
     "end_time": "2024-03-07T19:32:22.787720Z",
     "start_time": "2024-03-07T19:32:22.775146Z"
    }
   },
   "id": "fa6dbdeedfede949",
   "execution_count": 6
  },
  {
   "cell_type": "code",
   "outputs": [
    {
     "data": {
      "text/plain": "'The third wave was an experimentto see how people reacted to a new one leader government. It gained popularity as people wanted to try new things. The students follow anything that is said and start turning on eachother to gain higher power. They had to stop the experement as too many people got to radical with it blindly following there leader'"
     },
     "execution_count": 7,
     "metadata": {},
     "output_type": "execute_result"
    }
   ],
   "source": [
    "pre_process_whitespace(summary_df[\"text\"].iloc[0])"
   ],
   "metadata": {
    "collapsed": false,
    "ExecuteTime": {
     "end_time": "2024-03-07T19:32:24.260636Z",
     "start_time": "2024-03-07T19:32:24.244195Z"
    }
   },
   "id": "fe91796f2e5d6449",
   "execution_count": 7
  },
  {
   "cell_type": "code",
   "outputs": [],
   "source": [
    "def split_quotations(text: str) -> (str, List[str]):\n",
    "    quotations = re.findall('\"([^\"]*)\"', text)\n",
    "    no_quote_text = text\n",
    "    for quotation in quotations:\n",
    "        no_quote_text = no_quote_text.replace(f'\"{quotation}\"', \"\")\n",
    "    return no_quote_text, quotations"
   ],
   "metadata": {
    "collapsed": false,
    "ExecuteTime": {
     "end_time": "2024-03-07T19:38:19.018257Z",
     "start_time": "2024-03-07T19:38:19.012455Z"
    }
   },
   "id": "c402baf823f026fa",
   "execution_count": 14
  },
  {
   "cell_type": "code",
   "outputs": [
    {
     "data": {
      "text/plain": "('The third wave was an experimentto see how people reacted to a new one leader government. It gained popularity as people wanted to try new things. The students follow anything that is said and start turning on eachother to gain higher power. They had to stop the experement as too many people got to radical with it blindly following there leader',\n [])"
     },
     "execution_count": 20,
     "metadata": {},
     "output_type": "execute_result"
    }
   ],
   "source": [
    "split_quotations(summary_df[\"text\"].iloc[0])"
   ],
   "metadata": {
    "collapsed": false,
    "ExecuteTime": {
     "end_time": "2024-03-07T19:38:48.373996Z",
     "start_time": "2024-03-07T19:38:48.365201Z"
    }
   },
   "id": "6cbf824ca2cfca4c",
   "execution_count": 20
  },
  {
   "cell_type": "code",
   "outputs": [
    {
     "data": {
      "text/plain": "(\"In Egypt, there were many occupations and social classes involved in day-to-day living. In many instances if you were at the bottom of the social ladder you could climb up, you didn't have to stay a peasant you could work to bring your status up. Everyone worshipped the gods Ra, Osiris, and Isis, but also they would worship their pharaohs like gods as well. Under the pharaohs were the priests, they had the responsibility to entertain or please the said god. The Chain of Command was placed to keep everyone in check, not one person could handle all the civilians and treasures without any aid. Like the tax collector, called a vizier like stated they were in charge of collecting the peoples' tax. They were also one of the rare instances who were able to read and write, that's how they were granted  Also the soldiers did many things as they would fight in wars or . They were in charge of getting the slaves, farmers, and peasants to build palaces or the famous ancient pyramids. More skilled hardworking workers had occupations of craftsmen or women and physicians. This would mostly make up the middle-class people. The creative craftsmen would often make jewelry, papyrus products, pottery, tools, and many useful things people may need . Of course, you would need merchants to sell the goods to people who would pay for it.\",\n ['vizier', 'quelled domestic uprisings'])"
     },
     "execution_count": 18,
     "metadata": {},
     "output_type": "execute_result"
    }
   ],
   "source": [
    "split_quotations(summary_df[\"text\"].iloc[2])"
   ],
   "metadata": {
    "collapsed": false,
    "ExecuteTime": {
     "end_time": "2024-03-07T19:38:44.927336Z",
     "start_time": "2024-03-07T19:38:44.906372Z"
    }
   },
   "id": "1f9d280e70994d56",
   "execution_count": 18
  },
  {
   "cell_type": "code",
   "outputs": [
    {
     "data": {
      "text/plain": "(\"The Third Wave developed  rapidly because the students genuinly believed that it was the best course of action. Their grades, acomplishments, and classparticipation/ behavior had improved dramatically since the experiment began. There did not seem to be any consiquenses in the students eyes. They became extremely engaged in all the Third Wave activites both inside and outside tha classroom. The experiment ended because the students were so patriotic about the . The history class of thirty rapidly grew to 200 in three days.  That means 170 students joined a school  in two days. Thats 85 people per day! On the fifth and final day all the students had completley believed that the  was a movement that would expell democracy. They believed a candidate from the  would anounce its existance on television after five days of its success. The creater, Ron Jones, believed it had gone too far and for everyone's safety he shut it down.  If he hadn't the fake organization would have grown into something out of his controll. The Third Wave only lasted for a week. It could have spiralled into the American version of the Nazi Party, which is the opposite of what America stands for.\",\n ['movement', 'movement', 'Third Wave', 'movement'])"
     },
     "execution_count": 25,
     "metadata": {},
     "output_type": "execute_result"
    }
   ],
   "source": [
    "split_quotations(summary_df[\"text\"].iloc[4])"
   ],
   "metadata": {
    "collapsed": false,
    "ExecuteTime": {
     "end_time": "2024-03-07T19:39:39.641522Z",
     "start_time": "2024-03-07T19:39:39.624078Z"
    }
   },
   "id": "17996d0b23441e7f",
   "execution_count": 25
  },
  {
   "cell_type": "code",
   "outputs": [],
   "source": [
    "def correct_spelling(text: str) -> (str, int):\n",
    "    spell = Speller(lang='en')\n",
    "    count = 0\n",
    "    text = []\n",
    "    for word in nltk.word_tokenize(text):\n",
    "        if word not in spell.known(word):\n",
    "            count += 1\n",
    "            text.append(spell(word))\n",
    "\n",
    "    return spell(text)"
   ],
   "metadata": {
    "collapsed": false
   },
   "id": "c45d0801ed36d47f"
  },
  {
   "cell_type": "code",
   "outputs": [
    {
     "name": "stderr",
     "output_type": "stream",
     "text": [
      "Downloading LanguageTool 5.7: 100%|██████████| 225M/225M [00:15<00:00, 14.9MB/s] \n",
      "2024-03-07 20:01:37,124 - INFO - Unzipping C:\\Users\\theaw\\AppData\\Local\\Temp\\tmp6he6izxs.zip to C:\\Users\\theaw\\.cache\\language_tool_python.\n",
      "2024-03-07 20:01:41,593 - INFO - Downloaded https://www.languagetool.org/download/LanguageTool-5.7.zip to C:\\Users\\theaw\\.cache\\language_tool_python.\n"
     ]
    },
    {
     "data": {
      "text/plain": "15"
     },
     "execution_count": 34,
     "metadata": {},
     "output_type": "execute_result"
    }
   ],
   "source": [
    "import language_tool_python\n",
    "tool = language_tool_python.LanguageTool('en-US')"
   ],
   "metadata": {
    "collapsed": false,
    "ExecuteTime": {
     "end_time": "2024-03-07T20:01:49.546695Z",
     "start_time": "2024-03-07T20:01:19.660240Z"
    }
   },
   "id": "c965ccc84a3cfd6c",
   "execution_count": 34
  },
  {
   "cell_type": "code",
   "outputs": [
    {
     "data": {
      "text/plain": "14"
     },
     "execution_count": 37,
     "metadata": {},
     "output_type": "execute_result"
    }
   ],
   "source": [
    "text = pre_process_whitespace(summary_df[\"text\"].iloc[4])\n",
    "matches = tool.check(text)\n",
    "len(matches)"
   ],
   "metadata": {
    "collapsed": false,
    "ExecuteTime": {
     "end_time": "2024-03-07T20:02:33.379972Z",
     "start_time": "2024-03-07T20:02:32.892683Z"
    }
   },
   "id": "65f99451f83c4166",
   "execution_count": 37
  },
  {
   "cell_type": "markdown",
   "source": [],
   "metadata": {
    "collapsed": false
   },
   "id": "f5fdcb7d54f034d2"
  },
  {
   "cell_type": "code",
   "outputs": [],
   "source": [
    "def count_dict_field(matches: dict, field: str) -> dict:\n",
    "    issue_counts = {}\n",
    "    for match in matches:\n",
    "        if getattr(match, field) in issue_counts:\n",
    "            issue_counts[getattr(match, field)] += 1\n",
    "        else:\n",
    "            issue_counts[getattr(match, field)] = 1\n",
    "    return issue_counts\n",
    "\n",
    "def merge_dicts_additive(dict1: dict, dict2: dict) -> dict:\n",
    "    merged = dict1\n",
    "    for key in dict2:\n",
    "        if key in merged:\n",
    "            merged[key] += dict2[key]\n",
    "        else:\n",
    "            merged[key] = dict2[key]\n",
    "    return merged"
   ],
   "metadata": {
    "collapsed": false,
    "ExecuteTime": {
     "end_time": "2024-03-07T20:18:08.554044Z",
     "start_time": "2024-03-07T20:18:08.528986Z"
    }
   },
   "id": "bc622a2bb21e3ef4",
   "execution_count": 52
  },
  {
   "cell_type": "code",
   "outputs": [
    {
     "name": "stderr",
     "output_type": "stream",
     "text": [
      "7165it [08:32, 13.99it/s]\n"
     ]
    },
    {
     "data": {
      "text/plain": "({'TYPOS': 13552,\n  'REDUNDANCY': 436,\n  'PUNCTUATION': 2015,\n  'TYPOGRAPHY': 2129,\n  'STYLE': 283,\n  'GRAMMAR': 1057,\n  'CASING': 2063,\n  'MISC': 377,\n  'CONFUSED_WORDS': 247,\n  'NONSTANDARD_PHRASES': 8,\n  'COMPOUNDING': 25,\n  'COLLOCATIONS': 27,\n  'AMERICAN_ENGLISH_STYLE': 11,\n  'SEMANTICS': 1},\n {'misspelling': 14173,\n  'style': 730,\n  'typographical': 3888,\n  'whitespace': 2091,\n  'grammar': 1084,\n  'duplication': 143,\n  'uncategorized': 121,\n  'inconsistency': 1})"
     },
     "execution_count": 54,
     "metadata": {},
     "output_type": "execute_result"
    }
   ],
   "source": [
    "from tqdm import tqdm\n",
    "\n",
    "categories = {}\n",
    "issues = {}\n",
    "\n",
    "for row in tqdm(summary_df.iterrows()):\n",
    "    text = pre_process_whitespace(row[1][\"text\"])\n",
    "    matches = tool.check(text)\n",
    "    categories = merge_dicts_additive(categories, count_dict_field(matches, \"category\"))\n",
    "    issues = merge_dicts_additive(issues, count_dict_field(matches, \"ruleIssueType\"))\n",
    "\n",
    "categories, issues"
   ],
   "metadata": {
    "collapsed": false,
    "ExecuteTime": {
     "end_time": "2024-03-07T20:27:22.633159Z",
     "start_time": "2024-03-07T20:18:50.549203Z"
    }
   },
   "id": "5e8672069941f206",
   "execution_count": 54
  },
  {
   "cell_type": "code",
   "outputs": [
    {
     "data": {
      "text/plain": "{'misspelling': 14}"
     },
     "metadata": {},
     "output_type": "display_data"
    },
    {
     "data": {
      "text/plain": "{'TYPOS': 14}"
     },
     "metadata": {},
     "output_type": "display_data"
    }
   ],
   "source": [
    "display(count_dict_field(matches, \"ruleIssueType\"))\n",
    "display(count_dict_field(matches, \"category\"))"
   ],
   "metadata": {
    "collapsed": false,
    "ExecuteTime": {
     "end_time": "2024-03-07T20:10:13.635008Z",
     "start_time": "2024-03-07T20:10:13.611871Z"
    }
   },
   "id": "50824d2fff3dfd76",
   "execution_count": 51
  },
  {
   "cell_type": "code",
   "outputs": [
    {
     "data": {
      "text/plain": "Match({'ruleId': 'MORFOLOGIK_RULE_EN_US', 'message': 'Possible spelling mistake found.', 'replacements': ['genuinely'], 'offsetInContext': 43, 'context': '... developed rapidly because the students genuinly believed that it was the best course of...', 'offset': 54, 'errorLength': 8, 'category': 'TYPOS', 'ruleIssueType': 'misspelling', 'sentence': 'The Third Wave developed rapidly because the students genuinly believed that it was the best course of action.'})"
     },
     "execution_count": 39,
     "metadata": {},
     "output_type": "execute_result"
    }
   ],
   "source": [
    "matches[0]"
   ],
   "metadata": {
    "collapsed": false,
    "ExecuteTime": {
     "end_time": "2024-03-07T20:02:44.466812Z",
     "start_time": "2024-03-07T20:02:44.446706Z"
    }
   },
   "id": "894fa60860337d77",
   "execution_count": 39
  }
 ],
 "metadata": {
  "kernelspec": {
   "display_name": "Python 3",
   "language": "python",
   "name": "python3"
  },
  "language_info": {
   "codemirror_mode": {
    "name": "ipython",
    "version": 2
   },
   "file_extension": ".py",
   "mimetype": "text/x-python",
   "name": "python",
   "nbconvert_exporter": "python",
   "pygments_lexer": "ipython2",
   "version": "2.7.6"
  }
 },
 "nbformat": 4,
 "nbformat_minor": 5
}
