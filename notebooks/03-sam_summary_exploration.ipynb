{
 "cells": [
  {
   "cell_type": "markdown",
   "source": [
    "\n",
    "# Human Analysis Notebook\n",
    "\n",
    "This notebook is for the purpose of manually analysing the summaries in the dataset. The goal is to identify features that can be used to evaluate the quality of the summaries. This will be used to inform the design of the evaluation metric.\n",
    "\n",
    "Current ideas:\n",
    "* collapse all whitespace to single space\n",
    "* count capitalised words as features\n",
    "* assess quotation quality by comparing text in quotation marks to text in the prompts\n",
    "* measure adjective repetition\n",
    "* compare reference styles\n",
    "* measure sentence complexity and variation\n",
    "* measure sentence length summary stats (avg/max)\n",
    "* measure word complexity / complex word count\n",
    "* measure list type: asyndeton vs syndeton\n",
    "* many words joined together -- separate in pre-processing\n",
    "* Use proportion of text quoted a feature\n",
    "* Feature of sentence starting words (e.g. \"And\" = bad)\n",
    "* Feature of summary starting words (e.g. \"It\" = bad)\n",
    "* Typo count\n",
    "* Use typo-corrected versions for some features, and original for others\n",
    "* Measure use of author's name\n",
    "* Count number of references\n",
    "* Count number of citations\n",
    "* Compare summary features with other summaries of that prompt\n",
    "* For most features, use the non-quote part of the summary\n"
   ],
   "metadata": {
    "collapsed": false
   },
   "id": "368a432e1d196dc3"
  },
  {
   "cell_type": "code",
   "execution_count": 26,
   "id": "initial_id",
   "metadata": {
    "collapsed": true,
    "ExecuteTime": {
     "end_time": "2024-03-07T19:27:11.169615Z",
     "start_time": "2024-03-07T19:27:11.126772Z"
    }
   },
   "outputs": [],
   "source": [
    "from summary_eval.data import summary_df, prompts_df"
   ]
  },
  {
   "cell_type": "code",
   "outputs": [],
   "source": [
    "# shuffle rows\n",
    "summary_df = summary_df.sample(frac=1, random_state=42).reset_index(drop=True)"
   ],
   "metadata": {
    "collapsed": false,
    "ExecuteTime": {
     "end_time": "2024-03-07T18:19:51.086714Z",
     "start_time": "2024-03-07T18:19:51.074013Z"
    }
   },
   "id": "947df255c00d060a",
   "execution_count": 4
  },
  {
   "cell_type": "code",
   "outputs": [
    {
     "data": {
      "text/plain": "'The Pharaohs were leaders or believed to be gods in human form. The priest and the Nobles were responsiable for keeping the Pharaoh happy with gifts. All of the people in Egypt had to give gifts to the gods. Slavery was the main social structure. In the text it states, \" Slavery became the fate of those captured as prisoners of war. All Egyptians-from pharaohs to farmers-gave gifts to the gods.\" All of the people in Egypt had their own jobs that were given to them, but everyone was responsiable for giving gifts to the gods.'"
     },
     "execution_count": 5,
     "metadata": {},
     "output_type": "execute_result"
    }
   ],
   "source": [
    "summary_df[\"text\"].iloc[0]"
   ],
   "metadata": {
    "collapsed": false,
    "ExecuteTime": {
     "end_time": "2024-03-07T18:19:52.449487Z",
     "start_time": "2024-03-07T18:19:52.441461Z"
    }
   },
   "id": "75cce2ca28918f69",
   "execution_count": 5
  },
  {
   "cell_type": "markdown",
   "source": [
    "Comments:\n",
    "* Some bad capitalisation\n",
    "* Some unnecessary spaces\n",
    "* No spaces around dashes\n",
    "* IDEA: collapse all whitespace to single space\n",
    "* IDEA: count capitalised words as features"
   ],
   "metadata": {
    "collapsed": false
   },
   "id": "3585092c06199e4a"
  },
  {
   "cell_type": "code",
   "outputs": [
    {
     "data": {
      "text/plain": "'     The Egyptian system of government was structured like the pyramids they built. The most important people were at the top of the pyramid and the less important people were at the bottom of the pyramid. Some evidence from the text is, \"Egyptian society was structured like a pyramid. At the top were the gods, such as Ra, Osiris, and Isis.\"'"
     },
     "execution_count": 6,
     "metadata": {},
     "output_type": "execute_result"
    }
   ],
   "source": [
    "summary_df[\"text\"].iloc[1]"
   ],
   "metadata": {
    "collapsed": false,
    "ExecuteTime": {
     "end_time": "2024-03-07T18:21:02.887732Z",
     "start_time": "2024-03-07T18:21:02.875566Z"
    }
   },
   "id": "27f3883b14abcba5",
   "execution_count": 6
  },
  {
   "cell_type": "markdown",
   "source": [
    "Comments:\n",
    "* Whitespace padding at beginning\n",
    "* Coped directly from text\n",
    "* IDEA: assess quotation quality by comparing text in quotation marks to text in the prompts"
   ],
   "metadata": {
    "collapsed": false
   },
   "id": "30f9415456580b03"
  },
  {
   "cell_type": "code",
   "outputs": [
    {
     "data": {
      "text/plain": "'They would use every single piece of meat they had even if it was moldy. They would either cut it up into sausage as cited in paragraph 1.  Or they would put it in chemicals to make it look like its not moldy as cited in paragraph 5. '"
     },
     "execution_count": 8,
     "metadata": {},
     "output_type": "execute_result"
    }
   ],
   "source": [
    "summary_df[\"text\"].iloc[2]"
   ],
   "metadata": {
    "collapsed": false,
    "ExecuteTime": {
     "end_time": "2024-03-07T18:22:27.792478Z",
     "start_time": "2024-03-07T18:22:27.777956Z"
    }
   },
   "id": "956c804ce5fadfd7",
   "execution_count": 8
  },
  {
   "cell_type": "markdown",
   "source": [
    "Comments:\n",
    "* Repetition of adjectives\n",
    "* IDEA: measure adjective repetition\n",
    "* Double spacing\n",
    "* Paragraph index references\n",
    "* Simple sentences only\n",
    "* IDEA: compare reference styles\n",
    "* IDEA: measure sentence complexity and variation"
   ],
   "metadata": {
    "collapsed": false
   },
   "id": "25d82a492144ad0c"
  },
  {
   "cell_type": "code",
   "outputs": [
    {
     "data": {
      "text/plain": "'When meat spoiled, the factory would can the meat or chop it into sausage, continuing to send it off for people to eat.  Often, meat that is found sour would be rubbed with soda to remove the smell, and they also invented a machine that would plunge a needle into the meat to fill ham with pickle, which would eliminate the odor of the ham. Eventually, someone found out that removing the bone and inserting a white-hot iron as another way of using spoiled meat before selling it.'"
     },
     "execution_count": 9,
     "metadata": {},
     "output_type": "execute_result"
    }
   ],
   "source": [
    "summary_df[\"text\"].iloc[3]"
   ],
   "metadata": {
    "collapsed": false,
    "ExecuteTime": {
     "end_time": "2024-03-07T18:23:24.081830Z",
     "start_time": "2024-03-07T18:23:24.061050Z"
    }
   },
   "id": "470c830a700cbeac",
   "execution_count": 9
  },
  {
   "cell_type": "markdown",
   "source": [
    "Comments:\n",
    "* An excessively long sentence\n",
    "* IDEA: measure sentence length summary stats (avg/max)"
   ],
   "metadata": {
    "collapsed": false
   },
   "id": "dd38b1fc201bbf13"
  },
  {
   "cell_type": "code",
   "outputs": [
    {
     "data": {
      "text/plain": "'It should be complex that excites pity and fear, the man should not be good or bad and his misfortune is from error of judgment or frailty, the change of fortune should be good to bad.'"
     },
     "execution_count": 10,
     "metadata": {},
     "output_type": "execute_result"
    }
   ],
   "source": [
    "summary_df[\"text\"].iloc[4]"
   ],
   "metadata": {
    "collapsed": false,
    "ExecuteTime": {
     "end_time": "2024-03-07T18:24:36.878545Z",
     "start_time": "2024-03-07T18:24:36.861263Z"
    }
   },
   "id": "d7b92b59b66d5f07",
   "execution_count": 10
  },
  {
   "cell_type": "markdown",
   "source": [
    "Comments:\n",
    "* Complex words but doesn't make sense.\n",
    "* IDEA: measure word complexity / complex word count"
   ],
   "metadata": {
    "collapsed": false
   },
   "id": "6dc43b070bda7e12"
  },
  {
   "cell_type": "code",
   "outputs": [
    {
     "data": {
      "text/plain": "'Pharos and nobels were at the top and the slaves and servants are at the base and the bottom they work hard for the nobles and the Pharos'"
     },
     "execution_count": 11,
     "metadata": {},
     "output_type": "execute_result"
    }
   ],
   "source": [
    "summary_df[\"text\"].iloc[5]"
   ],
   "metadata": {
    "collapsed": false,
    "ExecuteTime": {
     "end_time": "2024-03-07T18:25:34.372202Z",
     "start_time": "2024-03-07T18:25:34.363242Z"
    }
   },
   "id": "b54252fe90e59c23",
   "execution_count": 11
  },
  {
   "cell_type": "markdown",
   "source": [
    "Comments:\n",
    "* Misspelling.\n",
    "* No punctuation used.\n",
    "* Overly syndetic (\"and\"-based) listing.\n",
    "* Single sentence -- short."
   ],
   "metadata": {
    "collapsed": false
   },
   "id": "55d791d95cc234c0"
  },
  {
   "cell_type": "code",
   "outputs": [
    {
     "data": {
      "text/plain": "'The students were drawn towards the experiment because it gave them a sense of superiority. They felt a bond because they saluted eachother and were a part of an \"exclusive\" club, which caused them to deviate from normal behavior. The experiment spread so fast because the students all wanted to be included. The experiment ended because students were too involved in the project and it could have led to a division within the school.'"
     },
     "execution_count": 12,
     "metadata": {},
     "output_type": "execute_result"
    }
   ],
   "source": [
    "summary_df[\"text\"].iloc[6]"
   ],
   "metadata": {
    "collapsed": false,
    "ExecuteTime": {
     "end_time": "2024-03-07T18:26:45.988511Z",
     "start_time": "2024-03-07T18:26:45.973548Z"
    }
   },
   "id": "4889ca969db6b80f",
   "execution_count": 12
  },
  {
   "cell_type": "markdown",
   "source": [
    "Comments:\n",
    "* Words joined together (\"eachother\"), likely a result of bad OCR.\n",
    "* Nice mix of sentence structures.\n",
    "* Mostly summarisation with a small quote used for evidence."
   ],
   "metadata": {
    "collapsed": false
   },
   "id": "589f774ce5fdf0d8"
  },
  {
   "cell_type": "code",
   "outputs": [
    {
     "data": {
      "text/plain": "'The factory had multiple ways to cover up spoiled meat. One of them may be to chop it into sausage or to can it. The txt states, \"Whenever meat was so spoiled it cold not be used for anything else, either to can it or else to chop it up into sausage.\" (Sinclair Par. 1).  Another method would be using pickle to take away the bad odor to make it smell good as new. The text states, \"They would rub it up with soda to take away the smell, and sell it to eaten...\" (Sinclair Par. 2). '"
     },
     "execution_count": 13,
     "metadata": {},
     "output_type": "execute_result"
    }
   ],
   "source": [
    "summary_df[\"text\"].iloc[7]"
   ],
   "metadata": {
    "collapsed": false,
    "ExecuteTime": {
     "end_time": "2024-03-07T18:28:42.338583Z",
     "start_time": "2024-03-07T18:28:42.325964Z"
    }
   },
   "id": "fb213d2da6aa2aa7",
   "execution_count": 13
  },
  {
   "cell_type": "markdown",
   "source": [
    "Comments:\n",
    "* Typo: \"txt\" instead of \"text\", \"cold\" instead of \"could\"\n",
    "* Unique referencing style: \"(Sinclair Par. 1)\"\n",
    "* Excessive use of quotations\n",
    "* IDEA: Use proportion of text in quotes as a feature"
   ],
   "metadata": {
    "collapsed": false
   },
   "id": "97a9bd8ce77cfdb4"
  },
  {
   "cell_type": "code",
   "outputs": [
    {
     "data": {
      "text/plain": "'    In the excerpt, \"The Jungle\" by Upton Sinclair, describes the various ways factories would use and cover up spoiled meat that would be sold to the public.  In paragraph two, it explains a process on how the workers would find sour meat and they would get rid of the smell by rubbing it with soda and then selling it to the public. '"
     },
     "execution_count": 14,
     "metadata": {},
     "output_type": "execute_result"
    }
   ],
   "source": [
    "summary_df[\"text\"].iloc[8]"
   ],
   "metadata": {
    "collapsed": false,
    "ExecuteTime": {
     "end_time": "2024-03-07T18:30:36.930754Z",
     "start_time": "2024-03-07T18:30:36.910222Z"
    }
   },
   "id": "572ba9e18e7a6ac",
   "execution_count": 14
  },
  {
   "cell_type": "markdown",
   "source": [
    "Comments:\n",
    "* More whitespace padding.\n",
    "* Introduces the title and author.\n",
    "* Double spacing.\n",
    "* Nice summary."
   ],
   "metadata": {
    "collapsed": false
   },
   "id": "3e8f1d4ded67d7f1"
  },
  {
   "cell_type": "code",
   "outputs": [
    {
     "data": {
      "text/plain": "'Some of the ways was to rub it with soda, using chemicals, and to use a pickle machine. Paragraph 2 says \"Jonas had told them how the meat that was taken out of pickle would often be found sour, and how they would rub it up with soda to take away the smell\". Also, \"all the miracles of chemistry which they performed.\" Lastly, \"there would be hams found spoiled, so they pumped a stronger pickle to destroy the odor.\"'"
     },
     "execution_count": 15,
     "metadata": {},
     "output_type": "execute_result"
    }
   ],
   "source": [
    "summary_df[\"text\"].iloc[9]"
   ],
   "metadata": {
    "collapsed": false,
    "ExecuteTime": {
     "end_time": "2024-03-07T18:31:51.312174Z",
     "start_time": "2024-03-07T18:31:51.296798Z"
    }
   },
   "id": "d4ca482e65fb62cb",
   "execution_count": 15
  },
  {
   "cell_type": "markdown",
   "source": [
    "Comments:\n",
    "* No introduction.\n",
    "* Extremely excessive use of quotations."
   ],
   "metadata": {
    "collapsed": false
   },
   "id": "6f98480356a71105"
  },
  {
   "cell_type": "code",
   "outputs": [
    {
     "data": {
      "text/plain": "'On the top of the classes are gods they are the first class. The nobles  are to pleasing the gods. And in the middle class ar eskilled workers. They jobs is to make and sell jewelry, pottery, paprus products, and tools. And the last class are slaves and farmers. They jobs is to build and watch over the animals. How is it involved in the government. Farmers are still need to watch over animals and make sure to feed them. And craftsmen are still need to make tools and jewelry. '"
     },
     "execution_count": 16,
     "metadata": {},
     "output_type": "execute_result"
    }
   ],
   "source": [
    "summary_df[\"text\"].iloc[10]"
   ],
   "metadata": {
    "collapsed": false,
    "ExecuteTime": {
     "end_time": "2024-03-07T18:32:27.990795Z",
     "start_time": "2024-03-07T18:32:27.982228Z"
    }
   },
   "id": "9ee5bc53d691b7",
   "execution_count": 16
  },
  {
   "cell_type": "markdown",
   "source": [
    "Comments:\n",
    "* Repeats the same meaning in different words.\n",
    "* Double spacing.\n",
    "* Starts sentences with \"and\".\n",
    "* Spacing in wrong position: \"ar eskilled workers\".\n",
    "* Wrong use of They/Their/They're."
   ],
   "metadata": {
    "collapsed": false
   },
   "id": "d9203258c72d8b07"
  },
  {
   "cell_type": "code",
   "outputs": [
    {
     "data": {
      "text/plain": "'Aristotle was very clear about 3 elemts of an ideal tradgedy. First, he said that the conflict should occur to an average man, not good nor bad, and it would occur because of a simple mistake. This would make it surprising and more relateable. Then, Aristotle said tradgedies should not end on a good note, but a bad note. This would again be surprising and play with peoples emotions much more. It woud inspire \"neither pity nor fear\". Finally, Aistotle said that an ideal tradgedy would have one plot with one issue. This would keep focus and lead viewers/readers to become much more invested in the single conflcit.'"
     },
     "execution_count": 17,
     "metadata": {},
     "output_type": "execute_result"
    }
   ],
   "source": [
    "summary_df[\"text\"].iloc[11]"
   ],
   "metadata": {
    "collapsed": false,
    "ExecuteTime": {
     "end_time": "2024-03-07T18:34:42.822444Z",
     "start_time": "2024-03-07T18:34:42.808439Z"
    }
   },
   "id": "31624b9265214c2",
   "execution_count": 17
  },
  {
   "cell_type": "markdown",
   "source": [
    "Comments:\n",
    "* Typo: \"elemts\", \"tradgedy\", \"conflcit\"\n",
    "* Uses numbers instead of words: \"3\" instead of \"three\"\n",
    "* Nice balance of quotation and summarisation\n",
    "* Use of author's name\n",
    "* IDEA: Use typo-corrected versions for some features, and original for others"
   ],
   "metadata": {
    "collapsed": false
   },
   "id": "bf7ff9180f531f33"
  },
  {
   "cell_type": "code",
   "outputs": [
    {
     "data": {
      "text/plain": "'An ideal tragedy should be arranged on a complex plan,  should imitate actions which excite pity and fear, and should go from good to bad instead of bad to good as described by Aristotle.'"
     },
     "execution_count": 18,
     "metadata": {},
     "output_type": "execute_result"
    }
   ],
   "source": [
    "summary_df[\"text\"].iloc[12]"
   ],
   "metadata": {
    "collapsed": false,
    "ExecuteTime": {
     "end_time": "2024-03-07T18:36:41.324864Z",
     "start_time": "2024-03-07T18:36:41.315997Z"
    }
   },
   "id": "42421ec2f146ea10",
   "execution_count": 18
  },
  {
   "cell_type": "markdown",
   "source": [
    "Comments:\n",
    "* No introduction.\n",
    "* Double spacing.\n",
    "* No comma in list.\n",
    "* Uses Author.\n",
    "* Single sentence.\n",
    "* IDEA: Use author's name count as a feature."
   ],
   "metadata": {
    "collapsed": false
   },
   "id": "add025694b34382a"
  },
  {
   "cell_type": "code",
   "outputs": [
    {
     "data": {
      "text/plain": "'Diffrent social classes were involved in the Egyptian goverment because the pharaohs direct the army in an event of a raid and protect the people, their social classes are shaped like a pyramd, gods on the top, below the pharaoh were the nobles and preists, at the bottom were slaves and farmers. '"
     },
     "execution_count": 19,
     "metadata": {},
     "output_type": "execute_result"
    }
   ],
   "source": [
    "summary_df[\"text\"].iloc[13]"
   ],
   "metadata": {
    "collapsed": false,
    "ExecuteTime": {
     "end_time": "2024-03-07T18:37:42.742555Z",
     "start_time": "2024-03-07T18:37:42.724897Z"
    }
   },
   "id": "29ff26f090dac121",
   "execution_count": 19
  },
  {
   "cell_type": "markdown",
   "source": [
    "Comments:\n",
    "* Typos: \"Diffrent\", \"pyramd\"\n",
    "* One huge sentence.\n",
    "* Advanced vocabulary: \"social classes\", \"government\", \"pharoah\", \"nobles\"."
   ],
   "metadata": {
    "collapsed": false
   },
   "id": "27c883b32013c555"
  },
  {
   "cell_type": "code",
   "outputs": [
    {
     "data": {
      "text/plain": "'    At the top of the list where the gods like ra osris and lsis egyptians belive they controlled the earth. The eyptains belived some human bei'"
     },
     "execution_count": 20,
     "metadata": {},
     "output_type": "execute_result"
    }
   ],
   "source": [
    "summary_df[\"text\"].iloc[14]"
   ],
   "metadata": {
    "collapsed": false,
    "ExecuteTime": {
     "end_time": "2024-03-07T18:38:52.300100Z",
     "start_time": "2024-03-07T18:38:52.284218Z"
    }
   },
   "id": "bdbb9243ef1306c2",
   "execution_count": 20
  },
  {
   "cell_type": "markdown",
   "source": [
    "Comments:\n",
    "* Summary cut short\n",
    "* Whitespaces at beginning\n",
    "* No capitalisation on proper nouns\n",
    "* Typos"
   ],
   "metadata": {
    "collapsed": false
   },
   "id": "ba355850172fae7b"
  },
  {
   "cell_type": "code",
   "outputs": [
    {
     "data": {
      "text/plain": "\"In the first paragraph it states that whenever meat is spoiled and couldn't be used for anything else that they would  either can it or chop it into sausage. Also at the beggining of paragraph two it states how the meat that was taken out of pickle would often be found sour, and how they would rub it up with soda to take away the smell, and sell it to be eaten on free-lunch counters.\""
     },
     "execution_count": 21,
     "metadata": {},
     "output_type": "execute_result"
    }
   ],
   "source": [
    "summary_df[\"text\"].iloc[15]"
   ],
   "metadata": {
    "collapsed": false,
    "ExecuteTime": {
     "end_time": "2024-03-07T18:39:37.434975Z",
     "start_time": "2024-03-07T18:39:37.412902Z"
    }
   },
   "id": "ec6810d49d38c959",
   "execution_count": 21
  },
  {
   "cell_type": "markdown",
   "source": [
    "Comments:\n",
    "* Double spacing.\n",
    "* Smooth referencing, but over-referenced"
   ],
   "metadata": {
    "collapsed": false
   },
   "id": "e4d30225693925c3"
  },
  {
   "cell_type": "code",
   "outputs": [
    {
     "data": {
      "text/plain": "'It developed so fast due to the students who spread it to their friends, it also probably was easily spread because it made the students feel like they were apart of something bigger. But eventually the experiment was ended due to how exstreme the students had become about it.'"
     },
     "execution_count": 22,
     "metadata": {},
     "output_type": "execute_result"
    }
   ],
   "source": [
    "summary_df[\"text\"].iloc[16]"
   ],
   "metadata": {
    "collapsed": false,
    "ExecuteTime": {
     "end_time": "2024-03-07T18:40:34.989008Z",
     "start_time": "2024-03-07T18:40:34.979007Z"
    }
   },
   "id": "838623689c535f26",
   "execution_count": 22
  },
  {
   "cell_type": "markdown",
   "source": [
    "Comments:\n",
    "* Starts summary with \"It\".\n",
    "* Never describes what \"it\" is.\n",
    "* Typos.\n",
    "* Short."
   ],
   "metadata": {
    "collapsed": false
   },
   "id": "adc1c4a3e75fdfe9"
  },
  {
   "cell_type": "code",
   "outputs": [
    {
     "data": {
      "text/plain": "'The structure of the ancient Egyptian system was \"structured like a pyramid.\" \"At the top were gods\", Pharaohs were believed to be gods in human form. Farmers, being at the lowest rank, had to pay grain taxes to the Pharaoh and government, which helped the Egyptians \"in the event of a famine.\"'"
     },
     "execution_count": 23,
     "metadata": {},
     "output_type": "execute_result"
    }
   ],
   "source": [
    "summary_df[\"text\"].iloc[17]"
   ],
   "metadata": {
    "collapsed": false,
    "ExecuteTime": {
     "end_time": "2024-03-07T18:41:39.448232Z",
     "start_time": "2024-03-07T18:41:39.434698Z"
    }
   },
   "id": "ad4c0e77ebc625f5",
   "execution_count": 23
  },
  {
   "cell_type": "markdown",
   "source": [
    "Comments:\n",
    "* Slightly over-referenced.\n",
    "* Repetition of words from within quotes.\n",
    "* Nice sentence complexity."
   ],
   "metadata": {
    "collapsed": false
   },
   "id": "37ae59271bb5e6d2"
  },
  {
   "cell_type": "code",
   "outputs": [
    {
     "data": {
      "text/plain": "'Tragedy should contain and replicate actions that incite pity and fear towards the subjects. Most tragedies should end in pitiful, unhappy endings. Tragedies should be complex and different from the general storyline.'"
     },
     "execution_count": 24,
     "metadata": {},
     "output_type": "execute_result"
    }
   ],
   "source": [
    "summary_df[\"text\"].iloc[18]"
   ],
   "metadata": {
    "collapsed": false,
    "ExecuteTime": {
     "end_time": "2024-03-07T18:42:42.510710Z",
     "start_time": "2024-03-07T18:42:42.497901Z"
    }
   },
   "id": "fcbdeb36831ef4cc",
   "execution_count": 24
  },
  {
   "cell_type": "markdown",
   "source": [
    "Comments:\n",
    "* Says author's ideas like they are their own.\n",
    "* Slightly too terse."
   ],
   "metadata": {
    "collapsed": false
   },
   "id": "7ab23f31c5ba2e37"
  },
  {
   "cell_type": "code",
   "outputs": [
    {
     "data": {
      "text/plain": "'\"By the fourth day of the experiment, the students became increasingly involved in the project and their discipline and loyalty to the project was so outstanding that Jones felt it was slipping out of control. He decided to terminate the movement, so he lied to students by announcing that the Third Wave was a part of a nationwide movement and that on the next day a presidential candidate of the movement would publicly announce its existence on television,\"said Jones. The wave develpoed over a short time because people wantd to join thecrowd.'"
     },
     "execution_count": 25,
     "metadata": {},
     "output_type": "execute_result"
    }
   ],
   "source": [
    "summary_df[\"text\"].iloc[19]"
   ],
   "metadata": {
    "collapsed": false,
    "ExecuteTime": {
     "end_time": "2024-03-07T18:44:17.584970Z",
     "start_time": "2024-03-07T18:44:17.577553Z"
    }
   },
   "id": "39f668d2f1596a14",
   "execution_count": 25
  },
  {
   "cell_type": "markdown",
   "source": [
    "Comments:\n",
    "* Almost entire summary is a quote.\n",
    "* The part which is note a quote is badly written.\n",
    "* IDEA: For most features, use the non-quote part of the summary"
   ],
   "metadata": {
    "collapsed": false
   },
   "id": "202e96e0ab57392f"
  }
 ],
 "metadata": {
  "kernelspec": {
   "display_name": "Python 3",
   "language": "python",
   "name": "python3"
  },
  "language_info": {
   "codemirror_mode": {
    "name": "ipython",
    "version": 2
   },
   "file_extension": ".py",
   "mimetype": "text/x-python",
   "name": "python",
   "nbconvert_exporter": "python",
   "pygments_lexer": "ipython2",
   "version": "2.7.6"
  }
 },
 "nbformat": 4,
 "nbformat_minor": 5
}
